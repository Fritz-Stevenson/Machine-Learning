{
 "cells": [
  {
   "cell_type": "markdown",
   "id": "371ff604",
   "metadata": {},
   "source": [
    "## Intro to Numpy"
   ]
  },
  {
   "cell_type": "code",
   "execution_count": 3,
   "id": "6b005afb",
   "metadata": {},
   "outputs": [
    {
     "name": "stdout",
     "output_type": "stream",
     "text": [
      "<class 'numpy.ndarray'>\n",
      "[ 2 10 17  2  7  9 16  8 19  8]\n"
     ]
    }
   ],
   "source": [
    "import numpy as np\n",
    "import random\n",
    "a =np.array([random.randint(0,21) for i in range(10)])\n",
    "print(type(a))\n",
    "print(a)"
   ]
  },
  {
   "cell_type": "code",
   "execution_count": 13,
   "id": "c64702d3",
   "metadata": {},
   "outputs": [
    {
     "name": "stdout",
     "output_type": "stream",
     "text": [
      "(2, 3, 4)\n",
      "24\n",
      "int32\n",
      "<class 'numpy.ndarray'>\n"
     ]
    }
   ],
   "source": [
    "a1 = np.array([[[1,0,1,0],[1,1,1,0],[0,0,0,1]], [[1,1,1,0],[1,0,0,0],[1,0,0,1]]])\n",
    "print(a1.shape)\n",
    "print(a1.size)\n",
    "print(a1.dtype)\n",
    "print(type(a1))"
   ]
  },
  {
   "cell_type": "code",
   "execution_count": 16,
   "id": "984ab879",
   "metadata": {},
   "outputs": [
    {
     "data": {
      "text/html": [
       "<div>\n",
       "<style scoped>\n",
       "    .dataframe tbody tr th:only-of-type {\n",
       "        vertical-align: middle;\n",
       "    }\n",
       "\n",
       "    .dataframe tbody tr th {\n",
       "        vertical-align: top;\n",
       "    }\n",
       "\n",
       "    .dataframe thead th {\n",
       "        text-align: right;\n",
       "    }\n",
       "</style>\n",
       "<table border=\"1\" class=\"dataframe\">\n",
       "  <thead>\n",
       "    <tr style=\"text-align: right;\">\n",
       "      <th></th>\n",
       "      <th>0</th>\n",
       "      <th>1</th>\n",
       "      <th>2</th>\n",
       "      <th>3</th>\n",
       "    </tr>\n",
       "  </thead>\n",
       "  <tbody>\n",
       "    <tr>\n",
       "      <th>0</th>\n",
       "      <td>1</td>\n",
       "      <td>1</td>\n",
       "      <td>1</td>\n",
       "      <td>0</td>\n",
       "    </tr>\n",
       "    <tr>\n",
       "      <th>1</th>\n",
       "      <td>1</td>\n",
       "      <td>0</td>\n",
       "      <td>0</td>\n",
       "      <td>0</td>\n",
       "    </tr>\n",
       "    <tr>\n",
       "      <th>2</th>\n",
       "      <td>1</td>\n",
       "      <td>0</td>\n",
       "      <td>0</td>\n",
       "      <td>1</td>\n",
       "    </tr>\n",
       "  </tbody>\n",
       "</table>\n",
       "</div>"
      ],
      "text/plain": [
       "   0  1  2  3\n",
       "0  1  1  1  0\n",
       "1  1  0  0  0\n",
       "2  1  0  0  1"
      ]
     },
     "execution_count": 16,
     "metadata": {},
     "output_type": "execute_result"
    }
   ],
   "source": [
    "import pandas as pd\n",
    "df = pd.DataFrame(a1[1])\n",
    "#if there are three dimensions, you will have to select a single object for display in a pandas DataFrame\n",
    "df"
   ]
  },
  {
   "cell_type": "markdown",
   "id": "0305c5d7",
   "metadata": {},
   "source": [
    "## Creating Numpy Arrays"
   ]
  },
  {
   "cell_type": "code",
   "execution_count": 30,
   "id": "d5d0a9cb",
   "metadata": {},
   "outputs": [
    {
     "name": "stdout",
     "output_type": "stream",
     "text": [
      "1\n",
      " [1. 1. 1.]\n",
      "2\n",
      " [[1. 1. 1.]\n",
      " [1. 1. 1.]\n",
      " [1. 1. 1.]]\n",
      "3\n",
      " [[[1. 1. 1.]\n",
      "  [1. 1. 1.]\n",
      "  [1. 1. 1.]]\n",
      "\n",
      " [[1. 1. 1.]\n",
      "  [1. 1. 1.]\n",
      "  [1. 1. 1.]]\n",
      "\n",
      " [[1. 1. 1.]\n",
      "  [1. 1. 1.]\n",
      "  [1. 1. 1.]]]\n"
     ]
    }
   ],
   "source": [
    "auto_array = np.ones((3))\n",
    "print('1\\n', auto_array)\n",
    "auto_array2 = np.ones((3,3))\n",
    "print('2\\n', auto_array2)\n",
    "auto_array3 = np.ones((3,3,3))\n",
    "print('3\\n', auto_array3)"
   ]
  },
  {
   "cell_type": "code",
   "execution_count": 28,
   "id": "c8c325a0",
   "metadata": {},
   "outputs": [
    {
     "data": {
      "text/plain": [
       "array([[0., 0., 0.],\n",
       "       [0., 0., 0.]])"
      ]
     },
     "execution_count": 28,
     "metadata": {},
     "output_type": "execute_result"
    }
   ],
   "source": [
    "zeros_array = np.zeros((2,3))\n",
    "zeros_array"
   ]
  },
  {
   "cell_type": "code",
   "execution_count": 26,
   "id": "e241210a",
   "metadata": {},
   "outputs": [
    {
     "data": {
      "text/plain": [
       "array([ 0,  7, 14, 21, 28, 35, 42, 49, 56, 63, 70, 77, 84, 91, 98])"
      ]
     },
     "execution_count": 26,
     "metadata": {},
     "output_type": "execute_result"
    }
   ],
   "source": [
    "range_step = np.arange(0,100,7)\n",
    "range_step"
   ]
  },
  {
   "cell_type": "code",
   "execution_count": 29,
   "id": "bfb8fc8d",
   "metadata": {},
   "outputs": [
    {
     "data": {
      "text/plain": [
       "array([[59,  7, 79, 18, 33],\n",
       "       [22, 83, 43, 70, 28]])"
      ]
     },
     "execution_count": 29,
     "metadata": {},
     "output_type": "execute_result"
    }
   ],
   "source": [
    "random_array = np.random.randint(0,100, size=(2,5))\n",
    "random_array"
   ]
  },
  {
   "cell_type": "markdown",
   "id": "16211302",
   "metadata": {},
   "source": [
    "## Random Seed\n",
    "Reproducible psuedo-random numbers"
   ]
  },
  {
   "cell_type": "code",
   "execution_count": 37,
   "id": "24522bdd",
   "metadata": {},
   "outputs": [
    {
     "data": {
      "text/plain": [
       "array([[5, 0, 3, 3, 7],\n",
       "       [9, 3, 5, 2, 4],\n",
       "       [7, 6, 8, 8, 1],\n",
       "       [6, 7, 7, 8, 1],\n",
       "       [5, 9, 8, 9, 4],\n",
       "       [3, 0, 3, 5, 0],\n",
       "       [2, 3, 8, 1, 3]])"
      ]
     },
     "execution_count": 37,
     "metadata": {},
     "output_type": "execute_result"
    }
   ],
   "source": [
    "np.random.seed(seed=0)\n",
    "random2 = np.random.randint(0,10, size=(7,5))\n",
    "random2"
   ]
  },
  {
   "cell_type": "code",
   "execution_count": 39,
   "id": "bf47c1a6",
   "metadata": {},
   "outputs": [
    {
     "data": {
      "text/plain": [
       "array([[0.07630829, 0.77991879, 0.43840923, 0.72346518, 0.97798951],\n",
       "       [0.53849587, 0.50112046, 0.07205113, 0.26843898, 0.4998825 ],\n",
       "       [0.67923   , 0.80373904, 0.38094113, 0.06593635, 0.2881456 ],\n",
       "       [0.90959353, 0.21338535, 0.45212396, 0.93120602, 0.02489923],\n",
       "       [0.60054892, 0.9501295 , 0.23030288, 0.54848992, 0.90912837],\n",
       "       [0.13316945, 0.52341258, 0.75040986, 0.66901324, 0.46775286],\n",
       "       [0.20484909, 0.49076589, 0.37238469, 0.47740115, 0.36589039]])"
      ]
     },
     "execution_count": 39,
     "metadata": {},
     "output_type": "execute_result"
    }
   ],
   "source": [
    "np.random.seed(seed=7)\n",
    "random3 =np.random.random((7,5))\n",
    "random3"
   ]
  },
  {
   "cell_type": "code",
   "execution_count": 41,
   "id": "bdb4aae7",
   "metadata": {},
   "outputs": [
    {
     "data": {
      "text/plain": [
       "array([[0.07630829, 0.77991879, 0.43840923, 0.72346518, 0.97798951]])"
      ]
     },
     "execution_count": 41,
     "metadata": {},
     "output_type": "execute_result"
    }
   ],
   "source": [
    "np.random.seed(seed=7)\n",
    "random4 =np.random.random((1,5))\n",
    "random4"
   ]
  },
  {
   "cell_type": "markdown",
   "id": "7575fd31",
   "metadata": {},
   "source": [
    "## Viewing Arrays and Matrices"
   ]
  },
  {
   "cell_type": "code",
   "execution_count": 43,
   "id": "b4f69311",
   "metadata": {},
   "outputs": [
    {
     "data": {
      "text/plain": [
       "array([0, 1, 2, 3, 4, 5, 6, 7, 8, 9])"
      ]
     },
     "execution_count": 43,
     "metadata": {},
     "output_type": "execute_result"
    }
   ],
   "source": [
    "np.unique(random2)"
   ]
  },
  {
   "cell_type": "code",
   "execution_count": 44,
   "id": "9159d932",
   "metadata": {},
   "outputs": [
    {
     "data": {
      "text/plain": [
       "1.0"
      ]
     },
     "execution_count": 44,
     "metadata": {},
     "output_type": "execute_result"
    }
   ],
   "source": [
    "auto_array[0]"
   ]
  },
  {
   "cell_type": "code",
   "execution_count": 45,
   "id": "57a830fa",
   "metadata": {},
   "outputs": [
    {
     "data": {
      "text/plain": [
       "array([1., 1., 1.])"
      ]
     },
     "execution_count": 45,
     "metadata": {},
     "output_type": "execute_result"
    }
   ],
   "source": [
    "auto_array2[0]"
   ]
  },
  {
   "cell_type": "code",
   "execution_count": 46,
   "id": "e6f204d3",
   "metadata": {},
   "outputs": [
    {
     "data": {
      "text/plain": [
       "array([[1., 1., 1.],\n",
       "       [1., 1., 1.],\n",
       "       [1., 1., 1.]])"
      ]
     },
     "execution_count": 46,
     "metadata": {},
     "output_type": "execute_result"
    }
   ],
   "source": [
    "auto_array3[0]"
   ]
  },
  {
   "cell_type": "code",
   "execution_count": 49,
   "id": "319c99b4",
   "metadata": {},
   "outputs": [
    {
     "data": {
      "text/plain": [
       "array([[[1.]]])"
      ]
     },
     "execution_count": 49,
     "metadata": {},
     "output_type": "execute_result"
    }
   ],
   "source": [
    "auto_array3[-1:,-1:,-1:]"
   ]
  },
  {
   "cell_type": "code",
   "execution_count": 53,
   "id": "728c07c4",
   "metadata": {},
   "outputs": [
    {
     "data": {
      "text/plain": [
       "array([[[[7, 0, 5, 8, 9],\n",
       "         [7, 7, 6, 2, 5],\n",
       "         [6, 1, 9, 3, 4],\n",
       "         [0, 3, 5, 6, 4]],\n",
       "\n",
       "        [[0, 4, 1, 5, 2],\n",
       "         [4, 8, 7, 5, 7],\n",
       "         [5, 3, 7, 6, 2],\n",
       "         [3, 1, 1, 8, 4]],\n",
       "\n",
       "        [[2, 1, 7, 0, 8],\n",
       "         [8, 1, 2, 3, 0],\n",
       "         [1, 1, 5, 5, 6],\n",
       "         [0, 9, 3, 2, 4]]],\n",
       "\n",
       "\n",
       "       [[[2, 8, 4, 9, 0],\n",
       "         [0, 2, 6, 3, 9],\n",
       "         [5, 4, 6, 9, 9],\n",
       "         [9, 4, 8, 2, 4]],\n",
       "\n",
       "        [[6, 5, 3, 5, 2],\n",
       "         [6, 4, 3, 2, 5],\n",
       "         [9, 7, 5, 8, 5],\n",
       "         [2, 0, 9, 3, 2]],\n",
       "\n",
       "        [[2, 4, 3, 4, 8],\n",
       "         [7, 0, 2, 7, 8],\n",
       "         [8, 4, 0, 4, 1],\n",
       "         [7, 4, 9, 0, 1]]]])"
      ]
     },
     "execution_count": 53,
     "metadata": {},
     "output_type": "execute_result"
    }
   ],
   "source": [
    "#make a big array \n",
    "big_array = np.random.randint(0,10,size=(2,3,4,5))\n",
    "big_array"
   ]
  },
  {
   "cell_type": "code",
   "execution_count": 1,
   "id": "0dda1a62",
   "metadata": {},
   "outputs": [
    {
     "ename": "NameError",
     "evalue": "name 'big_array' is not defined",
     "output_type": "error",
     "traceback": [
      "\u001b[1;31m---------------------------------------------------------------------------\u001b[0m",
      "\u001b[1;31mNameError\u001b[0m                                 Traceback (most recent call last)",
      "\u001b[1;32m<ipython-input-1-b5470ccd04c3>\u001b[0m in \u001b[0;36m<module>\u001b[1;34m\u001b[0m\n\u001b[0;32m      1\u001b[0m \u001b[1;31m#get all 5 values of the first 1st-dimensional unit from the last 2nd-dimensional unit\u001b[0m\u001b[1;33m\u001b[0m\u001b[1;33m\u001b[0m\u001b[1;33m\u001b[0m\u001b[0m\n\u001b[1;32m----> 2\u001b[1;33m \u001b[0mbig_array\u001b[0m\u001b[1;33m[\u001b[0m\u001b[1;33m-\u001b[0m\u001b[1;36m1\u001b[0m\u001b[1;33m:\u001b[0m\u001b[1;33m,\u001b[0m\u001b[1;33m-\u001b[0m\u001b[1;36m1\u001b[0m\u001b[1;33m:\u001b[0m\u001b[1;33m,\u001b[0m\u001b[1;36m0\u001b[0m\u001b[1;33m,\u001b[0m\u001b[1;33m:\u001b[0m\u001b[1;33m]\u001b[0m\u001b[1;33m\u001b[0m\u001b[1;33m\u001b[0m\u001b[0m\n\u001b[0m",
      "\u001b[1;31mNameError\u001b[0m: name 'big_array' is not defined"
     ]
    }
   ],
   "source": [
    "#get all 5 values of the first 1st-dimensional unit from the last 2nd-dimensional unit\n",
    "big_array[-1:,-1:,0,:]"
   ]
  },
  {
   "cell_type": "markdown",
   "id": "e13d9e05",
   "metadata": {},
   "source": [
    "## Manipulating and Comparing Arrays"
   ]
  },
  {
   "cell_type": "code",
   "execution_count": 7,
   "id": "72332149",
   "metadata": {},
   "outputs": [
    {
     "data": {
      "text/plain": [
       "array([3., 7., 5.])"
      ]
     },
     "execution_count": 7,
     "metadata": {},
     "output_type": "execute_result"
    }
   ],
   "source": [
    "#let's manipulate the values in auto_array(np.ones())\n",
    "auto_array += np.array([1,3,2])\n",
    "auto_array"
   ]
  },
  {
   "cell_type": "code",
   "execution_count": 10,
   "id": "e09bc8f3",
   "metadata": {},
   "outputs": [
    {
     "data": {
      "text/plain": [
       "array([[9., 1., 4.],\n",
       "       [9., 1., 4.],\n",
       "       [9., 1., 4.]])"
      ]
     },
     "execution_count": 10,
     "metadata": {},
     "output_type": "execute_result"
    }
   ],
   "source": [
    "auto_array2 *= np.array([3,1,2])\n",
    "auto_array2"
   ]
  },
  {
   "cell_type": "code",
   "execution_count": 16,
   "id": "ef5deb5b",
   "metadata": {},
   "outputs": [
    {
     "ename": "ValueError",
     "evalue": "operands could not be broadcast together with shapes (3,3,3) (2,3) (3,3,3) ",
     "output_type": "error",
     "traceback": [
      "\u001b[1;31m---------------------------------------------------------------------------\u001b[0m",
      "\u001b[1;31mValueError\u001b[0m                                Traceback (most recent call last)",
      "\u001b[1;32m<ipython-input-16-ab0da7b64ae4>\u001b[0m in \u001b[0;36m<module>\u001b[1;34m\u001b[0m\n\u001b[0;32m      1\u001b[0m \u001b[1;31m# thow error due to broadcast/shape error\u001b[0m\u001b[1;33m\u001b[0m\u001b[1;33m\u001b[0m\u001b[1;33m\u001b[0m\u001b[0m\n\u001b[0;32m      2\u001b[0m \u001b[0mnew_array\u001b[0m \u001b[1;33m=\u001b[0m \u001b[0mnp\u001b[0m\u001b[1;33m.\u001b[0m\u001b[0marray\u001b[0m\u001b[1;33m(\u001b[0m\u001b[1;33m[\u001b[0m\u001b[1;33m[\u001b[0m\u001b[1;36m1\u001b[0m\u001b[1;33m,\u001b[0m\u001b[1;36m2\u001b[0m\u001b[1;33m,\u001b[0m\u001b[1;36m1\u001b[0m\u001b[1;33m]\u001b[0m\u001b[1;33m,\u001b[0m\u001b[1;33m[\u001b[0m\u001b[1;36m2\u001b[0m\u001b[1;33m,\u001b[0m\u001b[1;36m1\u001b[0m\u001b[1;33m,\u001b[0m\u001b[1;36m2\u001b[0m\u001b[1;33m]\u001b[0m\u001b[1;33m]\u001b[0m\u001b[1;33m)\u001b[0m\u001b[1;33m\u001b[0m\u001b[1;33m\u001b[0m\u001b[0m\n\u001b[1;32m----> 3\u001b[1;33m \u001b[0mauto_array3\u001b[0m \u001b[1;33m*=\u001b[0m \u001b[0mnew_array\u001b[0m\u001b[1;33m\u001b[0m\u001b[1;33m\u001b[0m\u001b[0m\n\u001b[0m\u001b[0;32m      4\u001b[0m \u001b[1;31m#shapes would have to be (3,3,3) and ((3,3), (1,3), or (1))\u001b[0m\u001b[1;33m\u001b[0m\u001b[1;33m\u001b[0m\u001b[1;33m\u001b[0m\u001b[0m\n",
      "\u001b[1;31mValueError\u001b[0m: operands could not be broadcast together with shapes (3,3,3) (2,3) (3,3,3) "
     ]
    }
   ],
   "source": [
    "# thow error due to broadcast/shape error\n",
    "new_array = np.array([[1,2,1],[2,1,2]])\n",
    "auto_array3 *= new_array\n",
    "#shapes would have to be (3,3,3) and ((3,3), (1,3), or (1))"
   ]
  },
  {
   "cell_type": "code",
   "execution_count": 17,
   "id": "418eef57",
   "metadata": {},
   "outputs": [
    {
     "data": {
      "text/plain": [
       "array([8.5, 6.5, 9.5])"
      ]
     },
     "execution_count": 17,
     "metadata": {},
     "output_type": "execute_result"
    }
   ],
   "source": [
    "auto_array -= .5\n",
    "auto_array"
   ]
  },
  {
   "cell_type": "code",
   "execution_count": 18,
   "id": "3b8a012c",
   "metadata": {},
   "outputs": [
    {
     "data": {
      "text/plain": [
       "array([4.25, 3.25, 4.75])"
      ]
     },
     "execution_count": 18,
     "metadata": {},
     "output_type": "execute_result"
    }
   ],
   "source": [
    "auto_array / 2"
   ]
  },
  {
   "cell_type": "code",
   "execution_count": 19,
   "id": "9247b715",
   "metadata": {},
   "outputs": [
    {
     "data": {
      "text/plain": [
       "array([2.5, 0.5, 0.5])"
      ]
     },
     "execution_count": 19,
     "metadata": {},
     "output_type": "execute_result"
    }
   ],
   "source": [
    "auto_array % 3"
   ]
  },
  {
   "cell_type": "code",
   "execution_count": 20,
   "id": "c1d3512b",
   "metadata": {},
   "outputs": [
    {
     "data": {
      "text/plain": [
       "array([2.14006616, 1.87180218, 2.2512918 ])"
      ]
     },
     "execution_count": 20,
     "metadata": {},
     "output_type": "execute_result"
    }
   ],
   "source": [
    "np.log(auto_array)"
   ]
  },
  {
   "cell_type": "code",
   "execution_count": 21,
   "id": "81b2489c",
   "metadata": {},
   "outputs": [
    {
     "data": {
      "text/plain": [
       "array([ 4914.7688403 ,   665.14163304, 13359.72682966])"
      ]
     },
     "execution_count": 21,
     "metadata": {},
     "output_type": "execute_result"
    }
   ],
   "source": [
    "np.exp(auto_array)"
   ]
  },
  {
   "cell_type": "code",
   "execution_count": 23,
   "id": "0e79b020",
   "metadata": {},
   "outputs": [
    {
     "data": {
      "text/plain": [
       "1.247219128924647"
      ]
     },
     "execution_count": 23,
     "metadata": {},
     "output_type": "execute_result"
    }
   ],
   "source": [
    "np.std(auto_array)"
   ]
  },
  {
   "cell_type": "markdown",
   "id": "067a5a49",
   "metadata": {},
   "source": [
    "## Aggregation\n",
    "Performing the same operation on a number of things"
   ]
  },
  {
   "cell_type": "code",
   "execution_count": 24,
   "id": "c1439c58",
   "metadata": {},
   "outputs": [
    {
     "data": {
      "text/plain": [
       "24.5"
      ]
     },
     "execution_count": 24,
     "metadata": {},
     "output_type": "execute_result"
    }
   ],
   "source": [
    "sum(auto_array)"
   ]
  },
  {
   "cell_type": "code",
   "execution_count": 25,
   "id": "e5106311",
   "metadata": {},
   "outputs": [
    {
     "data": {
      "text/plain": [
       "24.5"
      ]
     },
     "execution_count": 25,
     "metadata": {},
     "output_type": "execute_result"
    }
   ],
   "source": [
    "np.sum(auto_array)"
   ]
  },
  {
   "cell_type": "markdown",
   "id": "ac64d9d0",
   "metadata": {},
   "source": [
    "Use np.operations on np objects(arrays)"
   ]
  },
  {
   "cell_type": "code",
   "execution_count": 28,
   "id": "a26aa8a4",
   "metadata": {},
   "outputs": [
    {
     "data": {
      "text/plain": [
       "10000000"
      ]
     },
     "execution_count": 28,
     "metadata": {},
     "output_type": "execute_result"
    }
   ],
   "source": [
    "massive_array = np.random.randint(0,10, size=(10,10,100000))\n",
    "massive_array.size"
   ]
  },
  {
   "cell_type": "code",
   "execution_count": 29,
   "id": "b1903875",
   "metadata": {},
   "outputs": [
    {
     "name": "stdout",
     "output_type": "stream",
     "text": [
      "20.2 ms ± 970 µs per loop (mean ± std. dev. of 7 runs, 10 loops each)\n"
     ]
    }
   ],
   "source": [
    "%timeit sum(massive_array)"
   ]
  },
  {
   "cell_type": "code",
   "execution_count": 30,
   "id": "9beddd96",
   "metadata": {},
   "outputs": [
    {
     "name": "stdout",
     "output_type": "stream",
     "text": [
      "4.64 ms ± 93.1 µs per loop (mean ± std. dev. of 7 runs, 100 loops each)\n"
     ]
    }
   ],
   "source": [
    "%timeit np.sum(massive_array)"
   ]
  },
  {
   "cell_type": "code",
   "execution_count": 31,
   "id": "d2b6b793",
   "metadata": {},
   "outputs": [
    {
     "data": {
      "text/plain": [
       "0"
      ]
     },
     "execution_count": 31,
     "metadata": {},
     "output_type": "execute_result"
    }
   ],
   "source": [
    "np.min(massive_array)"
   ]
  },
  {
   "cell_type": "code",
   "execution_count": 32,
   "id": "ce9bd1b5",
   "metadata": {},
   "outputs": [
    {
     "data": {
      "text/plain": [
       "9"
      ]
     },
     "execution_count": 32,
     "metadata": {},
     "output_type": "execute_result"
    }
   ],
   "source": [
    "np.max(massive_array)"
   ]
  },
  {
   "cell_type": "code",
   "execution_count": 33,
   "id": "6e8c2756",
   "metadata": {},
   "outputs": [
    {
     "data": {
      "text/plain": [
       "4.5011702"
      ]
     },
     "execution_count": 33,
     "metadata": {},
     "output_type": "execute_result"
    }
   ],
   "source": [
    "np.mean(massive_array)"
   ]
  },
  {
   "cell_type": "code",
   "execution_count": 34,
   "id": "f92f5fd6",
   "metadata": {},
   "outputs": [
    {
     "data": {
      "text/plain": [
       "2.8723971227237977"
      ]
     },
     "execution_count": 34,
     "metadata": {},
     "output_type": "execute_result"
    }
   ],
   "source": [
    "np.std(massive_array)"
   ]
  },
  {
   "cell_type": "code",
   "execution_count": 35,
   "id": "6dd71af8",
   "metadata": {},
   "outputs": [
    {
     "data": {
      "text/plain": [
       "8.250665230631952"
      ]
     },
     "execution_count": 35,
     "metadata": {},
     "output_type": "execute_result"
    }
   ],
   "source": [
    "np.var(massive_array)"
   ]
  },
  {
   "cell_type": "markdown",
   "id": "14ef45c5",
   "metadata": {},
   "source": [
    "Here we will show standard deviation and variance in effect"
   ]
  },
  {
   "cell_type": "code",
   "execution_count": 36,
   "id": "c92e25d7",
   "metadata": {},
   "outputs": [],
   "source": [
    "ta_small_v = np.array([1,3,6,9,12])\n",
    "ta_big_v = np.array([1,1000,5000,10000,20000])"
   ]
  },
  {
   "cell_type": "code",
   "execution_count": 45,
   "id": "ca76f4fe",
   "metadata": {},
   "outputs": [
    {
     "name": "stdout",
     "output_type": "stream",
     "text": [
      "Variance\n",
      " small:15.76 big:53357120.160000004\n"
     ]
    }
   ],
   "source": [
    "print('Variance\\n',f'small:{np.var(ta_small_v)} big:{np.var(ta_big_v)}')"
   ]
  },
  {
   "cell_type": "code",
   "execution_count": 46,
   "id": "f421d8c2",
   "metadata": {},
   "outputs": [
    {
     "name": "stdout",
     "output_type": "stream",
     "text": [
      "Standard Deviation\n",
      " small:3.9698866482558417 big:7304.595824547721\n"
     ]
    }
   ],
   "source": [
    "print('Standard Deviation\\n',f'small:{np.std(ta_small_v)} big:{np.std(ta_big_v)}')"
   ]
  },
  {
   "cell_type": "code",
   "execution_count": 60,
   "id": "763abb7a",
   "metadata": {},
   "outputs": [
    {
     "name": "stdout",
     "output_type": "stream",
     "text": [
      "6.2\n",
      "3.9698866482558417\n"
     ]
    }
   ],
   "source": [
    "print(np.mean(ta_small_v))\n",
    "print(np.sqrt(sum(abs((ta_small_v -np.mean(ta_small_v))**2)/len(ta_small_v))))"
   ]
  },
  {
   "cell_type": "code",
   "execution_count": 62,
   "id": "d742c32f",
   "metadata": {},
   "outputs": [
    {
     "data": {
      "image/png": "[encoded data removed]",
      "text/plain": [
       "<Figure size 432x288 with 1 Axes>"
      ]
     },
     "metadata": {
      "needs_background": "light"
     },
     "output_type": "display_data"
    }
   ],
   "source": [
    "%matplotlib inline\n",
    "from matplotlib import pyplot as plt\n",
    "plt.hist(ta_small_v)\n",
    "plt.show()"
   ]
  },
  {
   "cell_type": "code",
   "execution_count": 63,
   "id": "6741461a",
   "metadata": {},
   "outputs": [
    {
     "data": {
      "image/png": "[encoded data removed]",
      "text/plain": [
       "<Figure size 432x288 with 1 Axes>"
      ]
     },
     "metadata": {
      "needs_background": "light"
     },
     "output_type": "display_data"
    }
   ],
   "source": [
    "plt.hist(ta_big_v)\n",
    "plt.show()"
   ]
  },
  {
   "cell_type": "markdown",
   "id": "1efda9c7",
   "metadata": {},
   "source": [
    "## Reshaping and Transposing Data"
   ]
  },
  {
   "cell_type": "markdown",
   "id": "c66b86d9",
   "metadata": {},
   "source": [
    "We can't manipulate data when array shape is incompatible."
   ]
  },
  {
   "cell_type": "code",
   "execution_count": 3,
   "id": "afe7a038",
   "metadata": {},
   "outputs": [
    {
     "ename": "ValueError",
     "evalue": "operands could not be broadcast together with shapes (3,3) (2,2) ",
     "output_type": "error",
     "traceback": [
      "\u001b[1;31m---------------------------------------------------------------------------\u001b[0m",
      "\u001b[1;31mValueError\u001b[0m                                Traceback (most recent call last)",
      "\u001b[1;32m<ipython-input-3-d1b4ab3dc78c>\u001b[0m in \u001b[0;36m<module>\u001b[1;34m\u001b[0m\n\u001b[0;32m      1\u001b[0m \u001b[1;31m#ie\u001b[0m\u001b[1;33m\u001b[0m\u001b[1;33m\u001b[0m\u001b[1;33m\u001b[0m\u001b[0m\n\u001b[0;32m      2\u001b[0m \u001b[0mincompatible_array\u001b[0m \u001b[1;33m=\u001b[0m \u001b[0mnp\u001b[0m\u001b[1;33m.\u001b[0m\u001b[0mrandom\u001b[0m\u001b[1;33m.\u001b[0m\u001b[0mrandint\u001b[0m\u001b[1;33m(\u001b[0m\u001b[1;36m0\u001b[0m\u001b[1;33m,\u001b[0m\u001b[1;36m10\u001b[0m\u001b[1;33m,\u001b[0m \u001b[0msize\u001b[0m\u001b[1;33m=\u001b[0m\u001b[1;33m(\u001b[0m\u001b[1;36m2\u001b[0m\u001b[1;33m,\u001b[0m\u001b[1;36m2\u001b[0m\u001b[1;33m)\u001b[0m\u001b[1;33m)\u001b[0m\u001b[1;33m\u001b[0m\u001b[1;33m\u001b[0m\u001b[0m\n\u001b[1;32m----> 3\u001b[1;33m \u001b[0mauto_array2\u001b[0m \u001b[1;33m*\u001b[0m \u001b[0mincompatible_array\u001b[0m\u001b[1;33m\u001b[0m\u001b[1;33m\u001b[0m\u001b[0m\n\u001b[0m",
      "\u001b[1;31mValueError\u001b[0m: operands could not be broadcast together with shapes (3,3) (2,2) "
     ]
    }
   ],
   "source": [
    "#ie\n",
    "incompatible_array = np.random.randint(0,10, size=(2,2))\n",
    "auto_array2 * incompatible_array"
   ]
  },
  {
   "cell_type": "code",
   "execution_count": 6,
   "id": "5437d0d6",
   "metadata": {},
   "outputs": [
    {
     "data": {
      "text/plain": [
       "array([[5., 5., 5.],\n",
       "       [7., 7., 7.],\n",
       "       [6., 6., 6.],\n",
       "       [0., 0., 0.]])"
      ]
     },
     "execution_count": 6,
     "metadata": {},
     "output_type": "execute_result"
    }
   ],
   "source": [
    "reshaped = incompatible_array.reshape(-1,1)\n",
    "auto_array * reshaped"
   ]
  },
  {
   "cell_type": "markdown",
   "id": "2e9ae996",
   "metadata": {},
   "source": [
    "A reminder that compatible shapes are the same shape or 1\n",
    "\n",
    "(3,3) * (3,3)\n",
    "\n",
    "(3,3) * (1,3)\n",
    "\n",
    "(3,3) * (1)\n",
    "\n",
    "(3,3) * (3,1)\n",
    "\n",
    "all work because the shape numbers dictating manipulation are either equal to the left shape(3) or one"
   ]
  },
  {
   "cell_type": "code",
   "execution_count": 12,
   "id": "d0bc0f4d",
   "metadata": {},
   "outputs": [
    {
     "data": {
      "text/plain": [
       "(2, 4, 5)"
      ]
     },
     "execution_count": 12,
     "metadata": {},
     "output_type": "execute_result"
    }
   ],
   "source": [
    "sample_array = np.random.randint(0,10, size=(2,4,5))\n",
    "sample_array.shape"
   ]
  },
  {
   "cell_type": "code",
   "execution_count": 13,
   "id": "18045e28",
   "metadata": {},
   "outputs": [
    {
     "data": {
      "text/plain": [
       "(5, 4, 2)"
      ]
     },
     "execution_count": 13,
     "metadata": {},
     "output_type": "execute_result"
    }
   ],
   "source": [
    "# Transpose reverses the shape axis\n",
    "sample_array.T.shape"
   ]
  },
  {
   "cell_type": "markdown",
   "id": "da22d7ba",
   "metadata": {},
   "source": [
    "## Dot Product "
   ]
  },
  {
   "cell_type": "code",
   "execution_count": 15,
   "id": "779463b9",
   "metadata": {},
   "outputs": [],
   "source": [
    "np.random.seed(11)\n",
    "mat1 = np.random.randint(0,10, size=(3,7))\n",
    "mat2 = np.random.randint(0,10, size=(3,7))"
   ]
  },
  {
   "cell_type": "code",
   "execution_count": 16,
   "id": "7f734921",
   "metadata": {},
   "outputs": [
    {
     "data": {
      "text/plain": [
       "array([[9, 0, 1, 7, 1, 7, 2],\n",
       "       [8, 0, 0, 4, 2, 1, 5],\n",
       "       [5, 7, 4, 1, 8, 8, 1]])"
      ]
     },
     "execution_count": 16,
     "metadata": {},
     "output_type": "execute_result"
    }
   ],
   "source": [
    "mat1"
   ]
  },
  {
   "cell_type": "code",
   "execution_count": 17,
   "id": "7ed90afb",
   "metadata": {},
   "outputs": [
    {
     "data": {
      "text/plain": [
       "array([[3, 6, 2, 2, 0, 0, 7],\n",
       "       [6, 9, 9, 5, 7, 7, 0],\n",
       "       [8, 0, 8, 5, 5, 7, 2]])"
      ]
     },
     "execution_count": 17,
     "metadata": {},
     "output_type": "execute_result"
    }
   ],
   "source": [
    "mat2"
   ]
  },
  {
   "cell_type": "code",
   "execution_count": 18,
   "id": "d3c1290c",
   "metadata": {},
   "outputs": [
    {
     "name": "stdout",
     "output_type": "stream",
     "text": [
      "(3, 7) (3, 7)\n"
     ]
    }
   ],
   "source": [
    "print(mat1.shape, mat2.shape)"
   ]
  },
  {
   "cell_type": "markdown",
   "id": "53a01d99",
   "metadata": {},
   "source": [
    "Element wise multiplication (Hadamard product) with '*'\n",
    "\n",
    "https://en.wikipedia.org/wiki/Hadamard_product_(matrices)"
   ]
  },
  {
   "cell_type": "code",
   "execution_count": 20,
   "id": "812a1510",
   "metadata": {},
   "outputs": [
    {
     "data": {
      "text/plain": [
       "array([[27,  0,  2, 14,  0,  0, 14],\n",
       "       [48,  0,  0, 20, 14,  7,  0],\n",
       "       [40,  0, 32,  5, 40, 56,  2]])"
      ]
     },
     "execution_count": 20,
     "metadata": {},
     "output_type": "execute_result"
    }
   ],
   "source": [
    "mat1*mat2"
   ]
  },
  {
   "cell_type": "code",
   "execution_count": 21,
   "id": "de1fc039",
   "metadata": {},
   "outputs": [
    {
     "ename": "ValueError",
     "evalue": "shapes (3,7) and (3,7) not aligned: 7 (dim 1) != 3 (dim 0)",
     "output_type": "error",
     "traceback": [
      "\u001b[1;31m---------------------------------------------------------------------------\u001b[0m",
      "\u001b[1;31mValueError\u001b[0m                                Traceback (most recent call last)",
      "\u001b[1;32m<ipython-input-21-a0feccc1e0b5>\u001b[0m in \u001b[0;36m<module>\u001b[1;34m\u001b[0m\n\u001b[0;32m      1\u001b[0m \u001b[1;31m# will dot product work on the same arrays?\u001b[0m\u001b[1;33m\u001b[0m\u001b[1;33m\u001b[0m\u001b[1;33m\u001b[0m\u001b[0m\n\u001b[1;32m----> 2\u001b[1;33m \u001b[0mnp\u001b[0m\u001b[1;33m.\u001b[0m\u001b[0mdot\u001b[0m\u001b[1;33m(\u001b[0m\u001b[0mmat1\u001b[0m\u001b[1;33m,\u001b[0m\u001b[0mmat2\u001b[0m\u001b[1;33m)\u001b[0m\u001b[1;33m\u001b[0m\u001b[1;33m\u001b[0m\u001b[0m\n\u001b[0m",
      "\u001b[1;32m<__array_function__ internals>\u001b[0m in \u001b[0;36mdot\u001b[1;34m(*args, **kwargs)\u001b[0m\n",
      "\u001b[1;31mValueError\u001b[0m: shapes (3,7) and (3,7) not aligned: 7 (dim 1) != 3 (dim 0)"
     ]
    }
   ],
   "source": [
    "# will dot product work on the same arrays?\n",
    "np.dot(mat1,mat2)"
   ]
  },
  {
   "cell_type": "code",
   "execution_count": 22,
   "id": "f1f979fa",
   "metadata": {},
   "outputs": [
    {
     "name": "stdout",
     "output_type": "stream",
     "text": [
      "(3, 7) (7, 3)\n"
     ]
    }
   ],
   "source": [
    "# Inner dimensions of arrays must match for dot product to work. Transpose solves this nicely.\n",
    "print(mat1.shape, mat2.T.shape)"
   ]
  },
  {
   "cell_type": "code",
   "execution_count": 23,
   "id": "7738e3dc",
   "metadata": {},
   "outputs": [
    {
     "data": {
      "text/plain": [
       "array([[ 57, 154, 173],\n",
       "       [ 67,  89, 111],\n",
       "       [ 74, 246, 175]])"
      ]
     },
     "execution_count": 23,
     "metadata": {},
     "output_type": "execute_result"
    }
   ],
   "source": [
    "np.dot(mat1,mat2.T)"
   ]
  },
  {
   "cell_type": "markdown",
   "id": "dfb40917",
   "metadata": {},
   "source": [
    "Let's do a Exercise. We have an array of daily sales quantities for 4 nut butters: almond butter, peanut butter, cashew \n",
    "butter and hazelnut butter.\n",
    "\n",
    "We need to create a new table for the sales total and production costs for each day. How can we do this?"
   ]
  },
  {
   "cell_type": "code",
   "execution_count": 15,
   "id": "64db1f41",
   "metadata": {},
   "outputs": [
    {
     "data": {
      "text/plain": [
       "array([[9, 6, 6, 8],\n",
       "       [1, 8, 6, 7],\n",
       "       [2, 8, 1, 5],\n",
       "       [8, 6, 4, 7],\n",
       "       [9, 3, 2, 2],\n",
       "       [1, 6, 3, 3],\n",
       "       [2, 9, 6, 7],\n",
       "       [3, 9, 7, 9],\n",
       "       [9, 4, 5, 8],\n",
       "       [3, 1, 6, 8],\n",
       "       [4, 9, 6, 4],\n",
       "       [2, 1, 9, 8],\n",
       "       [6, 9, 2, 3],\n",
       "       [9, 4, 2, 4],\n",
       "       [8, 3, 8, 3],\n",
       "       [1, 1, 8, 7],\n",
       "       [5, 5, 4, 8],\n",
       "       [6, 7, 1, 1],\n",
       "       [5, 9, 7, 4],\n",
       "       [3, 8, 5, 3],\n",
       "       [3, 4, 4, 5],\n",
       "       [4, 6, 4, 1],\n",
       "       [1, 7, 2, 3],\n",
       "       [3, 2, 5, 8],\n",
       "       [9, 8, 3, 6],\n",
       "       [4, 9, 5, 5],\n",
       "       [5, 2, 1, 5],\n",
       "       [8, 9, 6, 4],\n",
       "       [1, 5, 1, 2],\n",
       "       [5, 6, 5, 9],\n",
       "       [4, 2, 4, 6],\n",
       "       [2, 7, 8, 1],\n",
       "       [8, 9, 4, 5],\n",
       "       [7, 3, 2, 3],\n",
       "       [5, 3, 1, 9]])"
      ]
     },
     "execution_count": 15,
     "metadata": {},
     "output_type": "execute_result"
    }
   ],
   "source": [
    "np.random.seed(15)\n",
    "daily_sales = np.random.randint(1,10, size=(35, 4))\n",
    "#here is our sales table for quanities of each nut butter by day\n",
    "daily_sales"
   ]
  },
  {
   "cell_type": "code",
   "execution_count": 8,
   "id": "553ed3a2",
   "metadata": {},
   "outputs": [
    {
     "data": {
      "text/plain": [
       "array([[ 9. ,  6. ,  8. , 10. ],\n",
       "       [ 7. ,  5. ,  6.5,  7.5]])"
      ]
     },
     "execution_count": 8,
     "metadata": {},
     "output_type": "execute_result"
    }
   ],
   "source": [
    "nut_p_c = np.array([[9,6,8,10], [7,5,6.5,7.5]])\n",
    "#Here is an array of the prices and cost of the nut butters.\n",
    "nut_p_c"
   ]
  },
  {
   "cell_type": "code",
   "execution_count": 11,
   "id": "0bc94bbd",
   "metadata": {},
   "outputs": [
    {
     "name": "stdout",
     "output_type": "stream",
     "text": [
      "(35, 4) (2, 4)\n"
     ]
    }
   ],
   "source": [
    "print(daily_sales.shape, nut_p_c.shape)"
   ]
  },
  {
   "cell_type": "code",
   "execution_count": 12,
   "id": "2842a569",
   "metadata": {},
   "outputs": [
    {
     "data": {
      "text/plain": [
       "array([[ 9. ,  7. ],\n",
       "       [ 6. ,  5. ],\n",
       "       [ 8. ,  6.5],\n",
       "       [10. ,  7.5]])"
      ]
     },
     "execution_count": 12,
     "metadata": {},
     "output_type": "execute_result"
    }
   ],
   "source": [
    "# the inner shapes are not aligned yet. Let's transpose the price/cost array\n",
    "nut_p_c.T"
   ]
  },
  {
   "cell_type": "code",
   "execution_count": 14,
   "id": "9b22d296",
   "metadata": {},
   "outputs": [
    {
     "data": {
      "text/plain": [
       "array([[131. , 104. ],\n",
       "       [154. , 119. ],\n",
       "       [158. , 126.5],\n",
       "       [115. ,  91. ],\n",
       "       [211. , 166.5],\n",
       "       [134. , 103.5],\n",
       "       [217. , 168.5],\n",
       "       [143. , 113. ],\n",
       "       [181. , 143. ],\n",
       "       [143. , 112.5],\n",
       "       [177. , 139.5],\n",
       "       [213. , 168. ],\n",
       "       [133. , 105. ],\n",
       "       [133. , 107. ],\n",
       "       [225. , 178.5],\n",
       "       [243. , 191.5],\n",
       "       [139. , 110.5],\n",
       "       [168. , 131.5],\n",
       "       [167. , 132. ],\n",
       "       [164. , 128.5],\n",
       "       [183. , 144. ],\n",
       "       [213. , 169.5],\n",
       "       [215. , 168.5],\n",
       "       [119. ,  94.5],\n",
       "       [129. , 101. ],\n",
       "       [223. , 175. ],\n",
       "       [190. , 148. ],\n",
       "       [132. , 102. ],\n",
       "       [182. , 142. ],\n",
       "       [236. , 184.5],\n",
       "       [150. , 120.5],\n",
       "       [190. , 149. ],\n",
       "       [162. , 129.5],\n",
       "       [130. , 102.5],\n",
       "       [135. , 107. ]])"
      ]
     },
     "execution_count": 14,
     "metadata": {},
     "output_type": "execute_result"
    }
   ],
   "source": [
    "np.dot(daily_sales, nut_p_c.T)\n",
    "#the resulting table is a set of rows displaying daily sales totals and sales costs."
   ]
  },
  {
   "cell_type": "markdown",
   "id": "5d658798",
   "metadata": {},
   "source": [
    "let's create a fancy dataframe"
   ]
  },
  {
   "cell_type": "code",
   "execution_count": 19,
   "id": "b8dbba18",
   "metadata": {},
   "outputs": [
    {
     "data": {
      "text/html": [
       "<div>\n",
       "<style scoped>\n",
       "    .dataframe tbody tr th:only-of-type {\n",
       "        vertical-align: middle;\n",
       "    }\n",
       "\n",
       "    .dataframe tbody tr th {\n",
       "        vertical-align: top;\n",
       "    }\n",
       "\n",
       "    .dataframe thead th {\n",
       "        text-align: right;\n",
       "    }\n",
       "</style>\n",
       "<table border=\"1\" class=\"dataframe\">\n",
       "  <thead>\n",
       "    <tr style=\"text-align: right;\">\n",
       "      <th></th>\n",
       "      <th>almond</th>\n",
       "      <th>peanut</th>\n",
       "      <th>cashew</th>\n",
       "      <th>hazelnut</th>\n",
       "    </tr>\n",
       "  </thead>\n",
       "  <tbody>\n",
       "    <tr>\n",
       "      <th>0</th>\n",
       "      <td>9</td>\n",
       "      <td>6</td>\n",
       "      <td>6</td>\n",
       "      <td>8</td>\n",
       "    </tr>\n",
       "    <tr>\n",
       "      <th>1</th>\n",
       "      <td>1</td>\n",
       "      <td>8</td>\n",
       "      <td>6</td>\n",
       "      <td>7</td>\n",
       "    </tr>\n",
       "    <tr>\n",
       "      <th>2</th>\n",
       "      <td>2</td>\n",
       "      <td>8</td>\n",
       "      <td>1</td>\n",
       "      <td>5</td>\n",
       "    </tr>\n",
       "    <tr>\n",
       "      <th>3</th>\n",
       "      <td>8</td>\n",
       "      <td>6</td>\n",
       "      <td>4</td>\n",
       "      <td>7</td>\n",
       "    </tr>\n",
       "    <tr>\n",
       "      <th>4</th>\n",
       "      <td>9</td>\n",
       "      <td>3</td>\n",
       "      <td>2</td>\n",
       "      <td>2</td>\n",
       "    </tr>\n",
       "    <tr>\n",
       "      <th>5</th>\n",
       "      <td>1</td>\n",
       "      <td>6</td>\n",
       "      <td>3</td>\n",
       "      <td>3</td>\n",
       "    </tr>\n",
       "    <tr>\n",
       "      <th>6</th>\n",
       "      <td>2</td>\n",
       "      <td>9</td>\n",
       "      <td>6</td>\n",
       "      <td>7</td>\n",
       "    </tr>\n",
       "    <tr>\n",
       "      <th>7</th>\n",
       "      <td>3</td>\n",
       "      <td>9</td>\n",
       "      <td>7</td>\n",
       "      <td>9</td>\n",
       "    </tr>\n",
       "    <tr>\n",
       "      <th>8</th>\n",
       "      <td>9</td>\n",
       "      <td>4</td>\n",
       "      <td>5</td>\n",
       "      <td>8</td>\n",
       "    </tr>\n",
       "    <tr>\n",
       "      <th>9</th>\n",
       "      <td>3</td>\n",
       "      <td>1</td>\n",
       "      <td>6</td>\n",
       "      <td>8</td>\n",
       "    </tr>\n",
       "    <tr>\n",
       "      <th>10</th>\n",
       "      <td>4</td>\n",
       "      <td>9</td>\n",
       "      <td>6</td>\n",
       "      <td>4</td>\n",
       "    </tr>\n",
       "    <tr>\n",
       "      <th>11</th>\n",
       "      <td>2</td>\n",
       "      <td>1</td>\n",
       "      <td>9</td>\n",
       "      <td>8</td>\n",
       "    </tr>\n",
       "    <tr>\n",
       "      <th>12</th>\n",
       "      <td>6</td>\n",
       "      <td>9</td>\n",
       "      <td>2</td>\n",
       "      <td>3</td>\n",
       "    </tr>\n",
       "    <tr>\n",
       "      <th>13</th>\n",
       "      <td>9</td>\n",
       "      <td>4</td>\n",
       "      <td>2</td>\n",
       "      <td>4</td>\n",
       "    </tr>\n",
       "    <tr>\n",
       "      <th>14</th>\n",
       "      <td>8</td>\n",
       "      <td>3</td>\n",
       "      <td>8</td>\n",
       "      <td>3</td>\n",
       "    </tr>\n",
       "    <tr>\n",
       "      <th>15</th>\n",
       "      <td>1</td>\n",
       "      <td>1</td>\n",
       "      <td>8</td>\n",
       "      <td>7</td>\n",
       "    </tr>\n",
       "    <tr>\n",
       "      <th>16</th>\n",
       "      <td>5</td>\n",
       "      <td>5</td>\n",
       "      <td>4</td>\n",
       "      <td>8</td>\n",
       "    </tr>\n",
       "    <tr>\n",
       "      <th>17</th>\n",
       "      <td>6</td>\n",
       "      <td>7</td>\n",
       "      <td>1</td>\n",
       "      <td>1</td>\n",
       "    </tr>\n",
       "    <tr>\n",
       "      <th>18</th>\n",
       "      <td>5</td>\n",
       "      <td>9</td>\n",
       "      <td>7</td>\n",
       "      <td>4</td>\n",
       "    </tr>\n",
       "    <tr>\n",
       "      <th>19</th>\n",
       "      <td>3</td>\n",
       "      <td>8</td>\n",
       "      <td>5</td>\n",
       "      <td>3</td>\n",
       "    </tr>\n",
       "    <tr>\n",
       "      <th>20</th>\n",
       "      <td>3</td>\n",
       "      <td>4</td>\n",
       "      <td>4</td>\n",
       "      <td>5</td>\n",
       "    </tr>\n",
       "    <tr>\n",
       "      <th>21</th>\n",
       "      <td>4</td>\n",
       "      <td>6</td>\n",
       "      <td>4</td>\n",
       "      <td>1</td>\n",
       "    </tr>\n",
       "    <tr>\n",
       "      <th>22</th>\n",
       "      <td>1</td>\n",
       "      <td>7</td>\n",
       "      <td>2</td>\n",
       "      <td>3</td>\n",
       "    </tr>\n",
       "    <tr>\n",
       "      <th>23</th>\n",
       "      <td>3</td>\n",
       "      <td>2</td>\n",
       "      <td>5</td>\n",
       "      <td>8</td>\n",
       "    </tr>\n",
       "    <tr>\n",
       "      <th>24</th>\n",
       "      <td>9</td>\n",
       "      <td>8</td>\n",
       "      <td>3</td>\n",
       "      <td>6</td>\n",
       "    </tr>\n",
       "    <tr>\n",
       "      <th>25</th>\n",
       "      <td>4</td>\n",
       "      <td>9</td>\n",
       "      <td>5</td>\n",
       "      <td>5</td>\n",
       "    </tr>\n",
       "    <tr>\n",
       "      <th>26</th>\n",
       "      <td>5</td>\n",
       "      <td>2</td>\n",
       "      <td>1</td>\n",
       "      <td>5</td>\n",
       "    </tr>\n",
       "    <tr>\n",
       "      <th>27</th>\n",
       "      <td>8</td>\n",
       "      <td>9</td>\n",
       "      <td>6</td>\n",
       "      <td>4</td>\n",
       "    </tr>\n",
       "    <tr>\n",
       "      <th>28</th>\n",
       "      <td>1</td>\n",
       "      <td>5</td>\n",
       "      <td>1</td>\n",
       "      <td>2</td>\n",
       "    </tr>\n",
       "    <tr>\n",
       "      <th>29</th>\n",
       "      <td>5</td>\n",
       "      <td>6</td>\n",
       "      <td>5</td>\n",
       "      <td>9</td>\n",
       "    </tr>\n",
       "    <tr>\n",
       "      <th>30</th>\n",
       "      <td>4</td>\n",
       "      <td>2</td>\n",
       "      <td>4</td>\n",
       "      <td>6</td>\n",
       "    </tr>\n",
       "    <tr>\n",
       "      <th>31</th>\n",
       "      <td>2</td>\n",
       "      <td>7</td>\n",
       "      <td>8</td>\n",
       "      <td>1</td>\n",
       "    </tr>\n",
       "    <tr>\n",
       "      <th>32</th>\n",
       "      <td>8</td>\n",
       "      <td>9</td>\n",
       "      <td>4</td>\n",
       "      <td>5</td>\n",
       "    </tr>\n",
       "    <tr>\n",
       "      <th>33</th>\n",
       "      <td>7</td>\n",
       "      <td>3</td>\n",
       "      <td>2</td>\n",
       "      <td>3</td>\n",
       "    </tr>\n",
       "    <tr>\n",
       "      <th>34</th>\n",
       "      <td>5</td>\n",
       "      <td>3</td>\n",
       "      <td>1</td>\n",
       "      <td>9</td>\n",
       "    </tr>\n",
       "  </tbody>\n",
       "</table>\n",
       "</div>"
      ],
      "text/plain": [
       "    almond  peanut  cashew  hazelnut\n",
       "0        9       6       6         8\n",
       "1        1       8       6         7\n",
       "2        2       8       1         5\n",
       "3        8       6       4         7\n",
       "4        9       3       2         2\n",
       "5        1       6       3         3\n",
       "6        2       9       6         7\n",
       "7        3       9       7         9\n",
       "8        9       4       5         8\n",
       "9        3       1       6         8\n",
       "10       4       9       6         4\n",
       "11       2       1       9         8\n",
       "12       6       9       2         3\n",
       "13       9       4       2         4\n",
       "14       8       3       8         3\n",
       "15       1       1       8         7\n",
       "16       5       5       4         8\n",
       "17       6       7       1         1\n",
       "18       5       9       7         4\n",
       "19       3       8       5         3\n",
       "20       3       4       4         5\n",
       "21       4       6       4         1\n",
       "22       1       7       2         3\n",
       "23       3       2       5         8\n",
       "24       9       8       3         6\n",
       "25       4       9       5         5\n",
       "26       5       2       1         5\n",
       "27       8       9       6         4\n",
       "28       1       5       1         2\n",
       "29       5       6       5         9\n",
       "30       4       2       4         6\n",
       "31       2       7       8         1\n",
       "32       8       9       4         5\n",
       "33       7       3       2         3\n",
       "34       5       3       1         9"
      ]
     },
     "execution_count": 19,
     "metadata": {},
     "output_type": "execute_result"
    }
   ],
   "source": [
    "import pandas as pd\n",
    "sales_data = pd.DataFrame(data = daily_sales, columns=['almond', 'peanut', 'cashew', 'hazelnut'])\n",
    "sales_data"
   ]
  },
  {
   "cell_type": "code",
   "execution_count": 22,
   "id": "4df32f80",
   "metadata": {},
   "outputs": [
    {
     "data": {
      "text/html": [
       "<div>\n",
       "<style scoped>\n",
       "    .dataframe tbody tr th:only-of-type {\n",
       "        vertical-align: middle;\n",
       "    }\n",
       "\n",
       "    .dataframe tbody tr th {\n",
       "        vertical-align: top;\n",
       "    }\n",
       "\n",
       "    .dataframe thead th {\n",
       "        text-align: right;\n",
       "    }\n",
       "</style>\n",
       "<table border=\"1\" class=\"dataframe\">\n",
       "  <thead>\n",
       "    <tr style=\"text-align: right;\">\n",
       "      <th></th>\n",
       "      <th>gross_sales</th>\n",
       "      <th>net_cost</th>\n",
       "    </tr>\n",
       "  </thead>\n",
       "  <tbody>\n",
       "    <tr>\n",
       "      <th>0</th>\n",
       "      <td>245.0</td>\n",
       "      <td>192.0</td>\n",
       "    </tr>\n",
       "    <tr>\n",
       "      <th>1</th>\n",
       "      <td>175.0</td>\n",
       "      <td>138.5</td>\n",
       "    </tr>\n",
       "    <tr>\n",
       "      <th>2</th>\n",
       "      <td>124.0</td>\n",
       "      <td>98.0</td>\n",
       "    </tr>\n",
       "    <tr>\n",
       "      <th>3</th>\n",
       "      <td>210.0</td>\n",
       "      <td>164.5</td>\n",
       "    </tr>\n",
       "    <tr>\n",
       "      <th>4</th>\n",
       "      <td>135.0</td>\n",
       "      <td>106.0</td>\n",
       "    </tr>\n",
       "    <tr>\n",
       "      <th>5</th>\n",
       "      <td>99.0</td>\n",
       "      <td>79.0</td>\n",
       "    </tr>\n",
       "    <tr>\n",
       "      <th>6</th>\n",
       "      <td>190.0</td>\n",
       "      <td>150.5</td>\n",
       "    </tr>\n",
       "    <tr>\n",
       "      <th>7</th>\n",
       "      <td>227.0</td>\n",
       "      <td>179.0</td>\n",
       "    </tr>\n",
       "    <tr>\n",
       "      <th>8</th>\n",
       "      <td>225.0</td>\n",
       "      <td>175.5</td>\n",
       "    </tr>\n",
       "    <tr>\n",
       "      <th>9</th>\n",
       "      <td>161.0</td>\n",
       "      <td>125.0</td>\n",
       "    </tr>\n",
       "    <tr>\n",
       "      <th>10</th>\n",
       "      <td>178.0</td>\n",
       "      <td>142.0</td>\n",
       "    </tr>\n",
       "    <tr>\n",
       "      <th>11</th>\n",
       "      <td>176.0</td>\n",
       "      <td>137.5</td>\n",
       "    </tr>\n",
       "    <tr>\n",
       "      <th>12</th>\n",
       "      <td>154.0</td>\n",
       "      <td>122.5</td>\n",
       "    </tr>\n",
       "    <tr>\n",
       "      <th>13</th>\n",
       "      <td>161.0</td>\n",
       "      <td>126.0</td>\n",
       "    </tr>\n",
       "    <tr>\n",
       "      <th>14</th>\n",
       "      <td>184.0</td>\n",
       "      <td>145.5</td>\n",
       "    </tr>\n",
       "    <tr>\n",
       "      <th>15</th>\n",
       "      <td>149.0</td>\n",
       "      <td>116.5</td>\n",
       "    </tr>\n",
       "    <tr>\n",
       "      <th>16</th>\n",
       "      <td>187.0</td>\n",
       "      <td>146.0</td>\n",
       "    </tr>\n",
       "    <tr>\n",
       "      <th>17</th>\n",
       "      <td>114.0</td>\n",
       "      <td>91.0</td>\n",
       "    </tr>\n",
       "    <tr>\n",
       "      <th>18</th>\n",
       "      <td>195.0</td>\n",
       "      <td>155.5</td>\n",
       "    </tr>\n",
       "    <tr>\n",
       "      <th>19</th>\n",
       "      <td>145.0</td>\n",
       "      <td>116.0</td>\n",
       "    </tr>\n",
       "    <tr>\n",
       "      <th>20</th>\n",
       "      <td>133.0</td>\n",
       "      <td>104.5</td>\n",
       "    </tr>\n",
       "    <tr>\n",
       "      <th>21</th>\n",
       "      <td>114.0</td>\n",
       "      <td>91.5</td>\n",
       "    </tr>\n",
       "    <tr>\n",
       "      <th>22</th>\n",
       "      <td>97.0</td>\n",
       "      <td>77.5</td>\n",
       "    </tr>\n",
       "    <tr>\n",
       "      <th>23</th>\n",
       "      <td>159.0</td>\n",
       "      <td>123.5</td>\n",
       "    </tr>\n",
       "    <tr>\n",
       "      <th>24</th>\n",
       "      <td>213.0</td>\n",
       "      <td>167.5</td>\n",
       "    </tr>\n",
       "    <tr>\n",
       "      <th>25</th>\n",
       "      <td>180.0</td>\n",
       "      <td>143.0</td>\n",
       "    </tr>\n",
       "    <tr>\n",
       "      <th>26</th>\n",
       "      <td>115.0</td>\n",
       "      <td>89.0</td>\n",
       "    </tr>\n",
       "    <tr>\n",
       "      <th>27</th>\n",
       "      <td>214.0</td>\n",
       "      <td>170.0</td>\n",
       "    </tr>\n",
       "    <tr>\n",
       "      <th>28</th>\n",
       "      <td>67.0</td>\n",
       "      <td>53.5</td>\n",
       "    </tr>\n",
       "    <tr>\n",
       "      <th>29</th>\n",
       "      <td>211.0</td>\n",
       "      <td>165.0</td>\n",
       "    </tr>\n",
       "    <tr>\n",
       "      <th>30</th>\n",
       "      <td>140.0</td>\n",
       "      <td>109.0</td>\n",
       "    </tr>\n",
       "    <tr>\n",
       "      <th>31</th>\n",
       "      <td>134.0</td>\n",
       "      <td>108.5</td>\n",
       "    </tr>\n",
       "    <tr>\n",
       "      <th>32</th>\n",
       "      <td>208.0</td>\n",
       "      <td>164.5</td>\n",
       "    </tr>\n",
       "    <tr>\n",
       "      <th>33</th>\n",
       "      <td>127.0</td>\n",
       "      <td>99.5</td>\n",
       "    </tr>\n",
       "    <tr>\n",
       "      <th>34</th>\n",
       "      <td>161.0</td>\n",
       "      <td>124.0</td>\n",
       "    </tr>\n",
       "  </tbody>\n",
       "</table>\n",
       "</div>"
      ],
      "text/plain": [
       "    gross_sales  net_cost\n",
       "0         245.0     192.0\n",
       "1         175.0     138.5\n",
       "2         124.0      98.0\n",
       "3         210.0     164.5\n",
       "4         135.0     106.0\n",
       "5          99.0      79.0\n",
       "6         190.0     150.5\n",
       "7         227.0     179.0\n",
       "8         225.0     175.5\n",
       "9         161.0     125.0\n",
       "10        178.0     142.0\n",
       "11        176.0     137.5\n",
       "12        154.0     122.5\n",
       "13        161.0     126.0\n",
       "14        184.0     145.5\n",
       "15        149.0     116.5\n",
       "16        187.0     146.0\n",
       "17        114.0      91.0\n",
       "18        195.0     155.5\n",
       "19        145.0     116.0\n",
       "20        133.0     104.5\n",
       "21        114.0      91.5\n",
       "22         97.0      77.5\n",
       "23        159.0     123.5\n",
       "24        213.0     167.5\n",
       "25        180.0     143.0\n",
       "26        115.0      89.0\n",
       "27        214.0     170.0\n",
       "28         67.0      53.5\n",
       "29        211.0     165.0\n",
       "30        140.0     109.0\n",
       "31        134.0     108.5\n",
       "32        208.0     164.5\n",
       "33        127.0      99.5\n",
       "34        161.0     124.0"
      ]
     },
     "execution_count": 22,
     "metadata": {},
     "output_type": "execute_result"
    }
   ],
   "source": [
    "totals_df = pd.DataFrame(data=np.dot(daily_sales, nut_p_c.T), columns=['gross_sales', 'net_cost'])\n",
    "totals_df"
   ]
  },
  {
   "cell_type": "code",
   "execution_count": 25,
   "id": "3a7fffcf",
   "metadata": {},
   "outputs": [
    {
     "data": {
      "text/html": [
       "<div>\n",
       "<style scoped>\n",
       "    .dataframe tbody tr th:only-of-type {\n",
       "        vertical-align: middle;\n",
       "    }\n",
       "\n",
       "    .dataframe tbody tr th {\n",
       "        vertical-align: top;\n",
       "    }\n",
       "\n",
       "    .dataframe thead th {\n",
       "        text-align: right;\n",
       "    }\n",
       "</style>\n",
       "<table border=\"1\" class=\"dataframe\">\n",
       "  <thead>\n",
       "    <tr style=\"text-align: right;\">\n",
       "      <th></th>\n",
       "      <th>gross_sales</th>\n",
       "      <th>net_cost</th>\n",
       "      <th>net_profit</th>\n",
       "    </tr>\n",
       "  </thead>\n",
       "  <tbody>\n",
       "    <tr>\n",
       "      <th>0</th>\n",
       "      <td>245.0</td>\n",
       "      <td>192.0</td>\n",
       "      <td>53.0</td>\n",
       "    </tr>\n",
       "    <tr>\n",
       "      <th>1</th>\n",
       "      <td>175.0</td>\n",
       "      <td>138.5</td>\n",
       "      <td>36.5</td>\n",
       "    </tr>\n",
       "    <tr>\n",
       "      <th>2</th>\n",
       "      <td>124.0</td>\n",
       "      <td>98.0</td>\n",
       "      <td>26.0</td>\n",
       "    </tr>\n",
       "    <tr>\n",
       "      <th>3</th>\n",
       "      <td>210.0</td>\n",
       "      <td>164.5</td>\n",
       "      <td>45.5</td>\n",
       "    </tr>\n",
       "    <tr>\n",
       "      <th>4</th>\n",
       "      <td>135.0</td>\n",
       "      <td>106.0</td>\n",
       "      <td>29.0</td>\n",
       "    </tr>\n",
       "    <tr>\n",
       "      <th>5</th>\n",
       "      <td>99.0</td>\n",
       "      <td>79.0</td>\n",
       "      <td>20.0</td>\n",
       "    </tr>\n",
       "    <tr>\n",
       "      <th>6</th>\n",
       "      <td>190.0</td>\n",
       "      <td>150.5</td>\n",
       "      <td>39.5</td>\n",
       "    </tr>\n",
       "    <tr>\n",
       "      <th>7</th>\n",
       "      <td>227.0</td>\n",
       "      <td>179.0</td>\n",
       "      <td>48.0</td>\n",
       "    </tr>\n",
       "    <tr>\n",
       "      <th>8</th>\n",
       "      <td>225.0</td>\n",
       "      <td>175.5</td>\n",
       "      <td>49.5</td>\n",
       "    </tr>\n",
       "    <tr>\n",
       "      <th>9</th>\n",
       "      <td>161.0</td>\n",
       "      <td>125.0</td>\n",
       "      <td>36.0</td>\n",
       "    </tr>\n",
       "    <tr>\n",
       "      <th>10</th>\n",
       "      <td>178.0</td>\n",
       "      <td>142.0</td>\n",
       "      <td>36.0</td>\n",
       "    </tr>\n",
       "    <tr>\n",
       "      <th>11</th>\n",
       "      <td>176.0</td>\n",
       "      <td>137.5</td>\n",
       "      <td>38.5</td>\n",
       "    </tr>\n",
       "    <tr>\n",
       "      <th>12</th>\n",
       "      <td>154.0</td>\n",
       "      <td>122.5</td>\n",
       "      <td>31.5</td>\n",
       "    </tr>\n",
       "    <tr>\n",
       "      <th>13</th>\n",
       "      <td>161.0</td>\n",
       "      <td>126.0</td>\n",
       "      <td>35.0</td>\n",
       "    </tr>\n",
       "    <tr>\n",
       "      <th>14</th>\n",
       "      <td>184.0</td>\n",
       "      <td>145.5</td>\n",
       "      <td>38.5</td>\n",
       "    </tr>\n",
       "    <tr>\n",
       "      <th>15</th>\n",
       "      <td>149.0</td>\n",
       "      <td>116.5</td>\n",
       "      <td>32.5</td>\n",
       "    </tr>\n",
       "    <tr>\n",
       "      <th>16</th>\n",
       "      <td>187.0</td>\n",
       "      <td>146.0</td>\n",
       "      <td>41.0</td>\n",
       "    </tr>\n",
       "    <tr>\n",
       "      <th>17</th>\n",
       "      <td>114.0</td>\n",
       "      <td>91.0</td>\n",
       "      <td>23.0</td>\n",
       "    </tr>\n",
       "    <tr>\n",
       "      <th>18</th>\n",
       "      <td>195.0</td>\n",
       "      <td>155.5</td>\n",
       "      <td>39.5</td>\n",
       "    </tr>\n",
       "    <tr>\n",
       "      <th>19</th>\n",
       "      <td>145.0</td>\n",
       "      <td>116.0</td>\n",
       "      <td>29.0</td>\n",
       "    </tr>\n",
       "    <tr>\n",
       "      <th>20</th>\n",
       "      <td>133.0</td>\n",
       "      <td>104.5</td>\n",
       "      <td>28.5</td>\n",
       "    </tr>\n",
       "    <tr>\n",
       "      <th>21</th>\n",
       "      <td>114.0</td>\n",
       "      <td>91.5</td>\n",
       "      <td>22.5</td>\n",
       "    </tr>\n",
       "    <tr>\n",
       "      <th>22</th>\n",
       "      <td>97.0</td>\n",
       "      <td>77.5</td>\n",
       "      <td>19.5</td>\n",
       "    </tr>\n",
       "    <tr>\n",
       "      <th>23</th>\n",
       "      <td>159.0</td>\n",
       "      <td>123.5</td>\n",
       "      <td>35.5</td>\n",
       "    </tr>\n",
       "    <tr>\n",
       "      <th>24</th>\n",
       "      <td>213.0</td>\n",
       "      <td>167.5</td>\n",
       "      <td>45.5</td>\n",
       "    </tr>\n",
       "    <tr>\n",
       "      <th>25</th>\n",
       "      <td>180.0</td>\n",
       "      <td>143.0</td>\n",
       "      <td>37.0</td>\n",
       "    </tr>\n",
       "    <tr>\n",
       "      <th>26</th>\n",
       "      <td>115.0</td>\n",
       "      <td>89.0</td>\n",
       "      <td>26.0</td>\n",
       "    </tr>\n",
       "    <tr>\n",
       "      <th>27</th>\n",
       "      <td>214.0</td>\n",
       "      <td>170.0</td>\n",
       "      <td>44.0</td>\n",
       "    </tr>\n",
       "    <tr>\n",
       "      <th>28</th>\n",
       "      <td>67.0</td>\n",
       "      <td>53.5</td>\n",
       "      <td>13.5</td>\n",
       "    </tr>\n",
       "    <tr>\n",
       "      <th>29</th>\n",
       "      <td>211.0</td>\n",
       "      <td>165.0</td>\n",
       "      <td>46.0</td>\n",
       "    </tr>\n",
       "    <tr>\n",
       "      <th>30</th>\n",
       "      <td>140.0</td>\n",
       "      <td>109.0</td>\n",
       "      <td>31.0</td>\n",
       "    </tr>\n",
       "    <tr>\n",
       "      <th>31</th>\n",
       "      <td>134.0</td>\n",
       "      <td>108.5</td>\n",
       "      <td>25.5</td>\n",
       "    </tr>\n",
       "    <tr>\n",
       "      <th>32</th>\n",
       "      <td>208.0</td>\n",
       "      <td>164.5</td>\n",
       "      <td>43.5</td>\n",
       "    </tr>\n",
       "    <tr>\n",
       "      <th>33</th>\n",
       "      <td>127.0</td>\n",
       "      <td>99.5</td>\n",
       "      <td>27.5</td>\n",
       "    </tr>\n",
       "    <tr>\n",
       "      <th>34</th>\n",
       "      <td>161.0</td>\n",
       "      <td>124.0</td>\n",
       "      <td>37.0</td>\n",
       "    </tr>\n",
       "  </tbody>\n",
       "</table>\n",
       "</div>"
      ],
      "text/plain": [
       "    gross_sales  net_cost  net_profit\n",
       "0         245.0     192.0        53.0\n",
       "1         175.0     138.5        36.5\n",
       "2         124.0      98.0        26.0\n",
       "3         210.0     164.5        45.5\n",
       "4         135.0     106.0        29.0\n",
       "5          99.0      79.0        20.0\n",
       "6         190.0     150.5        39.5\n",
       "7         227.0     179.0        48.0\n",
       "8         225.0     175.5        49.5\n",
       "9         161.0     125.0        36.0\n",
       "10        178.0     142.0        36.0\n",
       "11        176.0     137.5        38.5\n",
       "12        154.0     122.5        31.5\n",
       "13        161.0     126.0        35.0\n",
       "14        184.0     145.5        38.5\n",
       "15        149.0     116.5        32.5\n",
       "16        187.0     146.0        41.0\n",
       "17        114.0      91.0        23.0\n",
       "18        195.0     155.5        39.5\n",
       "19        145.0     116.0        29.0\n",
       "20        133.0     104.5        28.5\n",
       "21        114.0      91.5        22.5\n",
       "22         97.0      77.5        19.5\n",
       "23        159.0     123.5        35.5\n",
       "24        213.0     167.5        45.5\n",
       "25        180.0     143.0        37.0\n",
       "26        115.0      89.0        26.0\n",
       "27        214.0     170.0        44.0\n",
       "28         67.0      53.5        13.5\n",
       "29        211.0     165.0        46.0\n",
       "30        140.0     109.0        31.0\n",
       "31        134.0     108.5        25.5\n",
       "32        208.0     164.5        43.5\n",
       "33        127.0      99.5        27.5\n",
       "34        161.0     124.0        37.0"
      ]
     },
     "execution_count": 25,
     "metadata": {},
     "output_type": "execute_result"
    }
   ],
   "source": [
    "#let's make a net profit column.\n",
    "totals_df['net_profit'] = totals_df['gross_sales']-totals_df['net_cost']\n",
    "totals_df"
   ]
  },
  {
   "cell_type": "code",
   "execution_count": 29,
   "id": "ade359f0",
   "metadata": {},
   "outputs": [
    {
     "data": {
      "text/html": [
       "<div>\n",
       "<style scoped>\n",
       "    .dataframe tbody tr th:only-of-type {\n",
       "        vertical-align: middle;\n",
       "    }\n",
       "\n",
       "    .dataframe tbody tr th {\n",
       "        vertical-align: top;\n",
       "    }\n",
       "\n",
       "    .dataframe thead th {\n",
       "        text-align: right;\n",
       "    }\n",
       "</style>\n",
       "<table border=\"1\" class=\"dataframe\">\n",
       "  <thead>\n",
       "    <tr style=\"text-align: right;\">\n",
       "      <th></th>\n",
       "      <th>almond</th>\n",
       "      <th>peanut</th>\n",
       "      <th>cashew</th>\n",
       "      <th>hazelnut</th>\n",
       "      <th>gross_sales</th>\n",
       "      <th>net_cost</th>\n",
       "      <th>net_profit</th>\n",
       "    </tr>\n",
       "  </thead>\n",
       "  <tbody>\n",
       "    <tr>\n",
       "      <th>0</th>\n",
       "      <td>9</td>\n",
       "      <td>6</td>\n",
       "      <td>6</td>\n",
       "      <td>8</td>\n",
       "      <td>245.0</td>\n",
       "      <td>192.0</td>\n",
       "      <td>53.0</td>\n",
       "    </tr>\n",
       "    <tr>\n",
       "      <th>1</th>\n",
       "      <td>1</td>\n",
       "      <td>8</td>\n",
       "      <td>6</td>\n",
       "      <td>7</td>\n",
       "      <td>175.0</td>\n",
       "      <td>138.5</td>\n",
       "      <td>36.5</td>\n",
       "    </tr>\n",
       "    <tr>\n",
       "      <th>2</th>\n",
       "      <td>2</td>\n",
       "      <td>8</td>\n",
       "      <td>1</td>\n",
       "      <td>5</td>\n",
       "      <td>124.0</td>\n",
       "      <td>98.0</td>\n",
       "      <td>26.0</td>\n",
       "    </tr>\n",
       "    <tr>\n",
       "      <th>3</th>\n",
       "      <td>8</td>\n",
       "      <td>6</td>\n",
       "      <td>4</td>\n",
       "      <td>7</td>\n",
       "      <td>210.0</td>\n",
       "      <td>164.5</td>\n",
       "      <td>45.5</td>\n",
       "    </tr>\n",
       "    <tr>\n",
       "      <th>4</th>\n",
       "      <td>9</td>\n",
       "      <td>3</td>\n",
       "      <td>2</td>\n",
       "      <td>2</td>\n",
       "      <td>135.0</td>\n",
       "      <td>106.0</td>\n",
       "      <td>29.0</td>\n",
       "    </tr>\n",
       "    <tr>\n",
       "      <th>5</th>\n",
       "      <td>1</td>\n",
       "      <td>6</td>\n",
       "      <td>3</td>\n",
       "      <td>3</td>\n",
       "      <td>99.0</td>\n",
       "      <td>79.0</td>\n",
       "      <td>20.0</td>\n",
       "    </tr>\n",
       "    <tr>\n",
       "      <th>6</th>\n",
       "      <td>2</td>\n",
       "      <td>9</td>\n",
       "      <td>6</td>\n",
       "      <td>7</td>\n",
       "      <td>190.0</td>\n",
       "      <td>150.5</td>\n",
       "      <td>39.5</td>\n",
       "    </tr>\n",
       "    <tr>\n",
       "      <th>7</th>\n",
       "      <td>3</td>\n",
       "      <td>9</td>\n",
       "      <td>7</td>\n",
       "      <td>9</td>\n",
       "      <td>227.0</td>\n",
       "      <td>179.0</td>\n",
       "      <td>48.0</td>\n",
       "    </tr>\n",
       "    <tr>\n",
       "      <th>8</th>\n",
       "      <td>9</td>\n",
       "      <td>4</td>\n",
       "      <td>5</td>\n",
       "      <td>8</td>\n",
       "      <td>225.0</td>\n",
       "      <td>175.5</td>\n",
       "      <td>49.5</td>\n",
       "    </tr>\n",
       "    <tr>\n",
       "      <th>9</th>\n",
       "      <td>3</td>\n",
       "      <td>1</td>\n",
       "      <td>6</td>\n",
       "      <td>8</td>\n",
       "      <td>161.0</td>\n",
       "      <td>125.0</td>\n",
       "      <td>36.0</td>\n",
       "    </tr>\n",
       "    <tr>\n",
       "      <th>10</th>\n",
       "      <td>4</td>\n",
       "      <td>9</td>\n",
       "      <td>6</td>\n",
       "      <td>4</td>\n",
       "      <td>178.0</td>\n",
       "      <td>142.0</td>\n",
       "      <td>36.0</td>\n",
       "    </tr>\n",
       "    <tr>\n",
       "      <th>11</th>\n",
       "      <td>2</td>\n",
       "      <td>1</td>\n",
       "      <td>9</td>\n",
       "      <td>8</td>\n",
       "      <td>176.0</td>\n",
       "      <td>137.5</td>\n",
       "      <td>38.5</td>\n",
       "    </tr>\n",
       "    <tr>\n",
       "      <th>12</th>\n",
       "      <td>6</td>\n",
       "      <td>9</td>\n",
       "      <td>2</td>\n",
       "      <td>3</td>\n",
       "      <td>154.0</td>\n",
       "      <td>122.5</td>\n",
       "      <td>31.5</td>\n",
       "    </tr>\n",
       "    <tr>\n",
       "      <th>13</th>\n",
       "      <td>9</td>\n",
       "      <td>4</td>\n",
       "      <td>2</td>\n",
       "      <td>4</td>\n",
       "      <td>161.0</td>\n",
       "      <td>126.0</td>\n",
       "      <td>35.0</td>\n",
       "    </tr>\n",
       "    <tr>\n",
       "      <th>14</th>\n",
       "      <td>8</td>\n",
       "      <td>3</td>\n",
       "      <td>8</td>\n",
       "      <td>3</td>\n",
       "      <td>184.0</td>\n",
       "      <td>145.5</td>\n",
       "      <td>38.5</td>\n",
       "    </tr>\n",
       "    <tr>\n",
       "      <th>15</th>\n",
       "      <td>1</td>\n",
       "      <td>1</td>\n",
       "      <td>8</td>\n",
       "      <td>7</td>\n",
       "      <td>149.0</td>\n",
       "      <td>116.5</td>\n",
       "      <td>32.5</td>\n",
       "    </tr>\n",
       "    <tr>\n",
       "      <th>16</th>\n",
       "      <td>5</td>\n",
       "      <td>5</td>\n",
       "      <td>4</td>\n",
       "      <td>8</td>\n",
       "      <td>187.0</td>\n",
       "      <td>146.0</td>\n",
       "      <td>41.0</td>\n",
       "    </tr>\n",
       "    <tr>\n",
       "      <th>17</th>\n",
       "      <td>6</td>\n",
       "      <td>7</td>\n",
       "      <td>1</td>\n",
       "      <td>1</td>\n",
       "      <td>114.0</td>\n",
       "      <td>91.0</td>\n",
       "      <td>23.0</td>\n",
       "    </tr>\n",
       "    <tr>\n",
       "      <th>18</th>\n",
       "      <td>5</td>\n",
       "      <td>9</td>\n",
       "      <td>7</td>\n",
       "      <td>4</td>\n",
       "      <td>195.0</td>\n",
       "      <td>155.5</td>\n",
       "      <td>39.5</td>\n",
       "    </tr>\n",
       "    <tr>\n",
       "      <th>19</th>\n",
       "      <td>3</td>\n",
       "      <td>8</td>\n",
       "      <td>5</td>\n",
       "      <td>3</td>\n",
       "      <td>145.0</td>\n",
       "      <td>116.0</td>\n",
       "      <td>29.0</td>\n",
       "    </tr>\n",
       "    <tr>\n",
       "      <th>20</th>\n",
       "      <td>3</td>\n",
       "      <td>4</td>\n",
       "      <td>4</td>\n",
       "      <td>5</td>\n",
       "      <td>133.0</td>\n",
       "      <td>104.5</td>\n",
       "      <td>28.5</td>\n",
       "    </tr>\n",
       "    <tr>\n",
       "      <th>21</th>\n",
       "      <td>4</td>\n",
       "      <td>6</td>\n",
       "      <td>4</td>\n",
       "      <td>1</td>\n",
       "      <td>114.0</td>\n",
       "      <td>91.5</td>\n",
       "      <td>22.5</td>\n",
       "    </tr>\n",
       "    <tr>\n",
       "      <th>22</th>\n",
       "      <td>1</td>\n",
       "      <td>7</td>\n",
       "      <td>2</td>\n",
       "      <td>3</td>\n",
       "      <td>97.0</td>\n",
       "      <td>77.5</td>\n",
       "      <td>19.5</td>\n",
       "    </tr>\n",
       "    <tr>\n",
       "      <th>23</th>\n",
       "      <td>3</td>\n",
       "      <td>2</td>\n",
       "      <td>5</td>\n",
       "      <td>8</td>\n",
       "      <td>159.0</td>\n",
       "      <td>123.5</td>\n",
       "      <td>35.5</td>\n",
       "    </tr>\n",
       "    <tr>\n",
       "      <th>24</th>\n",
       "      <td>9</td>\n",
       "      <td>8</td>\n",
       "      <td>3</td>\n",
       "      <td>6</td>\n",
       "      <td>213.0</td>\n",
       "      <td>167.5</td>\n",
       "      <td>45.5</td>\n",
       "    </tr>\n",
       "    <tr>\n",
       "      <th>25</th>\n",
       "      <td>4</td>\n",
       "      <td>9</td>\n",
       "      <td>5</td>\n",
       "      <td>5</td>\n",
       "      <td>180.0</td>\n",
       "      <td>143.0</td>\n",
       "      <td>37.0</td>\n",
       "    </tr>\n",
       "    <tr>\n",
       "      <th>26</th>\n",
       "      <td>5</td>\n",
       "      <td>2</td>\n",
       "      <td>1</td>\n",
       "      <td>5</td>\n",
       "      <td>115.0</td>\n",
       "      <td>89.0</td>\n",
       "      <td>26.0</td>\n",
       "    </tr>\n",
       "    <tr>\n",
       "      <th>27</th>\n",
       "      <td>8</td>\n",
       "      <td>9</td>\n",
       "      <td>6</td>\n",
       "      <td>4</td>\n",
       "      <td>214.0</td>\n",
       "      <td>170.0</td>\n",
       "      <td>44.0</td>\n",
       "    </tr>\n",
       "    <tr>\n",
       "      <th>28</th>\n",
       "      <td>1</td>\n",
       "      <td>5</td>\n",
       "      <td>1</td>\n",
       "      <td>2</td>\n",
       "      <td>67.0</td>\n",
       "      <td>53.5</td>\n",
       "      <td>13.5</td>\n",
       "    </tr>\n",
       "    <tr>\n",
       "      <th>29</th>\n",
       "      <td>5</td>\n",
       "      <td>6</td>\n",
       "      <td>5</td>\n",
       "      <td>9</td>\n",
       "      <td>211.0</td>\n",
       "      <td>165.0</td>\n",
       "      <td>46.0</td>\n",
       "    </tr>\n",
       "    <tr>\n",
       "      <th>30</th>\n",
       "      <td>4</td>\n",
       "      <td>2</td>\n",
       "      <td>4</td>\n",
       "      <td>6</td>\n",
       "      <td>140.0</td>\n",
       "      <td>109.0</td>\n",
       "      <td>31.0</td>\n",
       "    </tr>\n",
       "    <tr>\n",
       "      <th>31</th>\n",
       "      <td>2</td>\n",
       "      <td>7</td>\n",
       "      <td>8</td>\n",
       "      <td>1</td>\n",
       "      <td>134.0</td>\n",
       "      <td>108.5</td>\n",
       "      <td>25.5</td>\n",
       "    </tr>\n",
       "    <tr>\n",
       "      <th>32</th>\n",
       "      <td>8</td>\n",
       "      <td>9</td>\n",
       "      <td>4</td>\n",
       "      <td>5</td>\n",
       "      <td>208.0</td>\n",
       "      <td>164.5</td>\n",
       "      <td>43.5</td>\n",
       "    </tr>\n",
       "    <tr>\n",
       "      <th>33</th>\n",
       "      <td>7</td>\n",
       "      <td>3</td>\n",
       "      <td>2</td>\n",
       "      <td>3</td>\n",
       "      <td>127.0</td>\n",
       "      <td>99.5</td>\n",
       "      <td>27.5</td>\n",
       "    </tr>\n",
       "    <tr>\n",
       "      <th>34</th>\n",
       "      <td>5</td>\n",
       "      <td>3</td>\n",
       "      <td>1</td>\n",
       "      <td>9</td>\n",
       "      <td>161.0</td>\n",
       "      <td>124.0</td>\n",
       "      <td>37.0</td>\n",
       "    </tr>\n",
       "  </tbody>\n",
       "</table>\n",
       "</div>"
      ],
      "text/plain": [
       "    almond  peanut  cashew  hazelnut  gross_sales  net_cost  net_profit\n",
       "0        9       6       6         8        245.0     192.0        53.0\n",
       "1        1       8       6         7        175.0     138.5        36.5\n",
       "2        2       8       1         5        124.0      98.0        26.0\n",
       "3        8       6       4         7        210.0     164.5        45.5\n",
       "4        9       3       2         2        135.0     106.0        29.0\n",
       "5        1       6       3         3         99.0      79.0        20.0\n",
       "6        2       9       6         7        190.0     150.5        39.5\n",
       "7        3       9       7         9        227.0     179.0        48.0\n",
       "8        9       4       5         8        225.0     175.5        49.5\n",
       "9        3       1       6         8        161.0     125.0        36.0\n",
       "10       4       9       6         4        178.0     142.0        36.0\n",
       "11       2       1       9         8        176.0     137.5        38.5\n",
       "12       6       9       2         3        154.0     122.5        31.5\n",
       "13       9       4       2         4        161.0     126.0        35.0\n",
       "14       8       3       8         3        184.0     145.5        38.5\n",
       "15       1       1       8         7        149.0     116.5        32.5\n",
       "16       5       5       4         8        187.0     146.0        41.0\n",
       "17       6       7       1         1        114.0      91.0        23.0\n",
       "18       5       9       7         4        195.0     155.5        39.5\n",
       "19       3       8       5         3        145.0     116.0        29.0\n",
       "20       3       4       4         5        133.0     104.5        28.5\n",
       "21       4       6       4         1        114.0      91.5        22.5\n",
       "22       1       7       2         3         97.0      77.5        19.5\n",
       "23       3       2       5         8        159.0     123.5        35.5\n",
       "24       9       8       3         6        213.0     167.5        45.5\n",
       "25       4       9       5         5        180.0     143.0        37.0\n",
       "26       5       2       1         5        115.0      89.0        26.0\n",
       "27       8       9       6         4        214.0     170.0        44.0\n",
       "28       1       5       1         2         67.0      53.5        13.5\n",
       "29       5       6       5         9        211.0     165.0        46.0\n",
       "30       4       2       4         6        140.0     109.0        31.0\n",
       "31       2       7       8         1        134.0     108.5        25.5\n",
       "32       8       9       4         5        208.0     164.5        43.5\n",
       "33       7       3       2         3        127.0      99.5        27.5\n",
       "34       5       3       1         9        161.0     124.0        37.0"
      ]
     },
     "execution_count": 29,
     "metadata": {},
     "output_type": "execute_result"
    }
   ],
   "source": [
    "nut_butter_df = pd.concat([sales_data, totals_df], axis=1)\n",
    "nut_butter_df"
   ]
  },
  {
   "cell_type": "markdown",
   "id": "a8404d0b",
   "metadata": {},
   "source": [
    "## Comparison Operators"
   ]
  },
  {
   "cell_type": "code",
   "execution_count": 32,
   "id": "7689428a",
   "metadata": {},
   "outputs": [
    {
     "data": {
      "text/plain": [
       "array([[False, False, False],\n",
       "       [False, False, False],\n",
       "       [False, False, False]])"
      ]
     },
     "execution_count": 32,
     "metadata": {},
     "output_type": "execute_result"
    }
   ],
   "source": [
    "auto_array> auto_array2"
   ]
  },
  {
   "cell_type": "code",
   "execution_count": 33,
   "id": "28ecd0fa",
   "metadata": {},
   "outputs": [
    {
     "data": {
      "text/plain": [
       "array([[ True,  True,  True],\n",
       "       [ True,  True,  True],\n",
       "       [ True,  True,  True]])"
      ]
     },
     "execution_count": 33,
     "metadata": {},
     "output_type": "execute_result"
    }
   ],
   "source": [
    "auto_array == auto_array2\n",
    "#both these arrays are all 1s"
   ]
  },
  {
   "cell_type": "code",
   "execution_count": 36,
   "id": "4ad14896",
   "metadata": {},
   "outputs": [
    {
     "data": {
      "text/plain": [
       "array([[ True,  True,  True, False,  True],\n",
       "       [ True,  True,  True, False, False],\n",
       "       [ True, False,  True, False,  True]])"
      ]
     },
     "execution_count": 36,
     "metadata": {},
     "output_type": "execute_result"
    }
   ],
   "source": [
    "a1 = np.random.randint(0,10, size=(3,5))\n",
    "a2 = np.random.randint(0,10, size=(3,5))\n",
    "a1 <= a2"
   ]
  },
  {
   "cell_type": "markdown",
   "id": "04b41e77",
   "metadata": {},
   "source": [
    "## Sorting Arrays"
   ]
  },
  {
   "cell_type": "code",
   "execution_count": 42,
   "id": "cff53352",
   "metadata": {},
   "outputs": [
    {
     "data": {
      "text/plain": [
       "(3, 5)"
      ]
     },
     "execution_count": 42,
     "metadata": {},
     "output_type": "execute_result"
    }
   ],
   "source": [
    "np.random.seed(100)\n",
    "r_array = np.random.randint(0,10, size=(3,5))\n",
    "r_array.shape"
   ]
  },
  {
   "cell_type": "code",
   "execution_count": 43,
   "id": "d8529356",
   "metadata": {},
   "outputs": [
    {
     "data": {
      "text/plain": [
       "array([[8, 8, 3, 7, 7],\n",
       "       [0, 4, 2, 5, 2],\n",
       "       [2, 2, 1, 0, 8]])"
      ]
     },
     "execution_count": 43,
     "metadata": {},
     "output_type": "execute_result"
    }
   ],
   "source": [
    "r_array"
   ]
  },
  {
   "cell_type": "code",
   "execution_count": 45,
   "id": "1242d40b",
   "metadata": {},
   "outputs": [
    {
     "data": {
      "text/plain": [
       "array([[3, 7, 7, 8, 8],\n",
       "       [0, 2, 2, 4, 5],\n",
       "       [0, 1, 2, 2, 8]])"
      ]
     },
     "execution_count": 45,
     "metadata": {},
     "output_type": "execute_result"
    }
   ],
   "source": [
    "np.sort(r_array)"
   ]
  },
  {
   "cell_type": "code",
   "execution_count": 47,
   "id": "a2e53e84",
   "metadata": {},
   "outputs": [
    {
     "data": {
      "text/plain": [
       "array([[2, 3, 4, 0, 1],\n",
       "       [0, 2, 4, 1, 3],\n",
       "       [3, 2, 0, 1, 4]], dtype=int64)"
      ]
     },
     "execution_count": 47,
     "metadata": {},
     "output_type": "execute_result"
    }
   ],
   "source": [
    "np.argsort(r_array)"
   ]
  },
  {
   "cell_type": "code",
   "execution_count": 48,
   "id": "729a7d0c",
   "metadata": {},
   "outputs": [
    {
     "data": {
      "text/plain": [
       "0"
      ]
     },
     "execution_count": 48,
     "metadata": {},
     "output_type": "execute_result"
    }
   ],
   "source": [
    "np.argmax(r_array)"
   ]
  },
  {
   "cell_type": "code",
   "execution_count": 51,
   "id": "8d4ed333",
   "metadata": {},
   "outputs": [
    {
     "data": {
      "text/plain": [
       "array([0, 3, 4], dtype=int64)"
      ]
     },
     "execution_count": 51,
     "metadata": {},
     "output_type": "execute_result"
    }
   ],
   "source": [
    "np.argmax(r_array, axis=1)"
   ]
  },
  {
   "cell_type": "markdown",
   "id": "6ec49a3d",
   "metadata": {},
   "source": [
    "## Using Numpy to Read Images"
   ]
  },
  {
   "cell_type": "code",
   "execution_count": 58,
   "id": "d4ee5633",
   "metadata": {},
   "outputs": [
    {
     "name": "stdout",
     "output_type": "stream",
     "text": [
      "2328000 (485, 1200, 4) 3\n"
     ]
    }
   ],
   "source": [
    "from matplotlib.image import imread\n",
    "pandas_photo = imread('Pictures/pandas_logo.png')\n",
    "print(pandas_photo.size, pandas_photo.shape, pandas_photo.ndim)"
   ]
  },
  {
   "cell_type": "code",
   "execution_count": 61,
   "id": "2512b13e",
   "metadata": {},
   "outputs": [
    {
     "data": {
      "text/plain": [
       "array([0., 0., 0., 0.], dtype=float32)"
      ]
     },
     "execution_count": 61,
     "metadata": {},
     "output_type": "execute_result"
    }
   ],
   "source": [
    "pandas_photo[0, 0]"
   ]
  }
 ],
 "metadata": {
  "kernelspec": {
   "display_name": "Python 3",
   "language": "python",
   "name": "python3"
  },
  "language_info": {
   "codemirror_mode": {
    "name": "ipython",
    "version": 3
   },
   "file_extension": ".py",
   "mimetype": "text/x-python",
   "name": "python",
   "nbconvert_exporter": "python",
   "pygments_lexer": "ipython3",
   "version": "3.8.8"
  }
 },
 "nbformat": 4,
 "nbformat_minor": 5
}
