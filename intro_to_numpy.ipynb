{
 "cells": [
  {
   "cell_type": "markdown",
   "id": "371ff604",
   "metadata": {},
   "source": [
    "## Intro to Numpy"
   ]
  },
  {
   "cell_type": "code",
   "execution_count": 2,
   "id": "6b005afb",
   "metadata": {},
   "outputs": [
    {
     "name": "stdout",
     "output_type": "stream",
     "text": [
      "<class 'numpy.ndarray'>\n",
      "[11 13 11 15  2  1  6 19 13  9]\n"
     ]
    }
   ],
   "source": [
    "import numpy as np\n",
    "import random\n",
    "a =np.array([random.randint(0,21) for i in range(10)])\n",
    "print(type(a))\n",
    "print(a)"
   ]
  },
  {
   "cell_type": "code",
   "execution_count": 13,
   "id": "c64702d3",
   "metadata": {},
   "outputs": [
    {
     "name": "stdout",
     "output_type": "stream",
     "text": [
      "(2, 3, 4)\n",
      "24\n",
      "int32\n",
      "<class 'numpy.ndarray'>\n"
     ]
    }
   ],
   "source": [
    "a1 = np.array([[[1,0,1,0],[1,1,1,0],[0,0,0,1]], [[1,1,1,0],[1,0,0,0],[1,0,0,1]]])\n",
    "print(a1.shape)\n",
    "print(a1.size)\n",
    "print(a1.dtype)\n",
    "print(type(a1))"
   ]
  },
  {
   "cell_type": "code",
   "execution_count": 16,
   "id": "984ab879",
   "metadata": {},
   "outputs": [
    {
     "data": {
      "text/html": [
       "<div>\n",
       "<style scoped>\n",
       "    .dataframe tbody tr th:only-of-type {\n",
       "        vertical-align: middle;\n",
       "    }\n",
       "\n",
       "    .dataframe tbody tr th {\n",
       "        vertical-align: top;\n",
       "    }\n",
       "\n",
       "    .dataframe thead th {\n",
       "        text-align: right;\n",
       "    }\n",
       "</style>\n",
       "<table border=\"1\" class=\"dataframe\">\n",
       "  <thead>\n",
       "    <tr style=\"text-align: right;\">\n",
       "      <th></th>\n",
       "      <th>0</th>\n",
       "      <th>1</th>\n",
       "      <th>2</th>\n",
       "      <th>3</th>\n",
       "    </tr>\n",
       "  </thead>\n",
       "  <tbody>\n",
       "    <tr>\n",
       "      <th>0</th>\n",
       "      <td>1</td>\n",
       "      <td>1</td>\n",
       "      <td>1</td>\n",
       "      <td>0</td>\n",
       "    </tr>\n",
       "    <tr>\n",
       "      <th>1</th>\n",
       "      <td>1</td>\n",
       "      <td>0</td>\n",
       "      <td>0</td>\n",
       "      <td>0</td>\n",
       "    </tr>\n",
       "    <tr>\n",
       "      <th>2</th>\n",
       "      <td>1</td>\n",
       "      <td>0</td>\n",
       "      <td>0</td>\n",
       "      <td>1</td>\n",
       "    </tr>\n",
       "  </tbody>\n",
       "</table>\n",
       "</div>"
      ],
      "text/plain": [
       "   0  1  2  3\n",
       "0  1  1  1  0\n",
       "1  1  0  0  0\n",
       "2  1  0  0  1"
      ]
     },
     "execution_count": 16,
     "metadata": {},
     "output_type": "execute_result"
    }
   ],
   "source": [
    "import pandas as pd\n",
    "df = pd.DataFrame(a1[1])\n",
    "#if there are three dimensions, you will have to select a single object for display in a pandas DataFrame\n",
    "df"
   ]
  },
  {
   "cell_type": "markdown",
   "id": "0305c5d7",
   "metadata": {},
   "source": [
    "## Creating Numpy Arrays"
   ]
  },
  {
   "cell_type": "code",
   "execution_count": 22,
   "id": "d5d0a9cb",
   "metadata": {},
   "outputs": [
    {
     "name": "stdout",
     "output_type": "stream",
     "text": [
      "1\n",
      " [1. 1. 1.]\n",
      "2\n",
      " [[1. 1. 1.]\n",
      " [1. 1. 1.]\n",
      " [1. 1. 1.]]\n",
      "3\n",
      " [[[1. 1. 1.]\n",
      "  [1. 1. 1.]\n",
      "  [1. 1. 1.]]\n",
      "\n",
      " [[1. 1. 1.]\n",
      "  [1. 1. 1.]\n",
      "  [1. 1. 1.]]\n",
      "\n",
      " [[1. 1. 1.]\n",
      "  [1. 1. 1.]\n",
      "  [1. 1. 1.]]]\n"
     ]
    }
   ],
   "source": [
    "auto_array = np.ones((3))\n",
    "print('1\\n', auto_array)\n",
    "auto_array2 = np.ones((3,3))\n",
    "print('2\\n', auto_array2)\n",
    "auto_array3 = np.ones((3,3,3))\n",
    "print('3\\n', auto_array3)"
   ]
  },
  {
   "cell_type": "code",
   "execution_count": 28,
   "id": "c8c325a0",
   "metadata": {},
   "outputs": [
    {
     "data": {
      "text/plain": [
       "array([[0., 0., 0.],\n",
       "       [0., 0., 0.]])"
      ]
     },
     "execution_count": 28,
     "metadata": {},
     "output_type": "execute_result"
    }
   ],
   "source": [
    "zeros_array = np.zeros((2,3))\n",
    "zeros_array"
   ]
  },
  {
   "cell_type": "code",
   "execution_count": 26,
   "id": "e241210a",
   "metadata": {},
   "outputs": [
    {
     "data": {
      "text/plain": [
       "array([ 0,  7, 14, 21, 28, 35, 42, 49, 56, 63, 70, 77, 84, 91, 98])"
      ]
     },
     "execution_count": 26,
     "metadata": {},
     "output_type": "execute_result"
    }
   ],
   "source": [
    "range_step = np.arange(0,100,7)\n",
    "range_step"
   ]
  },
  {
   "cell_type": "code",
   "execution_count": 29,
   "id": "bfb8fc8d",
   "metadata": {},
   "outputs": [
    {
     "data": {
      "text/plain": [
       "array([[59,  7, 79, 18, 33],\n",
       "       [22, 83, 43, 70, 28]])"
      ]
     },
     "execution_count": 29,
     "metadata": {},
     "output_type": "execute_result"
    }
   ],
   "source": [
    "random_array = np.random.randint(0,100, size=(2,5))\n",
    "random_array"
   ]
  },
  {
   "cell_type": "markdown",
   "id": "16211302",
   "metadata": {},
   "source": [
    "## Random Seed\n",
    "Reproducible psuedo-random numbers"
   ]
  },
  {
   "cell_type": "code",
   "execution_count": 37,
   "id": "24522bdd",
   "metadata": {},
   "outputs": [
    {
     "data": {
      "text/plain": [
       "array([[5, 0, 3, 3, 7],\n",
       "       [9, 3, 5, 2, 4],\n",
       "       [7, 6, 8, 8, 1],\n",
       "       [6, 7, 7, 8, 1],\n",
       "       [5, 9, 8, 9, 4],\n",
       "       [3, 0, 3, 5, 0],\n",
       "       [2, 3, 8, 1, 3]])"
      ]
     },
     "execution_count": 37,
     "metadata": {},
     "output_type": "execute_result"
    }
   ],
   "source": [
    "np.random.seed(seed=0)\n",
    "random2 = np.random.randint(0,10, size=(7,5))\n",
    "random2"
   ]
  },
  {
   "cell_type": "code",
   "execution_count": 39,
   "id": "bf47c1a6",
   "metadata": {},
   "outputs": [
    {
     "data": {
      "text/plain": [
       "array([[0.07630829, 0.77991879, 0.43840923, 0.72346518, 0.97798951],\n",
       "       [0.53849587, 0.50112046, 0.07205113, 0.26843898, 0.4998825 ],\n",
       "       [0.67923   , 0.80373904, 0.38094113, 0.06593635, 0.2881456 ],\n",
       "       [0.90959353, 0.21338535, 0.45212396, 0.93120602, 0.02489923],\n",
       "       [0.60054892, 0.9501295 , 0.23030288, 0.54848992, 0.90912837],\n",
       "       [0.13316945, 0.52341258, 0.75040986, 0.66901324, 0.46775286],\n",
       "       [0.20484909, 0.49076589, 0.37238469, 0.47740115, 0.36589039]])"
      ]
     },
     "execution_count": 39,
     "metadata": {},
     "output_type": "execute_result"
    }
   ],
   "source": [
    "np.random.seed(seed=7)\n",
    "random3 =np.random.random((7,5))\n",
    "random3"
   ]
  },
  {
   "cell_type": "code",
   "execution_count": 41,
   "id": "bdb4aae7",
   "metadata": {},
   "outputs": [
    {
     "data": {
      "text/plain": [
       "array([[0.07630829, 0.77991879, 0.43840923, 0.72346518, 0.97798951]])"
      ]
     },
     "execution_count": 41,
     "metadata": {},
     "output_type": "execute_result"
    }
   ],
   "source": [
    "np.random.seed(seed=7)\n",
    "random4 =np.random.random((1,5))\n",
    "random4"
   ]
  },
  {
   "cell_type": "markdown",
   "id": "7575fd31",
   "metadata": {},
   "source": [
    "## Viewing Arrays and Matrices"
   ]
  },
  {
   "cell_type": "code",
   "execution_count": 43,
   "id": "b4f69311",
   "metadata": {},
   "outputs": [
    {
     "data": {
      "text/plain": [
       "array([0, 1, 2, 3, 4, 5, 6, 7, 8, 9])"
      ]
     },
     "execution_count": 43,
     "metadata": {},
     "output_type": "execute_result"
    }
   ],
   "source": [
    "np.unique(random2)"
   ]
  },
  {
   "cell_type": "code",
   "execution_count": 44,
   "id": "9159d932",
   "metadata": {},
   "outputs": [
    {
     "data": {
      "text/plain": [
       "1.0"
      ]
     },
     "execution_count": 44,
     "metadata": {},
     "output_type": "execute_result"
    }
   ],
   "source": [
    "auto_array[0]"
   ]
  },
  {
   "cell_type": "code",
   "execution_count": 45,
   "id": "57a830fa",
   "metadata": {},
   "outputs": [
    {
     "data": {
      "text/plain": [
       "array([1., 1., 1.])"
      ]
     },
     "execution_count": 45,
     "metadata": {},
     "output_type": "execute_result"
    }
   ],
   "source": [
    "auto_array2[0]"
   ]
  },
  {
   "cell_type": "code",
   "execution_count": 46,
   "id": "e6f204d3",
   "metadata": {},
   "outputs": [
    {
     "data": {
      "text/plain": [
       "array([[1., 1., 1.],\n",
       "       [1., 1., 1.],\n",
       "       [1., 1., 1.]])"
      ]
     },
     "execution_count": 46,
     "metadata": {},
     "output_type": "execute_result"
    }
   ],
   "source": [
    "auto_array3[0]"
   ]
  },
  {
   "cell_type": "code",
   "execution_count": 49,
   "id": "319c99b4",
   "metadata": {},
   "outputs": [
    {
     "data": {
      "text/plain": [
       "array([[[1.]]])"
      ]
     },
     "execution_count": 49,
     "metadata": {},
     "output_type": "execute_result"
    }
   ],
   "source": [
    "auto_array3[-1:,-1:,-1:]"
   ]
  },
  {
   "cell_type": "code",
   "execution_count": 53,
   "id": "728c07c4",
   "metadata": {},
   "outputs": [
    {
     "data": {
      "text/plain": [
       "array([[[[7, 0, 5, 8, 9],\n",
       "         [7, 7, 6, 2, 5],\n",
       "         [6, 1, 9, 3, 4],\n",
       "         [0, 3, 5, 6, 4]],\n",
       "\n",
       "        [[0, 4, 1, 5, 2],\n",
       "         [4, 8, 7, 5, 7],\n",
       "         [5, 3, 7, 6, 2],\n",
       "         [3, 1, 1, 8, 4]],\n",
       "\n",
       "        [[2, 1, 7, 0, 8],\n",
       "         [8, 1, 2, 3, 0],\n",
       "         [1, 1, 5, 5, 6],\n",
       "         [0, 9, 3, 2, 4]]],\n",
       "\n",
       "\n",
       "       [[[2, 8, 4, 9, 0],\n",
       "         [0, 2, 6, 3, 9],\n",
       "         [5, 4, 6, 9, 9],\n",
       "         [9, 4, 8, 2, 4]],\n",
       "\n",
       "        [[6, 5, 3, 5, 2],\n",
       "         [6, 4, 3, 2, 5],\n",
       "         [9, 7, 5, 8, 5],\n",
       "         [2, 0, 9, 3, 2]],\n",
       "\n",
       "        [[2, 4, 3, 4, 8],\n",
       "         [7, 0, 2, 7, 8],\n",
       "         [8, 4, 0, 4, 1],\n",
       "         [7, 4, 9, 0, 1]]]])"
      ]
     },
     "execution_count": 53,
     "metadata": {},
     "output_type": "execute_result"
    }
   ],
   "source": [
    "#make a big array \n",
    "big_array = np.random.randint(0,10,size=(2,3,4,5))\n",
    "big_array"
   ]
  },
  {
   "cell_type": "code",
   "execution_count": 54,
   "id": "0dda1a62",
   "metadata": {},
   "outputs": [
    {
     "data": {
      "text/plain": [
       "array([[[2, 4, 3, 4, 8]]])"
      ]
     },
     "execution_count": 54,
     "metadata": {},
     "output_type": "execute_result"
    }
   ],
   "source": [
    "#get all 5 values of the first 1st-dimensional unit from the last 2nd-dimensional unit\n",
    "big_array[-1:,-1:,0,:]"
   ]
  }
 ],
 "metadata": {
  "kernelspec": {
   "display_name": "Python 3",
   "language": "python",
   "name": "python3"
  },
  "language_info": {
   "codemirror_mode": {
    "name": "ipython",
    "version": 3
   },
   "file_extension": ".py",
   "mimetype": "text/x-python",
   "name": "python",
   "nbconvert_exporter": "python",
   "pygments_lexer": "ipython3",
   "version": "3.8.8"
  }
 },
 "nbformat": 4,
 "nbformat_minor": 5
}
