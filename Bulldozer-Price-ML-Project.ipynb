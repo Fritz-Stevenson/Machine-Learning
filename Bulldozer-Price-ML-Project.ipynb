{
 "cells": [
  {
   "cell_type": "markdown",
   "id": "a1feaecd",
   "metadata": {},
   "source": [
    "# Bulldozer Price Prediction Machine Learning Project\n",
    "\n",
    "#### This project aims to predict the price of buldozers put up for option based on Specification factors.\n",
    "\n",
    "**Data**\n",
    "\n",
    "This project uses data obtained from Kaggle's Blue book for Bulldozers competition:\n",
    "https://www.kaggle.com/c/bluebook-for-bulldozers/data\n",
    "It features multiple training and test set that have already be split for immediate use and benchmarks for gauging our performance.\n",
    "\n",
    "**Evaluation:**\n",
    "\n",
    "Our metric of success is the RMSLE or root mean squared log error. \n",
    "We want to post a RMSLE smaller than the median benchmark provided by kaggle minimize it RMSLE as much as possible.\n",
    "\n",
    "**Features**\n",
    "\n",
    "* SalesID: the uniue identifier of the sale\n",
    "* MachineID: the unique identifier of a machine.  A machine can be sold multiple times\n",
    "* saleprice: what the machine sold for at auction (only provided in train.csv)\n",
    "* saledate: the date of the sale\n",
    "\n"
   ]
  },
  {
   "cell_type": "markdown",
   "id": "3d591508",
   "metadata": {},
   "source": [
    "## Data Exploration (EDA)\n",
    "\n",
    "#### Exploring the data features prior to modelling and testing."
   ]
  },
  {
   "cell_type": "code",
   "execution_count": 2,
   "id": "8d4b1946",
   "metadata": {},
   "outputs": [],
   "source": [
    "import pandas as pd\n",
    "import numpy as np\n",
    "%matplotlib inline\n",
    "import matplotlib.pyplot as plt"
   ]
  },
  {
   "cell_type": "code",
   "execution_count": 123,
   "id": "929396e9",
   "metadata": {},
   "outputs": [
    {
     "data": {
      "text/plain": [
       "(412698, 53)"
      ]
     },
     "execution_count": 123,
     "metadata": {},
     "output_type": "execute_result"
    }
   ],
   "source": [
    "train_validation_df = pd.read_csv('C:\\\\Users\\\\fritz\\\\Documents\\\\DataBases\\\\bluebook-for-bulldozers\\\\TrainAndValid.csv',\n",
    "                                 low_memory=False)\n",
    "train_validation_df.shape"
   ]
  },
  {
   "cell_type": "code",
   "execution_count": 124,
   "id": "b50489f1",
   "metadata": {},
   "outputs": [
    {
     "data": {
      "text/html": [
       "<div>\n",
       "<style scoped>\n",
       "    .dataframe tbody tr th:only-of-type {\n",
       "        vertical-align: middle;\n",
       "    }\n",
       "\n",
       "    .dataframe tbody tr th {\n",
       "        vertical-align: top;\n",
       "    }\n",
       "\n",
       "    .dataframe thead th {\n",
       "        text-align: right;\n",
       "    }\n",
       "</style>\n",
       "<table border=\"1\" class=\"dataframe\">\n",
       "  <thead>\n",
       "    <tr style=\"text-align: right;\">\n",
       "      <th></th>\n",
       "      <th>SalesID</th>\n",
       "      <th>SalePrice</th>\n",
       "      <th>MachineID</th>\n",
       "      <th>ModelID</th>\n",
       "      <th>datasource</th>\n",
       "      <th>auctioneerID</th>\n",
       "      <th>YearMade</th>\n",
       "      <th>MachineHoursCurrentMeter</th>\n",
       "      <th>UsageBand</th>\n",
       "      <th>saledate</th>\n",
       "      <th>...</th>\n",
       "      <th>Undercarriage_Pad_Width</th>\n",
       "      <th>Stick_Length</th>\n",
       "      <th>Thumb</th>\n",
       "      <th>Pattern_Changer</th>\n",
       "      <th>Grouser_Type</th>\n",
       "      <th>Backhoe_Mounting</th>\n",
       "      <th>Blade_Type</th>\n",
       "      <th>Travel_Controls</th>\n",
       "      <th>Differential_Type</th>\n",
       "      <th>Steering_Controls</th>\n",
       "    </tr>\n",
       "  </thead>\n",
       "  <tbody>\n",
       "    <tr>\n",
       "      <th>0</th>\n",
       "      <td>1139246</td>\n",
       "      <td>66000.0</td>\n",
       "      <td>999089</td>\n",
       "      <td>3157</td>\n",
       "      <td>121</td>\n",
       "      <td>3.0</td>\n",
       "      <td>2004</td>\n",
       "      <td>68.0</td>\n",
       "      <td>Low</td>\n",
       "      <td>11/16/2006 0:00</td>\n",
       "      <td>...</td>\n",
       "      <td>NaN</td>\n",
       "      <td>NaN</td>\n",
       "      <td>NaN</td>\n",
       "      <td>NaN</td>\n",
       "      <td>NaN</td>\n",
       "      <td>NaN</td>\n",
       "      <td>NaN</td>\n",
       "      <td>NaN</td>\n",
       "      <td>Standard</td>\n",
       "      <td>Conventional</td>\n",
       "    </tr>\n",
       "    <tr>\n",
       "      <th>1</th>\n",
       "      <td>1139248</td>\n",
       "      <td>57000.0</td>\n",
       "      <td>117657</td>\n",
       "      <td>77</td>\n",
       "      <td>121</td>\n",
       "      <td>3.0</td>\n",
       "      <td>1996</td>\n",
       "      <td>4640.0</td>\n",
       "      <td>Low</td>\n",
       "      <td>3/26/2004 0:00</td>\n",
       "      <td>...</td>\n",
       "      <td>NaN</td>\n",
       "      <td>NaN</td>\n",
       "      <td>NaN</td>\n",
       "      <td>NaN</td>\n",
       "      <td>NaN</td>\n",
       "      <td>NaN</td>\n",
       "      <td>NaN</td>\n",
       "      <td>NaN</td>\n",
       "      <td>Standard</td>\n",
       "      <td>Conventional</td>\n",
       "    </tr>\n",
       "    <tr>\n",
       "      <th>2</th>\n",
       "      <td>1139249</td>\n",
       "      <td>10000.0</td>\n",
       "      <td>434808</td>\n",
       "      <td>7009</td>\n",
       "      <td>121</td>\n",
       "      <td>3.0</td>\n",
       "      <td>2001</td>\n",
       "      <td>2838.0</td>\n",
       "      <td>High</td>\n",
       "      <td>2/26/2004 0:00</td>\n",
       "      <td>...</td>\n",
       "      <td>NaN</td>\n",
       "      <td>NaN</td>\n",
       "      <td>NaN</td>\n",
       "      <td>NaN</td>\n",
       "      <td>NaN</td>\n",
       "      <td>NaN</td>\n",
       "      <td>NaN</td>\n",
       "      <td>NaN</td>\n",
       "      <td>NaN</td>\n",
       "      <td>NaN</td>\n",
       "    </tr>\n",
       "    <tr>\n",
       "      <th>3</th>\n",
       "      <td>1139251</td>\n",
       "      <td>38500.0</td>\n",
       "      <td>1026470</td>\n",
       "      <td>332</td>\n",
       "      <td>121</td>\n",
       "      <td>3.0</td>\n",
       "      <td>2001</td>\n",
       "      <td>3486.0</td>\n",
       "      <td>High</td>\n",
       "      <td>5/19/2011 0:00</td>\n",
       "      <td>...</td>\n",
       "      <td>NaN</td>\n",
       "      <td>NaN</td>\n",
       "      <td>NaN</td>\n",
       "      <td>NaN</td>\n",
       "      <td>NaN</td>\n",
       "      <td>NaN</td>\n",
       "      <td>NaN</td>\n",
       "      <td>NaN</td>\n",
       "      <td>NaN</td>\n",
       "      <td>NaN</td>\n",
       "    </tr>\n",
       "    <tr>\n",
       "      <th>4</th>\n",
       "      <td>1139253</td>\n",
       "      <td>11000.0</td>\n",
       "      <td>1057373</td>\n",
       "      <td>17311</td>\n",
       "      <td>121</td>\n",
       "      <td>3.0</td>\n",
       "      <td>2007</td>\n",
       "      <td>722.0</td>\n",
       "      <td>Medium</td>\n",
       "      <td>7/23/2009 0:00</td>\n",
       "      <td>...</td>\n",
       "      <td>NaN</td>\n",
       "      <td>NaN</td>\n",
       "      <td>NaN</td>\n",
       "      <td>NaN</td>\n",
       "      <td>NaN</td>\n",
       "      <td>NaN</td>\n",
       "      <td>NaN</td>\n",
       "      <td>NaN</td>\n",
       "      <td>NaN</td>\n",
       "      <td>NaN</td>\n",
       "    </tr>\n",
       "  </tbody>\n",
       "</table>\n",
       "<p>5 rows × 53 columns</p>\n",
       "</div>"
      ],
      "text/plain": [
       "   SalesID  SalePrice  MachineID  ModelID  datasource  auctioneerID  YearMade  \\\n",
       "0  1139246    66000.0     999089     3157         121           3.0      2004   \n",
       "1  1139248    57000.0     117657       77         121           3.0      1996   \n",
       "2  1139249    10000.0     434808     7009         121           3.0      2001   \n",
       "3  1139251    38500.0    1026470      332         121           3.0      2001   \n",
       "4  1139253    11000.0    1057373    17311         121           3.0      2007   \n",
       "\n",
       "   MachineHoursCurrentMeter UsageBand         saledate  ...  \\\n",
       "0                      68.0       Low  11/16/2006 0:00  ...   \n",
       "1                    4640.0       Low   3/26/2004 0:00  ...   \n",
       "2                    2838.0      High   2/26/2004 0:00  ...   \n",
       "3                    3486.0      High   5/19/2011 0:00  ...   \n",
       "4                     722.0    Medium   7/23/2009 0:00  ...   \n",
       "\n",
       "  Undercarriage_Pad_Width Stick_Length Thumb Pattern_Changer Grouser_Type  \\\n",
       "0                     NaN          NaN   NaN             NaN          NaN   \n",
       "1                     NaN          NaN   NaN             NaN          NaN   \n",
       "2                     NaN          NaN   NaN             NaN          NaN   \n",
       "3                     NaN          NaN   NaN             NaN          NaN   \n",
       "4                     NaN          NaN   NaN             NaN          NaN   \n",
       "\n",
       "  Backhoe_Mounting Blade_Type Travel_Controls Differential_Type  \\\n",
       "0              NaN        NaN             NaN          Standard   \n",
       "1              NaN        NaN             NaN          Standard   \n",
       "2              NaN        NaN             NaN               NaN   \n",
       "3              NaN        NaN             NaN               NaN   \n",
       "4              NaN        NaN             NaN               NaN   \n",
       "\n",
       "  Steering_Controls  \n",
       "0      Conventional  \n",
       "1      Conventional  \n",
       "2               NaN  \n",
       "3               NaN  \n",
       "4               NaN  \n",
       "\n",
       "[5 rows x 53 columns]"
      ]
     },
     "execution_count": 124,
     "metadata": {},
     "output_type": "execute_result"
    }
   ],
   "source": [
    "train_validation_df.head(5)"
   ]
  },
  {
   "cell_type": "code",
   "execution_count": 125,
   "id": "124189ae",
   "metadata": {},
   "outputs": [
    {
     "data": {
      "text/plain": [
       "SalesID                       int64\n",
       "SalePrice                   float64\n",
       "MachineID                     int64\n",
       "ModelID                       int64\n",
       "datasource                    int64\n",
       "auctioneerID                float64\n",
       "YearMade                      int64\n",
       "MachineHoursCurrentMeter    float64\n",
       "UsageBand                    object\n",
       "saledate                     object\n",
       "fiModelDesc                  object\n",
       "fiBaseModel                  object\n",
       "fiSecondaryDesc              object\n",
       "fiModelSeries                object\n",
       "fiModelDescriptor            object\n",
       "ProductSize                  object\n",
       "fiProductClassDesc           object\n",
       "state                        object\n",
       "ProductGroup                 object\n",
       "ProductGroupDesc             object\n",
       "Drive_System                 object\n",
       "Enclosure                    object\n",
       "Forks                        object\n",
       "Pad_Type                     object\n",
       "Ride_Control                 object\n",
       "Stick                        object\n",
       "Transmission                 object\n",
       "Turbocharged                 object\n",
       "Blade_Extension              object\n",
       "Blade_Width                  object\n",
       "Enclosure_Type               object\n",
       "Engine_Horsepower            object\n",
       "Hydraulics                   object\n",
       "Pushblock                    object\n",
       "Ripper                       object\n",
       "Scarifier                    object\n",
       "Tip_Control                  object\n",
       "Tire_Size                    object\n",
       "Coupler                      object\n",
       "Coupler_System               object\n",
       "Grouser_Tracks               object\n",
       "Hydraulics_Flow              object\n",
       "Track_Type                   object\n",
       "Undercarriage_Pad_Width      object\n",
       "Stick_Length                 object\n",
       "Thumb                        object\n",
       "Pattern_Changer              object\n",
       "Grouser_Type                 object\n",
       "Backhoe_Mounting             object\n",
       "Blade_Type                   object\n",
       "Travel_Controls              object\n",
       "Differential_Type            object\n",
       "Steering_Controls            object\n",
       "dtype: object"
      ]
     },
     "execution_count": 125,
     "metadata": {},
     "output_type": "execute_result"
    }
   ],
   "source": [
    "train_validation_df.dtypes"
   ]
  },
  {
   "cell_type": "markdown",
   "id": "79867a27",
   "metadata": {},
   "source": [
    " Most of our data is object type and we have a datetime column that hasn't been parsed.\n",
    "    \n",
    "After reloading the data set with parsed dates, we need to seriously consider how we will break down these categorical object columns."
   ]
  },
  {
   "cell_type": "code",
   "execution_count": 3,
   "id": "0927c9d8",
   "metadata": {},
   "outputs": [
    {
     "data": {
      "text/plain": [
       "0   2006-11-16\n",
       "1   2004-03-26\n",
       "2   2004-02-26\n",
       "3   2011-05-19\n",
       "4   2009-07-23\n",
       "Name: saledate, dtype: datetime64[ns]"
      ]
     },
     "execution_count": 3,
     "metadata": {},
     "output_type": "execute_result"
    }
   ],
   "source": [
    "train_validation_df = pd.read_csv('C:\\\\Users\\\\fritz\\\\Documents\\\\DataBases\\\\bluebook-for-bulldozers\\\\TrainAndValid.csv',\n",
    "                                 low_memory=False,\n",
    "                                 parse_dates=['saledate'])\n",
    "train_validation_df.saledate[:5]"
   ]
  },
  {
   "cell_type": "code",
   "execution_count": 4,
   "id": "f30b8ff8",
   "metadata": {},
   "outputs": [
    {
     "data": {
      "text/plain": [
       "['__annotations__',\n",
       " '__class__',\n",
       " '__delattr__',\n",
       " '__dict__',\n",
       " '__dir__',\n",
       " '__doc__',\n",
       " '__eq__',\n",
       " '__format__',\n",
       " '__frozen',\n",
       " '__ge__',\n",
       " '__getattribute__',\n",
       " '__gt__',\n",
       " '__hash__',\n",
       " '__init__',\n",
       " '__init_subclass__',\n",
       " '__le__',\n",
       " '__lt__',\n",
       " '__module__',\n",
       " '__ne__',\n",
       " '__new__',\n",
       " '__reduce__',\n",
       " '__reduce_ex__',\n",
       " '__repr__',\n",
       " '__setattr__',\n",
       " '__sizeof__',\n",
       " '__str__',\n",
       " '__subclasshook__',\n",
       " '__weakref__',\n",
       " '_accessors',\n",
       " '_add_delegate_accessors',\n",
       " '_constructor',\n",
       " '_delegate_method',\n",
       " '_delegate_property_get',\n",
       " '_delegate_property_set',\n",
       " '_dir_additions',\n",
       " '_dir_deletions',\n",
       " '_freeze',\n",
       " '_get_values',\n",
       " '_hidden_attrs',\n",
       " '_parent',\n",
       " '_reset_cache',\n",
       " 'ceil',\n",
       " 'date',\n",
       " 'day',\n",
       " 'day_name',\n",
       " 'day_of_week',\n",
       " 'day_of_year',\n",
       " 'dayofweek',\n",
       " 'dayofyear',\n",
       " 'days_in_month',\n",
       " 'daysinmonth',\n",
       " 'floor',\n",
       " 'freq',\n",
       " 'hour',\n",
       " 'is_leap_year',\n",
       " 'is_month_end',\n",
       " 'is_month_start',\n",
       " 'is_quarter_end',\n",
       " 'is_quarter_start',\n",
       " 'is_year_end',\n",
       " 'is_year_start',\n",
       " 'isocalendar',\n",
       " 'microsecond',\n",
       " 'minute',\n",
       " 'month',\n",
       " 'month_name',\n",
       " 'nanosecond',\n",
       " 'normalize',\n",
       " 'quarter',\n",
       " 'round',\n",
       " 'second',\n",
       " 'strftime',\n",
       " 'time',\n",
       " 'timetz',\n",
       " 'to_period',\n",
       " 'to_pydatetime',\n",
       " 'tz',\n",
       " 'tz_convert',\n",
       " 'tz_localize',\n",
       " 'week',\n",
       " 'weekday',\n",
       " 'weekofyear',\n",
       " 'year']"
      ]
     },
     "execution_count": 4,
     "metadata": {},
     "output_type": "execute_result"
    }
   ],
   "source": [
    "dir(train_validation_df.saledate.dt)"
   ]
  },
  {
   "cell_type": "code",
   "execution_count": 15,
   "id": "dd4bf9dd",
   "metadata": {
    "scrolled": true
   },
   "outputs": [
    {
     "data": {
      "text/html": [
       "<div>\n",
       "<style scoped>\n",
       "    .dataframe tbody tr th:only-of-type {\n",
       "        vertical-align: middle;\n",
       "    }\n",
       "\n",
       "    .dataframe tbody tr th {\n",
       "        vertical-align: top;\n",
       "    }\n",
       "\n",
       "    .dataframe thead th {\n",
       "        text-align: right;\n",
       "    }\n",
       "</style>\n",
       "<table border=\"1\" class=\"dataframe\">\n",
       "  <thead>\n",
       "    <tr style=\"text-align: right;\">\n",
       "      <th></th>\n",
       "      <th>Season</th>\n",
       "      <th>month</th>\n",
       "    </tr>\n",
       "  </thead>\n",
       "  <tbody>\n",
       "    <tr>\n",
       "      <th>0</th>\n",
       "      <td>autumn</td>\n",
       "      <td>11</td>\n",
       "    </tr>\n",
       "    <tr>\n",
       "      <th>1</th>\n",
       "      <td>spring</td>\n",
       "      <td>3</td>\n",
       "    </tr>\n",
       "    <tr>\n",
       "      <th>2</th>\n",
       "      <td>winter</td>\n",
       "      <td>2</td>\n",
       "    </tr>\n",
       "    <tr>\n",
       "      <th>3</th>\n",
       "      <td>spring</td>\n",
       "      <td>5</td>\n",
       "    </tr>\n",
       "    <tr>\n",
       "      <th>4</th>\n",
       "      <td>summer</td>\n",
       "      <td>7</td>\n",
       "    </tr>\n",
       "    <tr>\n",
       "      <th>5</th>\n",
       "      <td>winter</td>\n",
       "      <td>12</td>\n",
       "    </tr>\n",
       "    <tr>\n",
       "      <th>6</th>\n",
       "      <td>summer</td>\n",
       "      <td>8</td>\n",
       "    </tr>\n",
       "    <tr>\n",
       "      <th>7</th>\n",
       "      <td>autumn</td>\n",
       "      <td>11</td>\n",
       "    </tr>\n",
       "    <tr>\n",
       "      <th>8</th>\n",
       "      <td>summer</td>\n",
       "      <td>8</td>\n",
       "    </tr>\n",
       "    <tr>\n",
       "      <th>9</th>\n",
       "      <td>summer</td>\n",
       "      <td>8</td>\n",
       "    </tr>\n",
       "  </tbody>\n",
       "</table>\n",
       "</div>"
      ],
      "text/plain": [
       "   Season  month\n",
       "0  autumn     11\n",
       "1  spring      3\n",
       "2  winter      2\n",
       "3  spring      5\n",
       "4  summer      7\n",
       "5  winter     12\n",
       "6  summer      8\n",
       "7  autumn     11\n",
       "8  summer      8\n",
       "9  summer      8"
      ]
     },
     "execution_count": 15,
     "metadata": {},
     "output_type": "execute_result"
    }
   ],
   "source": [
    "df = train_validation_df.copy()\n",
    "# or you can create a month reference column:\n",
    "df['month'] = df.saledate.dt.month\n",
    "# Set the months of each season\n",
    "month_set= [[12, 1, 2], [3, 4, 5], [ 6, 7, 8], [9, 10, 11]]\n",
    "seasons = ['winter', 'spring', 'summer', 'autumn']\n",
    "def month_to_season(month):\n",
    "    for i in range(len(month_sets)):\n",
    "        if month in month_set[i]:\n",
    "            return seasons[i]\n",
    "df['Season'] = df.month.apply(month_to_season)\n",
    "df[['Season', 'month']][:10]"
   ]
  },
  {
   "cell_type": "code",
   "execution_count": 127,
   "id": "87b715ae",
   "metadata": {},
   "outputs": [
    {
     "data": {
      "text/plain": [
       "SalesID                          0\n",
       "SalePrice                        0\n",
       "MachineID                        0\n",
       "ModelID                          0\n",
       "datasource                       0\n",
       "auctioneerID                 20136\n",
       "YearMade                         0\n",
       "MachineHoursCurrentMeter    265194\n",
       "UsageBand                   339028\n",
       "saledate                         0\n",
       "fiModelDesc                      0\n",
       "fiBaseModel                      0\n",
       "fiSecondaryDesc             140727\n",
       "fiModelSeries               354031\n",
       "fiModelDescriptor           337882\n",
       "ProductSize                 216605\n",
       "fiProductClassDesc               0\n",
       "state                            0\n",
       "ProductGroup                     0\n",
       "ProductGroupDesc                 0\n",
       "Drive_System                305611\n",
       "Enclosure                      334\n",
       "Forks                       214983\n",
       "Pad_Type                    331602\n",
       "Ride_Control                259970\n",
       "Stick                       331602\n",
       "Transmission                224691\n",
       "Turbocharged                331602\n",
       "Blade_Extension             386715\n",
       "Blade_Width                 386715\n",
       "Enclosure_Type              386715\n",
       "Engine_Horsepower           386715\n",
       "Hydraulics                   82565\n",
       "Pushblock                   386715\n",
       "Ripper                      305753\n",
       "Scarifier                   386704\n",
       "Tip_Control                 386715\n",
       "Tire_Size                   315060\n",
       "Coupler                     192019\n",
       "Coupler_System              367724\n",
       "Grouser_Tracks              367823\n",
       "Hydraulics_Flow             367823\n",
       "Track_Type                  310505\n",
       "Undercarriage_Pad_Width     309782\n",
       "Stick_Length                310437\n",
       "Thumb                       310366\n",
       "Pattern_Changer             310437\n",
       "Grouser_Type                310505\n",
       "Backhoe_Mounting            331986\n",
       "Blade_Type                  330823\n",
       "Travel_Controls             330821\n",
       "Differential_Type           341134\n",
       "Steering_Controls           341176\n",
       "dtype: int64"
      ]
     },
     "execution_count": 127,
     "metadata": {},
     "output_type": "execute_result"
    }
   ],
   "source": [
    "# The saledate column has been cleaned, let's see if there are null values\n",
    "train_validation_df.isna().sum()"
   ]
  },
  {
   "cell_type": "code",
   "execution_count": 128,
   "id": "9adce43e",
   "metadata": {},
   "outputs": [
    {
     "data": {
      "text/plain": [
       "<AxesSubplot:xlabel='saledate', ylabel='SalePrice'>"
      ]
     },
     "execution_count": 128,
     "metadata": {},
     "output_type": "execute_result"
    },
    {
     "data": {
      "image/png": "[encoded data removed]",
      "text/plain": [
       "<Figure size 432x288 with 1 Axes>"
      ]
     },
     "metadata": {
      "needs_background": "light"
     },
     "output_type": "display_data"
    }
   ],
   "source": [
    "train_validation_df[:2000].plot.scatter(x='saledate', y='SalePrice')"
   ]
  },
  {
   "cell_type": "markdown",
   "id": "8ff43bdb",
   "metadata": {},
   "source": [
    "It appears that there are sales patterns within the year, with cycles of high and low sales."
   ]
  },
  {
   "cell_type": "code",
   "execution_count": 129,
   "id": "50056ba8",
   "metadata": {},
   "outputs": [],
   "source": [
    "# Let's create a more detailed datetime info\n",
    "test_df = train_validation_df.copy()\n",
    "test_df['saleyear']= test_df.saledate.dt.year\n",
    "test_df['salemonth']= test_df.saledate.dt.month\n",
    "test_df['salequarter'] =test_df.saledate.dt.quarter\n",
    "test_df['salequarterend'] =test_df.saledate.dt.is_quarter_end\n",
    "test_df['salequarterstart'] =test_df.saledate.dt.is_quarter_start\n",
    "test_df['saleyearend']= test_df.saledate.dt.is_year_end\n",
    "test_df['saleyearstart']= test_df.saledate.dt.is_year_start"
   ]
  },
  {
   "cell_type": "code",
   "execution_count": 130,
   "id": "23501c2d",
   "metadata": {},
   "outputs": [
    {
     "data": {
      "text/plain": [
       "SalesID                              int64\n",
       "SalePrice                          float64\n",
       "MachineID                            int64\n",
       "ModelID                              int64\n",
       "datasource                           int64\n",
       "auctioneerID                       float64\n",
       "YearMade                             int64\n",
       "MachineHoursCurrentMeter           float64\n",
       "UsageBand                         category\n",
       "saledate                    datetime64[ns]\n",
       "fiModelDesc                       category\n",
       "fiBaseModel                       category\n",
       "fiSecondaryDesc                   category\n",
       "fiModelSeries                     category\n",
       "fiModelDescriptor                 category\n",
       "ProductSize                       category\n",
       "fiProductClassDesc                category\n",
       "state                             category\n",
       "ProductGroup                      category\n",
       "ProductGroupDesc                  category\n",
       "Drive_System                      category\n",
       "Enclosure                         category\n",
       "Forks                             category\n",
       "Pad_Type                          category\n",
       "Ride_Control                      category\n",
       "Stick                             category\n",
       "Transmission                      category\n",
       "Turbocharged                      category\n",
       "Blade_Extension                   category\n",
       "Blade_Width                       category\n",
       "Enclosure_Type                    category\n",
       "Engine_Horsepower                 category\n",
       "Hydraulics                        category\n",
       "Pushblock                         category\n",
       "Ripper                            category\n",
       "Scarifier                         category\n",
       "Tip_Control                       category\n",
       "Tire_Size                         category\n",
       "Coupler                           category\n",
       "Coupler_System                    category\n",
       "Grouser_Tracks                    category\n",
       "Hydraulics_Flow                   category\n",
       "Track_Type                        category\n",
       "Undercarriage_Pad_Width           category\n",
       "Stick_Length                      category\n",
       "Thumb                             category\n",
       "Pattern_Changer                   category\n",
       "Grouser_Type                      category\n",
       "Backhoe_Mounting                  category\n",
       "Blade_Type                        category\n",
       "Travel_Controls                   category\n",
       "Differential_Type                 category\n",
       "Steering_Controls                 category\n",
       "saleyear                             int64\n",
       "salemonth                            int64\n",
       "salequarter                          int64\n",
       "salequarterend                        bool\n",
       "salequarterstart                      bool\n",
       "saleyearend                           bool\n",
       "saleyearstart                         bool\n",
       "dtype: object"
      ]
     },
     "execution_count": 130,
     "metadata": {},
     "output_type": "execute_result"
    }
   ],
   "source": [
    "# We still have many object type columns that need to be converted into a data type sklearn can process.\n",
    "for label, value in test_df.items():\n",
    "    if value.dtype == object:\n",
    "        test_df[label] = value.astype('category')\n",
    "test_df.dtypes"
   ]
  },
  {
   "cell_type": "code",
   "execution_count": 131,
   "id": "6afd54f8",
   "metadata": {},
   "outputs": [
    {
     "name": "stderr",
     "output_type": "stream",
     "text": [
      "C:\\Users\\fritz\\anaconda3\\lib\\site-packages\\pandas\\core\\indexing.py:1637: SettingWithCopyWarning: \n",
      "A value is trying to be set on a copy of a slice from a DataFrame\n",
      "\n",
      "See the caveats in the documentation: https://pandas.pydata.org/pandas-docs/stable/user_guide/indexing.html#returning-a-view-versus-a-copy\n",
      "  self._setitem_single_block(indexer, value, name)\n",
      "C:\\Users\\fritz\\anaconda3\\lib\\site-packages\\pandas\\core\\indexing.py:1637: SettingWithCopyWarning: \n",
      "A value is trying to be set on a copy of a slice from a DataFrame\n",
      "\n",
      "See the caveats in the documentation: https://pandas.pydata.org/pandas-docs/stable/user_guide/indexing.html#returning-a-view-versus-a-copy\n",
      "  self._setitem_single_block(indexer, value, name)\n"
     ]
    },
    {
     "data": {
      "text/plain": [
       "(0    0\n",
       " 1    0\n",
       " 2    0\n",
       " 3    0\n",
       " 4    0\n",
       " Name: salequarterstart, dtype: int32,\n",
       " 0    0\n",
       " 1    0\n",
       " 2    0\n",
       " 3    0\n",
       " 4    0\n",
       " Name: salequarterend, dtype: int32)"
      ]
     },
     "execution_count": 131,
     "metadata": {},
     "output_type": "execute_result"
    }
   ],
   "source": [
    "# Just in case, we are going to convert salequarterend and salequarterstart into numeric\n",
    "test_df['salequarterend'].loc[test_df['salequarterend']==True]=1\n",
    "test_df['salequarterend'].loc[test_df['salequarterend']==False]=0\n",
    "test_df['salequarterstart'].loc[test_df['salequarterstart']==True]=1\n",
    "test_df['salequarterstart'].loc[test_df['salequarterstart']==False]=0\n",
    "# These were converted into object type and need to be converted to int\n",
    "test_df[['salequarterstart', 'salequarterend']] = test_df[['salequarterstart', 'salequarterend']].astype('int')\n",
    "test_df['salequarterstart'][:5],test_df['salequarterend'][:5]"
   ]
  },
  {
   "cell_type": "code",
   "execution_count": 132,
   "id": "e0615e70",
   "metadata": {},
   "outputs": [
    {
     "data": {
      "text/plain": [
       "4605     5348\n",
       "3538     4976\n",
       "3170     4364\n",
       "4604     4296\n",
       "3362     4186\n",
       "         ... \n",
       "17007       1\n",
       "9059        1\n",
       "22751       1\n",
       "26335       1\n",
       "22923       1\n",
       "Name: ModelID, Length: 5281, dtype: int64"
      ]
     },
     "execution_count": 132,
     "metadata": {},
     "output_type": "execute_result"
    }
   ],
   "source": [
    "test_df.ModelID.value_counts()"
   ]
  },
  {
   "cell_type": "markdown",
   "id": "f813208c",
   "metadata": {},
   "source": [
    "While certain models 4605, 4604 might have some similarites, this column should be a category data type because the difference in integer between models is not objective. For example model id 22923 might be quite similar to 3538."
   ]
  },
  {
   "cell_type": "code",
   "execution_count": 133,
   "id": "17b7266c",
   "metadata": {},
   "outputs": [],
   "source": [
    "test_df.ModelID = test_df.ModelID.astype('category')"
   ]
  },
  {
   "cell_type": "code",
   "execution_count": 134,
   "id": "730ecac6",
   "metadata": {},
   "outputs": [
    {
     "data": {
      "text/plain": [
       "1.0     192773\n",
       "2.0      57441\n",
       "3.0      30288\n",
       "4.0      20877\n",
       "99.0     12042\n",
       "6.0      11950\n",
       "7.0       7847\n",
       "8.0       7419\n",
       "5.0       7002\n",
       "10.0      5876\n",
       "9.0       4764\n",
       "11.0      3823\n",
       "12.0      3610\n",
       "13.0      3068\n",
       "18.0      2359\n",
       "14.0      2277\n",
       "20.0      2238\n",
       "19.0      2074\n",
       "16.0      1807\n",
       "15.0      1742\n",
       "21.0      1601\n",
       "22.0      1429\n",
       "24.0      1357\n",
       "23.0      1322\n",
       "17.0      1275\n",
       "27.0      1150\n",
       "25.0       959\n",
       "28.0       860\n",
       "26.0       796\n",
       "0.0        536\n",
       "Name: auctioneerID, dtype: int64"
      ]
     },
     "execution_count": 134,
     "metadata": {},
     "output_type": "execute_result"
    }
   ],
   "source": [
    "test_df.auctioneerID.value_counts()"
   ]
  },
  {
   "cell_type": "code",
   "execution_count": 135,
   "id": "c109c88d",
   "metadata": {},
   "outputs": [],
   "source": [
    "test_df.auctioneerID = test_df.auctioneerID.astype('category')"
   ]
  },
  {
   "cell_type": "markdown",
   "id": "dda6ac07",
   "metadata": {},
   "source": [
    "Several more columns should be categorical, but instead, we are either dropping them or replacing them.\n",
    "\n",
    "Machine Id might be important, but only in the sense that it will tell us if it has been sold in the auction before. We can assume that like used cars, the number of times a vehicle is sold decreases its percieved value. We will replace this machine id column with a times sold column.\n"
   ]
  },
  {
   "cell_type": "code",
   "execution_count": 136,
   "id": "7ed3d189",
   "metadata": {},
   "outputs": [
    {
     "data": {
      "text/plain": [
       "(1     348808\n",
       " 2      46736\n",
       " 3       9808\n",
       " 4       3097\n",
       " 5       1316\n",
       " 6        737\n",
       " 7        472\n",
       " 8        326\n",
       " 9        259\n",
       " 10       216\n",
       " 11       175\n",
       " 12       126\n",
       " 13       101\n",
       " 14        87\n",
       " 15        68\n",
       " 16        53\n",
       " 17        41\n",
       " 18        35\n",
       " 19        27\n",
       " 20        26\n",
       " 21        24\n",
       " 22        23\n",
       " 23        19\n",
       " 24        17\n",
       " 26        13\n",
       " 25        13\n",
       " 27         9\n",
       " 28         7\n",
       " 29         7\n",
       " 30         5\n",
       " 31         5\n",
       " 32         4\n",
       " 33         4\n",
       " 34         4\n",
       " 40         3\n",
       " 39         3\n",
       " 38         3\n",
       " 37         3\n",
       " 36         3\n",
       " 35         3\n",
       " 41         2\n",
       " 42         2\n",
       " 43         2\n",
       " 44         2\n",
       " 45         1\n",
       " 46         1\n",
       " 47         1\n",
       " 48         1\n",
       " Name: times_sold, dtype: int64,\n",
       " dtype('int64'))"
      ]
     },
     "execution_count": 136,
     "metadata": {},
     "output_type": "execute_result"
    }
   ],
   "source": [
    "test_df['times_sold'] = test_df.groupby('MachineID').cumcount()+1\n",
    "test_df['times_sold'].value_counts(), test_df.times_sold.dtype"
   ]
  },
  {
   "cell_type": "markdown",
   "id": "daf6aae5",
   "metadata": {},
   "source": [
    "This should outline a much better relationship to price than the machine id.\n",
    "\n",
    "We still have many columns with missing values. We need to fill them and indicate they were missing. Our strategy for addressing the missing values will be very different between categorical and integer type columns.\n",
    "\n",
    "Let's look again at what is missing."
   ]
  },
  {
   "cell_type": "code",
   "execution_count": 137,
   "id": "1b1857ea",
   "metadata": {},
   "outputs": [
    {
     "data": {
      "text/plain": [
       "SalesID                          0\n",
       "SalePrice                        0\n",
       "MachineID                        0\n",
       "ModelID                          0\n",
       "datasource                       0\n",
       "auctioneerID                 20136\n",
       "YearMade                         0\n",
       "MachineHoursCurrentMeter    265194\n",
       "UsageBand                   339028\n",
       "saledate                         0\n",
       "fiModelDesc                      0\n",
       "fiBaseModel                      0\n",
       "fiSecondaryDesc             140727\n",
       "fiModelSeries               354031\n",
       "fiModelDescriptor           337882\n",
       "ProductSize                 216605\n",
       "fiProductClassDesc               0\n",
       "state                            0\n",
       "ProductGroup                     0\n",
       "ProductGroupDesc                 0\n",
       "Drive_System                305611\n",
       "Enclosure                      334\n",
       "Forks                       214983\n",
       "Pad_Type                    331602\n",
       "Ride_Control                259970\n",
       "Stick                       331602\n",
       "Transmission                224691\n",
       "Turbocharged                331602\n",
       "Blade_Extension             386715\n",
       "Blade_Width                 386715\n",
       "Enclosure_Type              386715\n",
       "Engine_Horsepower           386715\n",
       "Hydraulics                   82565\n",
       "Pushblock                   386715\n",
       "Ripper                      305753\n",
       "Scarifier                   386704\n",
       "Tip_Control                 386715\n",
       "Tire_Size                   315060\n",
       "Coupler                     192019\n",
       "Coupler_System              367724\n",
       "Grouser_Tracks              367823\n",
       "Hydraulics_Flow             367823\n",
       "Track_Type                  310505\n",
       "Undercarriage_Pad_Width     309782\n",
       "Stick_Length                310437\n",
       "Thumb                       310366\n",
       "Pattern_Changer             310437\n",
       "Grouser_Type                310505\n",
       "Backhoe_Mounting            331986\n",
       "Blade_Type                  330823\n",
       "Travel_Controls             330821\n",
       "Differential_Type           341134\n",
       "Steering_Controls           341176\n",
       "saleyear                         0\n",
       "salemonth                        0\n",
       "salequarter                      0\n",
       "salequarterend                   0\n",
       "salequarterstart                 0\n",
       "saleyearend                      0\n",
       "saleyearstart                    0\n",
       "times_sold                       0\n",
       "dtype: int64"
      ]
     },
     "execution_count": 137,
     "metadata": {},
     "output_type": "execute_result"
    }
   ],
   "source": [
    "pd.set_option(\"display.max_rows\", 999)\n",
    "test_df.isna().sum()"
   ]
  },
  {
   "cell_type": "code",
   "execution_count": 138,
   "id": "bd57d4aa",
   "metadata": {},
   "outputs": [
    {
     "data": {
      "text/html": [
       "<div>\n",
       "<style scoped>\n",
       "    .dataframe tbody tr th:only-of-type {\n",
       "        vertical-align: middle;\n",
       "    }\n",
       "\n",
       "    .dataframe tbody tr th {\n",
       "        vertical-align: top;\n",
       "    }\n",
       "\n",
       "    .dataframe thead th {\n",
       "        text-align: right;\n",
       "    }\n",
       "</style>\n",
       "<table border=\"1\" class=\"dataframe\">\n",
       "  <thead>\n",
       "    <tr style=\"text-align: right;\">\n",
       "      <th></th>\n",
       "      <th>missing_usage_hours</th>\n",
       "      <th>MachineHoursCurrentMeter</th>\n",
       "    </tr>\n",
       "  </thead>\n",
       "  <tbody>\n",
       "    <tr>\n",
       "      <th>0</th>\n",
       "      <td>False</td>\n",
       "      <td>68.0</td>\n",
       "    </tr>\n",
       "    <tr>\n",
       "      <th>1</th>\n",
       "      <td>False</td>\n",
       "      <td>4640.0</td>\n",
       "    </tr>\n",
       "    <tr>\n",
       "      <th>2</th>\n",
       "      <td>False</td>\n",
       "      <td>2838.0</td>\n",
       "    </tr>\n",
       "    <tr>\n",
       "      <th>3</th>\n",
       "      <td>False</td>\n",
       "      <td>3486.0</td>\n",
       "    </tr>\n",
       "    <tr>\n",
       "      <th>4</th>\n",
       "      <td>False</td>\n",
       "      <td>722.0</td>\n",
       "    </tr>\n",
       "    <tr>\n",
       "      <th>...</th>\n",
       "      <td>...</td>\n",
       "      <td>...</td>\n",
       "    </tr>\n",
       "    <tr>\n",
       "      <th>412693</th>\n",
       "      <td>True</td>\n",
       "      <td>3213.0</td>\n",
       "    </tr>\n",
       "    <tr>\n",
       "      <th>412694</th>\n",
       "      <td>True</td>\n",
       "      <td>3213.0</td>\n",
       "    </tr>\n",
       "    <tr>\n",
       "      <th>412695</th>\n",
       "      <td>True</td>\n",
       "      <td>3213.0</td>\n",
       "    </tr>\n",
       "    <tr>\n",
       "      <th>412696</th>\n",
       "      <td>True</td>\n",
       "      <td>3213.0</td>\n",
       "    </tr>\n",
       "    <tr>\n",
       "      <th>412697</th>\n",
       "      <td>True</td>\n",
       "      <td>3213.0</td>\n",
       "    </tr>\n",
       "  </tbody>\n",
       "</table>\n",
       "<p>412698 rows × 2 columns</p>\n",
       "</div>"
      ],
      "text/plain": [
       "        missing_usage_hours  MachineHoursCurrentMeter\n",
       "0                     False                      68.0\n",
       "1                     False                    4640.0\n",
       "2                     False                    2838.0\n",
       "3                     False                    3486.0\n",
       "4                     False                     722.0\n",
       "...                     ...                       ...\n",
       "412693                 True                    3213.0\n",
       "412694                 True                    3213.0\n",
       "412695                 True                    3213.0\n",
       "412696                 True                    3213.0\n",
       "412697                 True                    3213.0\n",
       "\n",
       "[412698 rows x 2 columns]"
      ]
     },
     "execution_count": 138,
     "metadata": {},
     "output_type": "execute_result"
    }
   ],
   "source": [
    "# We only have one column, Machine Hours, that is currently an int type column. Let's fill missing values with the median value, and create another column indicating the missing value\n",
    "test_df['missing_usage_hours'] = pd.isnull(test_df['MachineHoursCurrentMeter'])\n",
    "test_df['MachineHoursCurrentMeter'].fillna(test_df['MachineHoursCurrentMeter'].loc[test_df['MachineHoursCurrentMeter']>0].median(), inplace=True)\n",
    "test_df[['missing_usage_hours', 'MachineHoursCurrentMeter']]"
   ]
  },
  {
   "cell_type": "code",
   "execution_count": 139,
   "id": "e21a3f69",
   "metadata": {},
   "outputs": [],
   "source": [
    "for k, v in test_df.items():\n",
    "    if not pd.api.types.is_numeric_dtype(v):\n",
    "        test_df[k+'_not_stated'] = pd.isnull(v)\n",
    "        test_df[k]= pd.Categorical(v).codes +1"
   ]
  },
  {
   "cell_type": "code",
   "execution_count": 140,
   "id": "87f83007",
   "metadata": {},
   "outputs": [
    {
     "data": {
      "text/plain": [
       "(412698, 109)"
      ]
     },
     "execution_count": 140,
     "metadata": {},
     "output_type": "execute_result"
    }
   ],
   "source": [
    "test_df.shape"
   ]
  },
  {
   "cell_type": "code",
   "execution_count": 141,
   "id": "e4c473ba",
   "metadata": {},
   "outputs": [
    {
     "data": {
      "text/plain": [
       "SalesID                               0\n",
       "SalePrice                             0\n",
       "MachineID                             0\n",
       "ModelID                               0\n",
       "datasource                            0\n",
       "auctioneerID                          0\n",
       "YearMade                              0\n",
       "MachineHoursCurrentMeter              0\n",
       "UsageBand                             0\n",
       "saledate                              0\n",
       "fiModelDesc                           0\n",
       "fiBaseModel                           0\n",
       "fiSecondaryDesc                       0\n",
       "fiModelSeries                         0\n",
       "fiModelDescriptor                     0\n",
       "ProductSize                           0\n",
       "fiProductClassDesc                    0\n",
       "state                                 0\n",
       "ProductGroup                          0\n",
       "ProductGroupDesc                      0\n",
       "Drive_System                          0\n",
       "Enclosure                             0\n",
       "Forks                                 0\n",
       "Pad_Type                              0\n",
       "Ride_Control                          0\n",
       "Stick                                 0\n",
       "Transmission                          0\n",
       "Turbocharged                          0\n",
       "Blade_Extension                       0\n",
       "Blade_Width                           0\n",
       "Enclosure_Type                        0\n",
       "Engine_Horsepower                     0\n",
       "Hydraulics                            0\n",
       "Pushblock                             0\n",
       "Ripper                                0\n",
       "Scarifier                             0\n",
       "Tip_Control                           0\n",
       "Tire_Size                             0\n",
       "Coupler                               0\n",
       "Coupler_System                        0\n",
       "Grouser_Tracks                        0\n",
       "Hydraulics_Flow                       0\n",
       "Track_Type                            0\n",
       "Undercarriage_Pad_Width               0\n",
       "Stick_Length                          0\n",
       "Thumb                                 0\n",
       "Pattern_Changer                       0\n",
       "Grouser_Type                          0\n",
       "Backhoe_Mounting                      0\n",
       "Blade_Type                            0\n",
       "Travel_Controls                       0\n",
       "Differential_Type                     0\n",
       "Steering_Controls                     0\n",
       "saleyear                              0\n",
       "salemonth                             0\n",
       "salequarter                           0\n",
       "salequarterend                        0\n",
       "salequarterstart                      0\n",
       "saleyearend                           0\n",
       "saleyearstart                         0\n",
       "times_sold                            0\n",
       "missing_usage_hours                   0\n",
       "ModelID_not_stated                    0\n",
       "auctioneerID_not_stated               0\n",
       "UsageBand_not_stated                  0\n",
       "saledate_not_stated                   0\n",
       "fiModelDesc_not_stated                0\n",
       "fiBaseModel_not_stated                0\n",
       "fiSecondaryDesc_not_stated            0\n",
       "fiModelSeries_not_stated              0\n",
       "fiModelDescriptor_not_stated          0\n",
       "ProductSize_not_stated                0\n",
       "fiProductClassDesc_not_stated         0\n",
       "state_not_stated                      0\n",
       "ProductGroup_not_stated               0\n",
       "ProductGroupDesc_not_stated           0\n",
       "Drive_System_not_stated               0\n",
       "Enclosure_not_stated                  0\n",
       "Forks_not_stated                      0\n",
       "Pad_Type_not_stated                   0\n",
       "Ride_Control_not_stated               0\n",
       "Stick_not_stated                      0\n",
       "Transmission_not_stated               0\n",
       "Turbocharged_not_stated               0\n",
       "Blade_Extension_not_stated            0\n",
       "Blade_Width_not_stated                0\n",
       "Enclosure_Type_not_stated             0\n",
       "Engine_Horsepower_not_stated          0\n",
       "Hydraulics_not_stated                 0\n",
       "Pushblock_not_stated                  0\n",
       "Ripper_not_stated                     0\n",
       "Scarifier_not_stated                  0\n",
       "Tip_Control_not_stated                0\n",
       "Tire_Size_not_stated                  0\n",
       "Coupler_not_stated                    0\n",
       "Coupler_System_not_stated             0\n",
       "Grouser_Tracks_not_stated             0\n",
       "Hydraulics_Flow_not_stated            0\n",
       "Track_Type_not_stated                 0\n",
       "Undercarriage_Pad_Width_not_stated    0\n",
       "Stick_Length_not_stated               0\n",
       "Thumb_not_stated                      0\n",
       "Pattern_Changer_not_stated            0\n",
       "Grouser_Type_not_stated               0\n",
       "Backhoe_Mounting_not_stated           0\n",
       "Blade_Type_not_stated                 0\n",
       "Travel_Controls_not_stated            0\n",
       "Differential_Type_not_stated          0\n",
       "Steering_Controls_not_stated          0\n",
       "dtype: int64"
      ]
     },
     "execution_count": 141,
     "metadata": {},
     "output_type": "execute_result"
    }
   ],
   "source": [
    "# We now have many columns. Do we have any missing values?\n",
    "test_df.isna().sum()"
   ]
  },
  {
   "cell_type": "markdown",
   "id": "23c20fd1",
   "metadata": {},
   "source": [
    "We are in a good place. We no longer have missing values and we have a very deep level of detail.\n",
    "\n",
    "We need to drop a few columns we know are extranneous and save the csv for easier access.\n",
    "\n",
    "MachineID was already identified as unnecessary. SalesID is basically an index, and can be discarded as well. \n",
    "\n",
    "Since we already have so many datetime columns, we are going to drop saledate as well. \n",
    "\n",
    "For now we can assume a level of trust in our data, so we might assume that data source might be unnecessary, but let's review that assumption quickly."
   ]
  },
  {
   "cell_type": "code",
   "execution_count": 142,
   "id": "cfd3232f",
   "metadata": {},
   "outputs": [
    {
     "data": {
      "text/plain": [
       "132    260776\n",
       "136     75491\n",
       "149     33325\n",
       "121     25191\n",
       "172     17914\n",
       "173         1\n",
       "Name: datasource, dtype: int64"
      ]
     },
     "execution_count": 142,
     "metadata": {},
     "output_type": "execute_result"
    }
   ],
   "source": [
    "test_df.datasource.value_counts()"
   ]
  },
  {
   "cell_type": "code",
   "execution_count": 143,
   "id": "79947e64",
   "metadata": {},
   "outputs": [
    {
     "data": {
      "text/html": [
       "<div>\n",
       "<style scoped>\n",
       "    .dataframe tbody tr th:only-of-type {\n",
       "        vertical-align: middle;\n",
       "    }\n",
       "\n",
       "    .dataframe tbody tr th {\n",
       "        vertical-align: top;\n",
       "    }\n",
       "\n",
       "    .dataframe thead th {\n",
       "        text-align: right;\n",
       "    }\n",
       "</style>\n",
       "<table border=\"1\" class=\"dataframe\">\n",
       "  <thead>\n",
       "    <tr style=\"text-align: right;\">\n",
       "      <th></th>\n",
       "      <th>SalePrice</th>\n",
       "    </tr>\n",
       "    <tr>\n",
       "      <th>datasource</th>\n",
       "      <th></th>\n",
       "    </tr>\n",
       "  </thead>\n",
       "  <tbody>\n",
       "    <tr>\n",
       "      <th>121</th>\n",
       "      <td>33954.327458</td>\n",
       "    </tr>\n",
       "    <tr>\n",
       "      <th>132</th>\n",
       "      <td>29846.974883</td>\n",
       "    </tr>\n",
       "    <tr>\n",
       "      <th>136</th>\n",
       "      <td>33947.205111</td>\n",
       "    </tr>\n",
       "    <tr>\n",
       "      <th>149</th>\n",
       "      <td>32947.775544</td>\n",
       "    </tr>\n",
       "    <tr>\n",
       "      <th>172</th>\n",
       "      <td>32543.569275</td>\n",
       "    </tr>\n",
       "    <tr>\n",
       "      <th>173</th>\n",
       "      <td>46173.200000</td>\n",
       "    </tr>\n",
       "  </tbody>\n",
       "</table>\n",
       "</div>"
      ],
      "text/plain": [
       "               SalePrice\n",
       "datasource              \n",
       "121         33954.327458\n",
       "132         29846.974883\n",
       "136         33947.205111\n",
       "149         32947.775544\n",
       "172         32543.569275\n",
       "173         46173.200000"
      ]
     },
     "execution_count": 143,
     "metadata": {},
     "output_type": "execute_result"
    }
   ],
   "source": [
    "test_df[['SalePrice', 'datasource']].groupby(by='datasource').mean()"
   ]
  },
  {
   "cell_type": "markdown",
   "id": "dd3045b9",
   "metadata": {},
   "source": [
    "Since these might be physical auction houses catering to different demographics, they have slightly different price trends. datasource will be kept for now."
   ]
  },
  {
   "cell_type": "code",
   "execution_count": 144,
   "id": "07207d85",
   "metadata": {},
   "outputs": [],
   "source": [
    "test_df.drop(['SalesID', 'saledate', 'MachineID',], axis=1, inplace=True)"
   ]
  },
  {
   "cell_type": "code",
   "execution_count": 146,
   "id": "e9e95f05",
   "metadata": {},
   "outputs": [],
   "source": [
    "# Saving the csv for convenience in the notebook\n",
    "test_df.to_csv('bulldozer_trainvalidate_treated.csv', index=False)"
   ]
  },
  {
   "cell_type": "markdown",
   "id": "be329a66",
   "metadata": {},
   "source": [
    "## Model Training and Validation\n",
    "\n",
    "Our data has been treated and cleaned. We are ready to implement models and evaluate them based on our benchmark."
   ]
  },
  {
   "cell_type": "code",
   "execution_count": 3,
   "id": "f95afff4",
   "metadata": {},
   "outputs": [],
   "source": [
    "model_df = pd.read_csv('bulldozer_trainvalidate_treated.csv')\n"
   ]
  },
  {
   "cell_type": "code",
   "execution_count": 17,
   "id": "5bea99cf",
   "metadata": {},
   "outputs": [],
   "source": [
    "from sklearn.ensemble import RandomForestRegressor\n",
    "\n",
    "from sklearn.model_selection import train_test_split, cross_validate\n",
    "from sklearn.metrics import r2_score, mean_squared_log_error, mean_absolute_error, mean_absolute_percentage_error\n",
    "\n",
    "from sklearn.model_selection import RandomizedSearchCV\n"
   ]
  },
  {
   "cell_type": "code",
   "execution_count": 10,
   "id": "51a481bf",
   "metadata": {},
   "outputs": [],
   "source": [
    "# The data needs to be broken into training sets and validation sets. The kaggle competition threshold is 2012\n",
    "\n",
    "df_train= model_df[model_df.saleyear != 2012]\n",
    "df_val= model_df[model_df.saleyear == 2012]\n",
    "\n",
    "X_train = np.array(df_train.drop('SalePrice', axis=1))\n",
    "y_train = np.array(df_train['SalePrice'])\n",
    "\n",
    "X_val = np.array(df_val.drop('SalePrice', axis=1))\n",
    "y_val = np.array(df_val['SalePrice'])"
   ]
  },
  {
   "cell_type": "code",
   "execution_count": 11,
   "id": "938fb41f",
   "metadata": {},
   "outputs": [
    {
     "name": "stdout",
     "output_type": "stream",
     "text": [
      "Wall time: 2min 50s\n"
     ]
    },
    {
     "data": {
      "text/plain": [
       "RandomForestRegressor(n_jobs=-1, random_state=42)"
      ]
     },
     "execution_count": 11,
     "metadata": {},
     "output_type": "execute_result"
    }
   ],
   "source": [
    "%%time\n",
    "# Our first model will be the random forest model\n",
    "\n",
    "# Before converting to numpy array, this took 1+gb of RAM\n",
    "rfr = RandomForestRegressor(n_jobs=-1,\n",
    "                           random_state=42)\n",
    "\n",
    "rfr.fit(X_train, y_train)"
   ]
  },
  {
   "cell_type": "code",
   "execution_count": 62,
   "id": "f8a40172",
   "metadata": {},
   "outputs": [
    {
     "name": "stdout",
     "output_type": "stream",
     "text": [
      "Training R2\n",
      "0.987172121659109 \n",
      "\n",
      "\n",
      "Training RMSLE\n",
      "0.08566529088447954 \n",
      "\n",
      "\n",
      "Validation R2\n",
      "0.8756084642102251 \n",
      "\n",
      "\n",
      "Validation RMSLE\n",
      "0.2480199929298591 \n",
      "\n",
      "\n",
      "Validation MAE\n",
      "6031.874036356515 \n",
      "\n",
      "\n",
      "Validation MAPE\n",
      "0.1953572294910419 \n",
      "\n",
      "\n"
     ]
    }
   ],
   "source": [
    "rfr.score(X_val, y_val) # This returns the r2 score\n",
    "y_preds = rfr.predict(X_val)\n",
    "train_preds = rfr.predict(X_train)\n",
    "def serve_scores(y_preds, train_preds):\n",
    "    scores = {'Training R2': r2_score(y_train, train_preds),\n",
    "             'Training RMSLE': np.sqrt(mean_squared_log_error(y_train, train_preds)),\n",
    "             'Validation R2': r2_score(y_val, y_preds),\n",
    "             'Validation RMSLE': np.sqrt(mean_squared_log_error(y_val, y_preds)),\n",
    "             'Validation MAE': mean_absolute_error(y_val, y_preds),\n",
    "             'Validation MAPE': mean_absolute_percentage_error(y_val, y_preds)}\n",
    "    return scores\n",
    "\n",
    "baseline_scores = serve_scores(y_preds, train_preds)\n",
    "for k, v in baseline_scores.items():\n",
    "    print(k)\n",
    "    print(v, '\\n\\n')\n",
    "\n"
   ]
  },
  {
   "cell_type": "markdown",
   "id": "5f349f3a",
   "metadata": {},
   "source": [
    "## Hyperparameter Tuning\n",
    "\n",
    "Searching for the best parameters with RandomizedSearchCV"
   ]
  },
  {
   "cell_type": "code",
   "execution_count": 25,
   "id": "a6d85495",
   "metadata": {},
   "outputs": [],
   "source": [
    "grid = {'n_estimators':np.arange(10,150,10,),\n",
    "       'min_samples_split':[2,4,8,16],\n",
    "       'min_samples_leaf':[1,2,4,6],\n",
    "       'max_features': np.arange(.1,.8,.1),\n",
    "       'random_state':[42],\n",
    "       'max_samples':[10000]}\n",
    "rs_model = RandomizedSearchCV(rfr, param_distributions=grid,n_iter=5, cv=5, n_jobs=1, verbose=True)\n",
    "best_parameter_log = []"
   ]
  },
  {
   "cell_type": "code",
   "execution_count": 24,
   "id": "b2057eaf",
   "metadata": {},
   "outputs": [
    {
     "name": "stdout",
     "output_type": "stream",
     "text": [
      "Fitting 5 folds for each of 20 candidates, totalling 100 fits\n",
      "Wall time: 9min 43s\n"
     ]
    },
    {
     "data": {
      "text/plain": [
       "{'random_state': 42,\n",
       " 'n_estimators': 80,\n",
       " 'min_samples_split': 8,\n",
       " 'min_samples_leaf': 2,\n",
       " 'max_samples': 10000,\n",
       " 'max_features': 0.7000000000000001}"
      ]
     },
     "execution_count": 24,
     "metadata": {},
     "output_type": "execute_result"
    }
   ],
   "source": [
    "%%time\n",
    "rs_model.fit(X_train, y_train)\n",
    "best_parameter_log.append(rs_model.best_params_)\n",
    "rs_model.best_params_"
   ]
  },
  {
   "cell_type": "code",
   "execution_count": 26,
   "id": "1b84336c",
   "metadata": {},
   "outputs": [
    {
     "name": "stdout",
     "output_type": "stream",
     "text": [
      "Fitting 5 folds for each of 5 candidates, totalling 25 fits\n",
      "Wall time: 2min 35s\n"
     ]
    },
    {
     "data": {
      "text/plain": [
       "{'random_state': 42,\n",
       " 'n_estimators': 90,\n",
       " 'min_samples_split': 2,\n",
       " 'min_samples_leaf': 1,\n",
       " 'max_samples': 10000,\n",
       " 'max_features': 0.5}"
      ]
     },
     "execution_count": 26,
     "metadata": {},
     "output_type": "execute_result"
    }
   ],
   "source": [
    "%%time\n",
    "rs_model.fit(X_train, y_train)\n",
    "best_parameter_log.append(rs_model.best_params_)\n",
    "rs_model.best_params_"
   ]
  },
  {
   "cell_type": "code",
   "execution_count": 27,
   "id": "5c5e6dea",
   "metadata": {},
   "outputs": [
    {
     "name": "stdout",
     "output_type": "stream",
     "text": [
      "Fitting 5 folds for each of 5 candidates, totalling 25 fits\n",
      "Wall time: 2min 23s\n"
     ]
    },
    {
     "data": {
      "text/plain": [
       "{'random_state': 42,\n",
       " 'n_estimators': 50,\n",
       " 'min_samples_split': 2,\n",
       " 'min_samples_leaf': 4,\n",
       " 'max_samples': 10000,\n",
       " 'max_features': 0.5}"
      ]
     },
     "execution_count": 27,
     "metadata": {},
     "output_type": "execute_result"
    }
   ],
   "source": [
    "%%time\n",
    "rs_model.fit(X_train, y_train)\n",
    "best_parameter_log.append(rs_model.best_params_)\n",
    "rs_model.best_params_"
   ]
  },
  {
   "cell_type": "code",
   "execution_count": 54,
   "id": "57b41308",
   "metadata": {},
   "outputs": [
    {
     "name": "stdout",
     "output_type": "stream",
     "text": [
      "Fitting 5 folds for each of 5 candidates, totalling 25 fits\n",
      "Wall time: 1min 44s\n"
     ]
    },
    {
     "data": {
      "text/plain": [
       "{'random_state': 42,\n",
       " 'n_estimators': 40,\n",
       " 'min_samples_split': 2,\n",
       " 'min_samples_leaf': 1,\n",
       " 'max_samples': 10000,\n",
       " 'max_features': 0.4}"
      ]
     },
     "execution_count": 54,
     "metadata": {},
     "output_type": "execute_result"
    }
   ],
   "source": [
    "%%time\n",
    "rs_model.fit(X_train, y_train)\n",
    "best_parameter_log.append(rs_model.best_params_)\n",
    "rs_model.best_params_"
   ]
  },
  {
   "cell_type": "code",
   "execution_count": 67,
   "id": "4680dc7a",
   "metadata": {},
   "outputs": [],
   "source": [
    "#Now to compare the best parameter log entries with our benchmark model.\n",
    "rfr2 = RandomForestRegressor(random_state=42,\n",
    "                             n_estimators=80,\n",
    "                             min_samples_split=8,\n",
    "                             min_samples_leaf=2,\n",
    "                             max_features=.7)\n",
    "rfr3 = RandomForestRegressor(random_state=42,\n",
    "                             n_estimators=90,\n",
    "                             min_samples_split=2,\n",
    "                             min_samples_leaf=1,\n",
    "                             max_features=.5)\n",
    "rfr4 = RandomForestRegressor(random_state=42,\n",
    "                             n_estimators=50,\n",
    "                             min_samples_split=2,\n",
    "                             min_samples_leaf=4,\n",
    "                             max_features=.5)\n",
    "rfr5 = RandomForestRegressor(random_state=42,                            \n",
    "                             n_estimators=100,\n",
    "                             min_samples_split=14,\n",
    "                             min_samples_leaf=1,\n",
    "                            )\n",
    "new_models = [rfr2,rfr3,rfr4,rfr5]\n",
    "new_scores = []\n",
    "for model in new_models:\n",
    "    model.fit(X_train, y_train)\n",
    "    y_preds = model.predict(X_val)\n",
    "    train_preds = model.predict(X_train)\n",
    "    score_set = serve_scores(y_preds, train_preds)\n",
    "    new_scores.append(f'{model}')\n",
    "    new_scores.append(score_set)"
   ]
  },
  {
   "cell_type": "code",
   "execution_count": 68,
   "id": "8f3abd3a",
   "metadata": {},
   "outputs": [
    {
     "name": "stdout",
     "output_type": "stream",
     "text": [
      "RandomForestRegressor(max_features=0.7, min_samples_leaf=2, min_samples_split=8,\n",
      "                      n_estimators=80, random_state=42) \n",
      "\n",
      "Training R2\n",
      "0.9650218352112351 \n",
      "\n",
      "\n",
      "Training RMSLE\n",
      "0.13437637446936113 \n",
      "\n",
      "\n",
      "Validation R2\n",
      "0.8827678072536169 \n",
      "\n",
      "\n",
      "Validation RMSLE\n",
      "0.23968833763050443 \n",
      "\n",
      "\n",
      "Validation MAE\n",
      "5853.103579362922 \n",
      "\n",
      "\n",
      "Validation MAPE\n",
      "0.1883292692601268 \n",
      "\n",
      "\n",
      "RandomForestRegressor(max_features=0.5, n_estimators=90, random_state=42) \n",
      "\n",
      "Training R2\n",
      "0.9875054905187238 \n",
      "\n",
      "\n",
      "Training RMSLE\n",
      "0.08486940274503325 \n",
      "\n",
      "\n",
      "Validation R2\n",
      "0.8836749528715068 \n",
      "\n",
      "\n",
      "Validation RMSLE\n",
      "0.24038564466195667 \n",
      "\n",
      "\n",
      "Validation MAE\n",
      "5845.1256560151405 \n",
      "\n",
      "\n",
      "Validation MAPE\n",
      "0.1897568202697968 \n",
      "\n",
      "\n",
      "RandomForestRegressor(max_features=0.5, min_samples_leaf=4, n_estimators=50,\n",
      "                      random_state=42) \n",
      "\n",
      "Training R2\n",
      "0.9521093758874155 \n",
      "\n",
      "\n",
      "Training RMSLE\n",
      "0.15541778592105848 \n",
      "\n",
      "\n",
      "Validation R2\n",
      "0.8831627634159672 \n",
      "\n",
      "\n",
      "Validation RMSLE\n",
      "0.239308714750786 \n",
      "\n",
      "\n",
      "Validation MAE\n",
      "5858.685244357896 \n",
      "\n",
      "\n",
      "Validation MAPE\n",
      "0.18850622897454258 \n",
      "\n",
      "\n",
      "RandomForestRegressor(min_samples_split=14, random_state=42) \n",
      "\n",
      "Training R2\n",
      "0.9571458930128952 \n",
      "\n",
      "\n",
      "Training RMSLE\n",
      "0.14726593022479254 \n",
      "\n",
      "\n",
      "Validation R2\n",
      "0.8770782025757321 \n",
      "\n",
      "\n",
      "Validation RMSLE\n",
      "0.24592485403901612 \n",
      "\n",
      "\n",
      "Validation MAE\n",
      "5990.640943786289 \n",
      "\n",
      "\n",
      "Validation MAPE\n",
      "0.19301613253836658 \n",
      "\n",
      "\n"
     ]
    }
   ],
   "source": [
    "for i in new_scores:\n",
    "    if type(i) == dict:\n",
    "        for k, v in i.items():\n",
    "            print(k)\n",
    "            print(v,'\\n\\n')\n",
    "    else:\n",
    "        print(i,'\\n')"
   ]
  },
  {
   "cell_type": "code",
   "execution_count": 51,
   "id": "e36fb674",
   "metadata": {},
   "outputs": [
    {
     "data": {
      "text/plain": [
       "(   SalesID  MachineID  ModelID  datasource  auctioneerID  YearMade  \\\n",
       " 0  1227829    1006309     3168         121             3      1999   \n",
       " 1  1227844    1022817     7271         121             3      1000   \n",
       " 2  1227847    1031560    22805         121             3      2004   \n",
       " 3  1227848      56204     1269         121             3      2006   \n",
       " 4  1227863    1053887    22312         121             3      2005   \n",
       " \n",
       "    MachineHoursCurrentMeter UsageBand   saledate fiModelDesc  ...  \\\n",
       " 0                    3688.0       Low 2012-05-03        580G  ...   \n",
       " 1                   28555.0      High 2012-05-10         936  ...   \n",
       " 2                    6038.0    Medium 2012-05-10    EC210BLC  ...   \n",
       " 3                    8940.0      High 2012-05-10       330CL  ...   \n",
       " 4                    2286.0       Low 2012-05-10        650K  ...   \n",
       " \n",
       "   Undercarriage_Pad_Width         Stick_Length   Thumb      Pattern_Changer  \\\n",
       " 0                     NaN                  NaN     NaN                  NaN   \n",
       " 1                     NaN                  NaN     NaN                  NaN   \n",
       " 2     None or Unspecified                9' 6\"  Manual  None or Unspecified   \n",
       " 3     None or Unspecified  None or Unspecified  Manual                  Yes   \n",
       " 4                     NaN                  NaN     NaN                  NaN   \n",
       " \n",
       "   Grouser_Type     Backhoe_Mounting Blade_Type      Travel_Controls  \\\n",
       " 0          NaN                  NaN        NaN                  NaN   \n",
       " 1          NaN                  NaN        NaN                  NaN   \n",
       " 2       Double                  NaN        NaN                  NaN   \n",
       " 3       Triple                  NaN        NaN                  NaN   \n",
       " 4          NaN  None or Unspecified        PAT  None or Unspecified   \n",
       " \n",
       "   Differential_Type Steering_Controls  \n",
       " 0               NaN               NaN  \n",
       " 1          Standard      Conventional  \n",
       " 2               NaN               NaN  \n",
       " 3               NaN               NaN  \n",
       " 4               NaN               NaN  \n",
       " \n",
       " [5 rows x 52 columns],\n",
       " (12457, 52))"
      ]
     },
     "execution_count": 51,
     "metadata": {},
     "output_type": "execute_result"
    }
   ],
   "source": [
    "test_set_df= pd.read_csv('C:\\\\Users\\\\fritz\\\\Documents\\\\DataBases\\\\bluebook-for-bulldozers\\\\Test.csv',\n",
    "                         low_memory=False,\n",
    "                         parse_dates=['saledate'])\n",
    "\n",
    "test_set_df.head(), test_set_df.shape"
   ]
  },
  {
   "cell_type": "code",
   "execution_count": 52,
   "id": "14c2031c",
   "metadata": {},
   "outputs": [],
   "source": [
    "def treat_data(df):\n",
    "    # Create date time columns\n",
    "    df['saleyear']= df.saledate.dt.year\n",
    "    df['salemonth']= df.saledate.dt.month\n",
    "    df['salequarter'] =df.saledate.dt.quarter\n",
    "    df['salequarterend'] =df.saledate.dt.is_quarter_end\n",
    "    df['salequarterstart'] =df.saledate.dt.is_quarter_start\n",
    "    df['saleyearend']= df.saledate.dt.is_year_end\n",
    "    df['saleyearstart']= df.saledate.dt.is_year_start\n",
    "    # Change objects to categories\n",
    "    for label, value in df.items():\n",
    "        if value.dtype == object:\n",
    "            df[label] = value.astype('category')\n",
    "    df.ModelID = df.ModelID.astype('category')\n",
    "    df.auctioneerID = df.auctioneerID.astype('category')\n",
    "\n",
    "    # Create times sold column which will replace MachineID\n",
    "    df['times_sold'] = df.groupby('MachineID').cumcount()+1\n",
    "    df['times_sold'].value_counts(), df.times_sold.dtype\n",
    "    for k, v in df.items():\n",
    "        if not pd.api.types.is_numeric_dtype(v):\n",
    "            df[k+'_not_stated'] = pd.isnull(v)\n",
    "            df[k]= pd.Categorical(v).codes +1\n",
    "    df['missing_usage_hours'] = pd.isnull(df['MachineHoursCurrentMeter'])\n",
    "    df['MachineHoursCurrentMeter'].fillna(df['MachineHoursCurrentMeter'].loc[df['MachineHoursCurrentMeter']>0].median(), inplace=True)\n",
    "    df.drop(['SalesID', 'saledate', 'MachineID',], axis=1, inplace=True)\n",
    "    return df"
   ]
  },
  {
   "cell_type": "code",
   "execution_count": 53,
   "id": "6a3aeb5a",
   "metadata": {},
   "outputs": [
    {
     "data": {
      "text/plain": [
       "((12457, 105), 0)"
      ]
     },
     "execution_count": 53,
     "metadata": {},
     "output_type": "execute_result"
    }
   ],
   "source": [
    "treated_test_set_df = treat_data(test_set_df)\n",
    "treated_test_set_df.shape, treated_test_set_df.isna().sum().sum()"
   ]
  },
  {
   "cell_type": "code",
   "execution_count": 49,
   "id": "292a7e47",
   "metadata": {},
   "outputs": [
    {
     "data": {
      "text/plain": [
       "['SalePrice']"
      ]
     },
     "execution_count": 49,
     "metadata": {},
     "output_type": "execute_result"
    }
   ],
   "source": [
    "list(set(model_df.columns)-set(treated_test_set_df.columns))"
   ]
  },
  {
   "cell_type": "markdown",
   "id": "127f22ad",
   "metadata": {},
   "source": [
    "We have verified that there are no missing values and that the only column our treated test set data frame does not have is the sale price target labels, which is the point. We will generate predictions and then "
   ]
  },
  {
   "cell_type": "code",
   "execution_count": 78,
   "id": "7ea77452",
   "metadata": {},
   "outputs": [
    {
     "name": "stdout",
     "output_type": "stream",
     "text": [
      "12457\n",
      "(12457, 1)\n"
     ]
    },
    {
     "data": {
      "text/plain": [
       "['bulldozer-price-model5.joblib']"
      ]
     },
     "execution_count": 78,
     "metadata": {},
     "output_type": "execute_result"
    }
   ],
   "source": [
    "test_set_df= pd.read_csv('C:\\\\Users\\\\fritz\\\\Documents\\\\DataBases\\\\bluebook-for-bulldozers\\\\Test.csv',\n",
    "                         low_memory=False,\n",
    "                         parse_dates=['saledate'])\n",
    "\n",
    "model_1_preds = rfr.predict(treated_test_set_df)\n",
    "model_2_preds = rfr2.predict(treated_test_set_df)\n",
    "\n",
    "# format for kaggle competition\n",
    "answer_csv1 = pd.DataFrame(data=test_set_df['SalesID'], columns=['SalesID'])\n",
    "answer_csv2 = pd.DataFrame(data=test_set_df['SalesID'], columns=['SalesID'])\n",
    "\n",
    "answer_csv1['PricePrediction'] = list(model_1_preds)\n",
    "answer_csv2['PricePrediction'] = list(model_2_preds)\n",
    "\n",
    "answer_csv1.to_csv('Bulldozer_test_price_predictions1.csv', index=False)\n",
    "answer_csv2.to_csv('Bulldozer_test_price_predictions2.csv', index=False)\n",
    "\n",
    "from joblib import dump\n",
    "dump(rfr, 'bulldozer-price-model1.joblib')\n",
    "dump(rfr2, 'bulldozer-price-model2.joblib')\n",
    "dump(rfr3, 'bulldozer-price-model3.joblib')\n",
    "dump(rfr4, 'bulldozer-price-model4.joblib')\n",
    "dump(rfr5, 'bulldozer-price-model5.joblib')"
   ]
  }
 ],
 "metadata": {
  "kernelspec": {
   "display_name": "Python 3",
   "language": "python",
   "name": "python3"
  },
  "language_info": {
   "codemirror_mode": {
    "name": "ipython",
    "version": 3
   },
   "file_extension": ".py",
   "mimetype": "text/x-python",
   "name": "python",
   "nbconvert_exporter": "python",
   "pygments_lexer": "ipython3",
   "version": "3.8.8"
  }
 },
 "nbformat": 4,
 "nbformat_minor": 5
}
