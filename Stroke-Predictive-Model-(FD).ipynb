{
 "cells": [
  {
   "cell_type": "markdown",
   "id": "712563b2",
   "metadata": {},
   "source": [
    "# Stroke Modelling\n",
    "This notebook aims to model the occurence of strokes based on various historical and biometric factors. \n",
    "\n",
    "* We will first break down and explore the data\n",
    "* Then we will treat and prepare the data for visualization and modelling\n",
    "* We will visualize the data to set up for modelling\n",
    "* And finally we will test and tune our model"
   ]
  },
  {
   "cell_type": "markdown",
   "id": "80bfe47c",
   "metadata": {},
   "source": [
    "## Data Exploration"
   ]
  },
  {
   "cell_type": "code",
   "execution_count": 1,
   "id": "e0fad6c4",
   "metadata": {},
   "outputs": [],
   "source": [
    "#First we will import our Data\n",
    "import numpy as np\n",
    "import pandas as pd\n",
    "from sklearn import metrics, linear_model\n",
    "from sklearn.model_selection import train_test_split\n",
    "from sklearn.neighbors import KNeighborsClassifier\n",
    "%matplotlib inline\n",
    "import matplotlib.pyplot as plt"
   ]
  },
  {
   "cell_type": "code",
   "execution_count": 2,
   "id": "518b0540",
   "metadata": {},
   "outputs": [
    {
     "data": {
      "text/html": [
       "<div>\n",
       "<style scoped>\n",
       "    .dataframe tbody tr th:only-of-type {\n",
       "        vertical-align: middle;\n",
       "    }\n",
       "\n",
       "    .dataframe tbody tr th {\n",
       "        vertical-align: top;\n",
       "    }\n",
       "\n",
       "    .dataframe thead th {\n",
       "        text-align: right;\n",
       "    }\n",
       "</style>\n",
       "<table border=\"1\" class=\"dataframe\">\n",
       "  <thead>\n",
       "    <tr style=\"text-align: right;\">\n",
       "      <th></th>\n",
       "      <th>id</th>\n",
       "      <th>gender</th>\n",
       "      <th>age</th>\n",
       "      <th>hypertension</th>\n",
       "      <th>heart_disease</th>\n",
       "      <th>ever_married</th>\n",
       "      <th>work_type</th>\n",
       "      <th>Residence_type</th>\n",
       "      <th>avg_glucose_level</th>\n",
       "      <th>bmi</th>\n",
       "      <th>smoking_status</th>\n",
       "      <th>stroke</th>\n",
       "    </tr>\n",
       "  </thead>\n",
       "  <tbody>\n",
       "    <tr>\n",
       "      <th>0</th>\n",
       "      <td>9046</td>\n",
       "      <td>Male</td>\n",
       "      <td>67.0</td>\n",
       "      <td>0</td>\n",
       "      <td>1</td>\n",
       "      <td>Yes</td>\n",
       "      <td>Private</td>\n",
       "      <td>Urban</td>\n",
       "      <td>228.69</td>\n",
       "      <td>36.6</td>\n",
       "      <td>formerly smoked</td>\n",
       "      <td>1</td>\n",
       "    </tr>\n",
       "    <tr>\n",
       "      <th>1</th>\n",
       "      <td>51676</td>\n",
       "      <td>Female</td>\n",
       "      <td>61.0</td>\n",
       "      <td>0</td>\n",
       "      <td>0</td>\n",
       "      <td>Yes</td>\n",
       "      <td>Self-employed</td>\n",
       "      <td>Rural</td>\n",
       "      <td>202.21</td>\n",
       "      <td>NaN</td>\n",
       "      <td>never smoked</td>\n",
       "      <td>1</td>\n",
       "    </tr>\n",
       "    <tr>\n",
       "      <th>2</th>\n",
       "      <td>31112</td>\n",
       "      <td>Male</td>\n",
       "      <td>80.0</td>\n",
       "      <td>0</td>\n",
       "      <td>1</td>\n",
       "      <td>Yes</td>\n",
       "      <td>Private</td>\n",
       "      <td>Rural</td>\n",
       "      <td>105.92</td>\n",
       "      <td>32.5</td>\n",
       "      <td>never smoked</td>\n",
       "      <td>1</td>\n",
       "    </tr>\n",
       "    <tr>\n",
       "      <th>3</th>\n",
       "      <td>60182</td>\n",
       "      <td>Female</td>\n",
       "      <td>49.0</td>\n",
       "      <td>0</td>\n",
       "      <td>0</td>\n",
       "      <td>Yes</td>\n",
       "      <td>Private</td>\n",
       "      <td>Urban</td>\n",
       "      <td>171.23</td>\n",
       "      <td>34.4</td>\n",
       "      <td>smokes</td>\n",
       "      <td>1</td>\n",
       "    </tr>\n",
       "    <tr>\n",
       "      <th>4</th>\n",
       "      <td>1665</td>\n",
       "      <td>Female</td>\n",
       "      <td>79.0</td>\n",
       "      <td>1</td>\n",
       "      <td>0</td>\n",
       "      <td>Yes</td>\n",
       "      <td>Self-employed</td>\n",
       "      <td>Rural</td>\n",
       "      <td>174.12</td>\n",
       "      <td>24.0</td>\n",
       "      <td>never smoked</td>\n",
       "      <td>1</td>\n",
       "    </tr>\n",
       "  </tbody>\n",
       "</table>\n",
       "</div>"
      ],
      "text/plain": [
       "      id  gender   age  hypertension  heart_disease ever_married  \\\n",
       "0   9046    Male  67.0             0              1          Yes   \n",
       "1  51676  Female  61.0             0              0          Yes   \n",
       "2  31112    Male  80.0             0              1          Yes   \n",
       "3  60182  Female  49.0             0              0          Yes   \n",
       "4   1665  Female  79.0             1              0          Yes   \n",
       "\n",
       "       work_type Residence_type  avg_glucose_level   bmi   smoking_status  \\\n",
       "0        Private          Urban             228.69  36.6  formerly smoked   \n",
       "1  Self-employed          Rural             202.21   NaN     never smoked   \n",
       "2        Private          Rural             105.92  32.5     never smoked   \n",
       "3        Private          Urban             171.23  34.4           smokes   \n",
       "4  Self-employed          Rural             174.12  24.0     never smoked   \n",
       "\n",
       "   stroke  \n",
       "0       1  \n",
       "1       1  \n",
       "2       1  \n",
       "3       1  \n",
       "4       1  "
      ]
     },
     "execution_count": 2,
     "metadata": {},
     "output_type": "execute_result"
    }
   ],
   "source": [
    "# Let's explore and describe our data\n",
    "original = pd.read_csv('healthcare-dataset-stroke-data.csv')\n",
    "# We copy the data to preserve the original dataset for categorical histograms.\n",
    "df = original.copy()\n",
    "df.head()"
   ]
  },
  {
   "cell_type": "markdown",
   "id": "491c5ef8",
   "metadata": {},
   "source": [
    "#### There are lots of categorical columns, which limit our ability to gain accurate predictions and explore the data visually. Furthermore, this could feature response bias as people could be withold information about smoking, residence, and work."
   ]
  },
  {
   "cell_type": "code",
   "execution_count": 3,
   "id": "9caadfa2",
   "metadata": {},
   "outputs": [
    {
     "name": "stdout",
     "output_type": "stream",
     "text": [
      "<class 'pandas.core.frame.DataFrame'>\n",
      "RangeIndex: 5110 entries, 0 to 5109\n",
      "Data columns (total 12 columns):\n",
      " #   Column             Non-Null Count  Dtype  \n",
      "---  ------             --------------  -----  \n",
      " 0   id                 5110 non-null   int64  \n",
      " 1   gender             5110 non-null   object \n",
      " 2   age                5110 non-null   float64\n",
      " 3   hypertension       5110 non-null   int64  \n",
      " 4   heart_disease      5110 non-null   int64  \n",
      " 5   ever_married       5110 non-null   object \n",
      " 6   work_type          5110 non-null   object \n",
      " 7   Residence_type     5110 non-null   object \n",
      " 8   avg_glucose_level  5110 non-null   float64\n",
      " 9   bmi                4909 non-null   float64\n",
      " 10  smoking_status     5110 non-null   object \n",
      " 11  stroke             5110 non-null   int64  \n",
      "dtypes: float64(3), int64(4), object(5)\n",
      "memory usage: 479.2+ KB\n"
     ]
    },
    {
     "data": {
      "text/plain": [
       "(                 id          age  hypertension  heart_disease  \\\n",
       " count   5110.000000  5110.000000   5110.000000    5110.000000   \n",
       " mean   36517.829354    43.226614      0.097456       0.054012   \n",
       " std    21161.721625    22.612647      0.296607       0.226063   \n",
       " min       67.000000     0.080000      0.000000       0.000000   \n",
       " 25%    17741.250000    25.000000      0.000000       0.000000   \n",
       " 50%    36932.000000    45.000000      0.000000       0.000000   \n",
       " 75%    54682.000000    61.000000      0.000000       0.000000   \n",
       " max    72940.000000    82.000000      1.000000       1.000000   \n",
       " \n",
       "        avg_glucose_level          bmi       stroke  \n",
       " count        5110.000000  4909.000000  5110.000000  \n",
       " mean          106.147677    28.893237     0.048728  \n",
       " std            45.283560     7.854067     0.215320  \n",
       " min            55.120000    10.300000     0.000000  \n",
       " 25%            77.245000    23.500000     0.000000  \n",
       " 50%            91.885000    28.100000     0.000000  \n",
       " 75%           114.090000    33.100000     0.000000  \n",
       " max           271.740000    97.600000     1.000000  ,\n",
       " None)"
      ]
     },
     "execution_count": 3,
     "metadata": {},
     "output_type": "execute_result"
    }
   ],
   "source": [
    "#How about other metrics?\n",
    "\n",
    "df.describe(), df.info()"
   ]
  },
  {
   "cell_type": "code",
   "execution_count": 4,
   "id": "5dcf41f1",
   "metadata": {},
   "outputs": [
    {
     "name": "stdout",
     "output_type": "stream",
     "text": [
      "stroke victims without bmis 40 \n",
      " total stroke victims 249\n",
      "Stroke victim percentage for those without bmi 19.900497512437813 \n",
      " and stroke victim percentage within the population 4.87279843444227\n"
     ]
    }
   ],
   "source": [
    "# over 200 rows, less than 5%, is missing bmi, but our data set is quite robust.\n",
    "\n",
    "# how many of those are stroke victims\n",
    "print(f\"stroke victims without bmis {df['stroke'].loc[df['stroke']==1].loc[df['bmi'].isna()].sum()}\",\"\\n\",f\"total stroke victims {df['stroke'].loc[df['stroke']==1].sum()}\")\n",
    "print(f'Stroke victim percentage for those without bmi {(40/201)*100}','\\n',f'and stroke victim percentage within the population {(249/5110)*100}')\n"
   ]
  },
  {
   "cell_type": "markdown",
   "id": "24ec1d2f",
   "metadata": {},
   "source": [
    "This would mean 4 times too many stroke victims would be removed from the dataset\n",
    "resulting in 12% reduction in relative size. \n",
    "\n",
    "We would have only 200 individuals left. Is this worth the extra data?"
   ]
  },
  {
   "cell_type": "markdown",
   "id": "0e622ec8",
   "metadata": {},
   "source": [
    "### Our solution will be to copy the dataset and use 2 models, one with dropped na values and one without bmi."
   ]
  },
  {
   "cell_type": "code",
   "execution_count": 5,
   "id": "807dd37d",
   "metadata": {},
   "outputs": [
    {
     "name": "stderr",
     "output_type": "stream",
     "text": [
      "C:\\Users\\fritz\\anaconda3\\lib\\site-packages\\pandas\\core\\indexing.py:1637: SettingWithCopyWarning: \n",
      "A value is trying to be set on a copy of a slice from a DataFrame\n",
      "\n",
      "See the caveats in the documentation: https://pandas.pydata.org/pandas-docs/stable/user_guide/indexing.html#returning-a-view-versus-a-copy\n",
      "  self._setitem_single_block(indexer, value, name)\n"
     ]
    },
    {
     "data": {
      "text/html": [
       "<div>\n",
       "<style scoped>\n",
       "    .dataframe tbody tr th:only-of-type {\n",
       "        vertical-align: middle;\n",
       "    }\n",
       "\n",
       "    .dataframe tbody tr th {\n",
       "        vertical-align: top;\n",
       "    }\n",
       "\n",
       "    .dataframe thead th {\n",
       "        text-align: right;\n",
       "    }\n",
       "</style>\n",
       "<table border=\"1\" class=\"dataframe\">\n",
       "  <thead>\n",
       "    <tr style=\"text-align: right;\">\n",
       "      <th></th>\n",
       "      <th>work_Govt_job</th>\n",
       "      <th>work_Never_worked</th>\n",
       "      <th>work_Private</th>\n",
       "      <th>work_Self-employed</th>\n",
       "      <th>work_children</th>\n",
       "    </tr>\n",
       "  </thead>\n",
       "  <tbody>\n",
       "    <tr>\n",
       "      <th>0</th>\n",
       "      <td>0</td>\n",
       "      <td>0</td>\n",
       "      <td>1</td>\n",
       "      <td>0</td>\n",
       "      <td>0</td>\n",
       "    </tr>\n",
       "    <tr>\n",
       "      <th>1</th>\n",
       "      <td>0</td>\n",
       "      <td>0</td>\n",
       "      <td>0</td>\n",
       "      <td>1</td>\n",
       "      <td>0</td>\n",
       "    </tr>\n",
       "    <tr>\n",
       "      <th>2</th>\n",
       "      <td>0</td>\n",
       "      <td>0</td>\n",
       "      <td>1</td>\n",
       "      <td>0</td>\n",
       "      <td>0</td>\n",
       "    </tr>\n",
       "    <tr>\n",
       "      <th>3</th>\n",
       "      <td>0</td>\n",
       "      <td>0</td>\n",
       "      <td>1</td>\n",
       "      <td>0</td>\n",
       "      <td>0</td>\n",
       "    </tr>\n",
       "    <tr>\n",
       "      <th>4</th>\n",
       "      <td>0</td>\n",
       "      <td>0</td>\n",
       "      <td>0</td>\n",
       "      <td>1</td>\n",
       "      <td>0</td>\n",
       "    </tr>\n",
       "    <tr>\n",
       "      <th>...</th>\n",
       "      <td>...</td>\n",
       "      <td>...</td>\n",
       "      <td>...</td>\n",
       "      <td>...</td>\n",
       "      <td>...</td>\n",
       "    </tr>\n",
       "    <tr>\n",
       "      <th>5105</th>\n",
       "      <td>0</td>\n",
       "      <td>0</td>\n",
       "      <td>1</td>\n",
       "      <td>0</td>\n",
       "      <td>0</td>\n",
       "    </tr>\n",
       "    <tr>\n",
       "      <th>5106</th>\n",
       "      <td>0</td>\n",
       "      <td>0</td>\n",
       "      <td>0</td>\n",
       "      <td>1</td>\n",
       "      <td>0</td>\n",
       "    </tr>\n",
       "    <tr>\n",
       "      <th>5107</th>\n",
       "      <td>0</td>\n",
       "      <td>0</td>\n",
       "      <td>0</td>\n",
       "      <td>1</td>\n",
       "      <td>0</td>\n",
       "    </tr>\n",
       "    <tr>\n",
       "      <th>5108</th>\n",
       "      <td>0</td>\n",
       "      <td>0</td>\n",
       "      <td>1</td>\n",
       "      <td>0</td>\n",
       "      <td>0</td>\n",
       "    </tr>\n",
       "    <tr>\n",
       "      <th>5109</th>\n",
       "      <td>1</td>\n",
       "      <td>0</td>\n",
       "      <td>0</td>\n",
       "      <td>0</td>\n",
       "      <td>0</td>\n",
       "    </tr>\n",
       "  </tbody>\n",
       "</table>\n",
       "<p>5110 rows × 5 columns</p>\n",
       "</div>"
      ],
      "text/plain": [
       "      work_Govt_job  work_Never_worked  work_Private  work_Self-employed  \\\n",
       "0                 0                  0             1                   0   \n",
       "1                 0                  0             0                   1   \n",
       "2                 0                  0             1                   0   \n",
       "3                 0                  0             1                   0   \n",
       "4                 0                  0             0                   1   \n",
       "...             ...                ...           ...                 ...   \n",
       "5105              0                  0             1                   0   \n",
       "5106              0                  0             0                   1   \n",
       "5107              0                  0             0                   1   \n",
       "5108              0                  0             1                   0   \n",
       "5109              1                  0             0                   0   \n",
       "\n",
       "      work_children  \n",
       "0                 0  \n",
       "1                 0  \n",
       "2                 0  \n",
       "3                 0  \n",
       "4                 0  \n",
       "...             ...  \n",
       "5105              0  \n",
       "5106              0  \n",
       "5107              0  \n",
       "5108              0  \n",
       "5109              0  \n",
       "\n",
       "[5110 rows x 5 columns]"
      ]
     },
     "execution_count": 5,
     "metadata": {},
     "output_type": "execute_result"
    }
   ],
   "source": [
    "# Let's first clean the data an remove categorical elements.\n",
    "df['gender'].loc[df['gender'].isin(['Male', 'Other'])] = 0\n",
    "df['gender'].loc[df['gender'] == 'Female'] = 1\n",
    "df['ever_married'].loc[df['ever_married'] == 'No'] = 0\n",
    "df['ever_married'].loc[df['ever_married'] == 'Yes'] = 1\n",
    "df['Residence_type'].loc[df['Residence_type']=='Urban'] = 0\n",
    "df['Residence_type'].loc[df['Residence_type']=='Rural'] = 1\n",
    "# The work_type and smoking_status columns are too important and discontinuous to give a single value. Lets use dummy values\n",
    "dummies = pd.get_dummies(df['work_type'],prefix='work')\n",
    "dummies"
   ]
  },
  {
   "cell_type": "code",
   "execution_count": 6,
   "id": "bf52e530",
   "metadata": {},
   "outputs": [
    {
     "data": {
      "text/html": [
       "<div>\n",
       "<style scoped>\n",
       "    .dataframe tbody tr th:only-of-type {\n",
       "        vertical-align: middle;\n",
       "    }\n",
       "\n",
       "    .dataframe tbody tr th {\n",
       "        vertical-align: top;\n",
       "    }\n",
       "\n",
       "    .dataframe thead th {\n",
       "        text-align: right;\n",
       "    }\n",
       "</style>\n",
       "<table border=\"1\" class=\"dataframe\">\n",
       "  <thead>\n",
       "    <tr style=\"text-align: right;\">\n",
       "      <th></th>\n",
       "      <th>Unknown</th>\n",
       "      <th>formerly smoked</th>\n",
       "      <th>never smoked</th>\n",
       "      <th>smokes</th>\n",
       "    </tr>\n",
       "  </thead>\n",
       "  <tbody>\n",
       "    <tr>\n",
       "      <th>0</th>\n",
       "      <td>0</td>\n",
       "      <td>1</td>\n",
       "      <td>0</td>\n",
       "      <td>0</td>\n",
       "    </tr>\n",
       "    <tr>\n",
       "      <th>1</th>\n",
       "      <td>0</td>\n",
       "      <td>0</td>\n",
       "      <td>1</td>\n",
       "      <td>0</td>\n",
       "    </tr>\n",
       "    <tr>\n",
       "      <th>2</th>\n",
       "      <td>0</td>\n",
       "      <td>0</td>\n",
       "      <td>1</td>\n",
       "      <td>0</td>\n",
       "    </tr>\n",
       "    <tr>\n",
       "      <th>3</th>\n",
       "      <td>0</td>\n",
       "      <td>0</td>\n",
       "      <td>0</td>\n",
       "      <td>1</td>\n",
       "    </tr>\n",
       "    <tr>\n",
       "      <th>4</th>\n",
       "      <td>0</td>\n",
       "      <td>0</td>\n",
       "      <td>1</td>\n",
       "      <td>0</td>\n",
       "    </tr>\n",
       "    <tr>\n",
       "      <th>...</th>\n",
       "      <td>...</td>\n",
       "      <td>...</td>\n",
       "      <td>...</td>\n",
       "      <td>...</td>\n",
       "    </tr>\n",
       "    <tr>\n",
       "      <th>5105</th>\n",
       "      <td>0</td>\n",
       "      <td>0</td>\n",
       "      <td>1</td>\n",
       "      <td>0</td>\n",
       "    </tr>\n",
       "    <tr>\n",
       "      <th>5106</th>\n",
       "      <td>0</td>\n",
       "      <td>0</td>\n",
       "      <td>1</td>\n",
       "      <td>0</td>\n",
       "    </tr>\n",
       "    <tr>\n",
       "      <th>5107</th>\n",
       "      <td>0</td>\n",
       "      <td>0</td>\n",
       "      <td>1</td>\n",
       "      <td>0</td>\n",
       "    </tr>\n",
       "    <tr>\n",
       "      <th>5108</th>\n",
       "      <td>0</td>\n",
       "      <td>1</td>\n",
       "      <td>0</td>\n",
       "      <td>0</td>\n",
       "    </tr>\n",
       "    <tr>\n",
       "      <th>5109</th>\n",
       "      <td>1</td>\n",
       "      <td>0</td>\n",
       "      <td>0</td>\n",
       "      <td>0</td>\n",
       "    </tr>\n",
       "  </tbody>\n",
       "</table>\n",
       "<p>5110 rows × 4 columns</p>\n",
       "</div>"
      ],
      "text/plain": [
       "      Unknown  formerly smoked  never smoked  smokes\n",
       "0           0                1             0       0\n",
       "1           0                0             1       0\n",
       "2           0                0             1       0\n",
       "3           0                0             0       1\n",
       "4           0                0             1       0\n",
       "...       ...              ...           ...     ...\n",
       "5105        0                0             1       0\n",
       "5106        0                0             1       0\n",
       "5107        0                0             1       0\n",
       "5108        0                1             0       0\n",
       "5109        1                0             0       0\n",
       "\n",
       "[5110 rows x 4 columns]"
      ]
     },
     "execution_count": 6,
     "metadata": {},
     "output_type": "execute_result"
    }
   ],
   "source": [
    "#And now the smoking status column dummies\n",
    "dummies2 = pd.get_dummies(df['smoking_status'])\n",
    "dummies2"
   ]
  },
  {
   "cell_type": "code",
   "execution_count": 7,
   "id": "5fb45319",
   "metadata": {},
   "outputs": [
    {
     "data": {
      "text/html": [
       "<div>\n",
       "<style scoped>\n",
       "    .dataframe tbody tr th:only-of-type {\n",
       "        vertical-align: middle;\n",
       "    }\n",
       "\n",
       "    .dataframe tbody tr th {\n",
       "        vertical-align: top;\n",
       "    }\n",
       "\n",
       "    .dataframe thead th {\n",
       "        text-align: right;\n",
       "    }\n",
       "</style>\n",
       "<table border=\"1\" class=\"dataframe\">\n",
       "  <thead>\n",
       "    <tr style=\"text-align: right;\">\n",
       "      <th></th>\n",
       "      <th>id</th>\n",
       "      <th>gender</th>\n",
       "      <th>age</th>\n",
       "      <th>hypertension</th>\n",
       "      <th>heart_disease</th>\n",
       "      <th>ever_married</th>\n",
       "      <th>Residence_type</th>\n",
       "      <th>avg_glucose_level</th>\n",
       "      <th>bmi</th>\n",
       "      <th>stroke</th>\n",
       "      <th>work_Govt_job</th>\n",
       "      <th>work_Never_worked</th>\n",
       "      <th>work_Private</th>\n",
       "      <th>work_Self-employed</th>\n",
       "      <th>work_children</th>\n",
       "      <th>Unknown</th>\n",
       "      <th>formerly smoked</th>\n",
       "      <th>never smoked</th>\n",
       "      <th>smokes</th>\n",
       "    </tr>\n",
       "  </thead>\n",
       "  <tbody>\n",
       "    <tr>\n",
       "      <th>0</th>\n",
       "      <td>9046</td>\n",
       "      <td>0</td>\n",
       "      <td>67.0</td>\n",
       "      <td>0</td>\n",
       "      <td>1</td>\n",
       "      <td>1</td>\n",
       "      <td>0</td>\n",
       "      <td>228.69</td>\n",
       "      <td>36.6</td>\n",
       "      <td>1</td>\n",
       "      <td>0</td>\n",
       "      <td>0</td>\n",
       "      <td>1</td>\n",
       "      <td>0</td>\n",
       "      <td>0</td>\n",
       "      <td>0</td>\n",
       "      <td>1</td>\n",
       "      <td>0</td>\n",
       "      <td>0</td>\n",
       "    </tr>\n",
       "    <tr>\n",
       "      <th>1</th>\n",
       "      <td>51676</td>\n",
       "      <td>1</td>\n",
       "      <td>61.0</td>\n",
       "      <td>0</td>\n",
       "      <td>0</td>\n",
       "      <td>1</td>\n",
       "      <td>1</td>\n",
       "      <td>202.21</td>\n",
       "      <td>NaN</td>\n",
       "      <td>1</td>\n",
       "      <td>0</td>\n",
       "      <td>0</td>\n",
       "      <td>0</td>\n",
       "      <td>1</td>\n",
       "      <td>0</td>\n",
       "      <td>0</td>\n",
       "      <td>0</td>\n",
       "      <td>1</td>\n",
       "      <td>0</td>\n",
       "    </tr>\n",
       "    <tr>\n",
       "      <th>2</th>\n",
       "      <td>31112</td>\n",
       "      <td>0</td>\n",
       "      <td>80.0</td>\n",
       "      <td>0</td>\n",
       "      <td>1</td>\n",
       "      <td>1</td>\n",
       "      <td>1</td>\n",
       "      <td>105.92</td>\n",
       "      <td>32.5</td>\n",
       "      <td>1</td>\n",
       "      <td>0</td>\n",
       "      <td>0</td>\n",
       "      <td>1</td>\n",
       "      <td>0</td>\n",
       "      <td>0</td>\n",
       "      <td>0</td>\n",
       "      <td>0</td>\n",
       "      <td>1</td>\n",
       "      <td>0</td>\n",
       "    </tr>\n",
       "    <tr>\n",
       "      <th>3</th>\n",
       "      <td>60182</td>\n",
       "      <td>1</td>\n",
       "      <td>49.0</td>\n",
       "      <td>0</td>\n",
       "      <td>0</td>\n",
       "      <td>1</td>\n",
       "      <td>0</td>\n",
       "      <td>171.23</td>\n",
       "      <td>34.4</td>\n",
       "      <td>1</td>\n",
       "      <td>0</td>\n",
       "      <td>0</td>\n",
       "      <td>1</td>\n",
       "      <td>0</td>\n",
       "      <td>0</td>\n",
       "      <td>0</td>\n",
       "      <td>0</td>\n",
       "      <td>0</td>\n",
       "      <td>1</td>\n",
       "    </tr>\n",
       "    <tr>\n",
       "      <th>4</th>\n",
       "      <td>1665</td>\n",
       "      <td>1</td>\n",
       "      <td>79.0</td>\n",
       "      <td>1</td>\n",
       "      <td>0</td>\n",
       "      <td>1</td>\n",
       "      <td>1</td>\n",
       "      <td>174.12</td>\n",
       "      <td>24.0</td>\n",
       "      <td>1</td>\n",
       "      <td>0</td>\n",
       "      <td>0</td>\n",
       "      <td>0</td>\n",
       "      <td>1</td>\n",
       "      <td>0</td>\n",
       "      <td>0</td>\n",
       "      <td>0</td>\n",
       "      <td>1</td>\n",
       "      <td>0</td>\n",
       "    </tr>\n",
       "  </tbody>\n",
       "</table>\n",
       "</div>"
      ],
      "text/plain": [
       "      id gender   age  hypertension  heart_disease ever_married  \\\n",
       "0   9046      0  67.0             0              1            1   \n",
       "1  51676      1  61.0             0              0            1   \n",
       "2  31112      0  80.0             0              1            1   \n",
       "3  60182      1  49.0             0              0            1   \n",
       "4   1665      1  79.0             1              0            1   \n",
       "\n",
       "  Residence_type  avg_glucose_level   bmi  stroke  work_Govt_job  \\\n",
       "0              0             228.69  36.6       1              0   \n",
       "1              1             202.21   NaN       1              0   \n",
       "2              1             105.92  32.5       1              0   \n",
       "3              0             171.23  34.4       1              0   \n",
       "4              1             174.12  24.0       1              0   \n",
       "\n",
       "   work_Never_worked  work_Private  work_Self-employed  work_children  \\\n",
       "0                  0             1                   0              0   \n",
       "1                  0             0                   1              0   \n",
       "2                  0             1                   0              0   \n",
       "3                  0             1                   0              0   \n",
       "4                  0             0                   1              0   \n",
       "\n",
       "   Unknown  formerly smoked  never smoked  smokes  \n",
       "0        0                1             0       0  \n",
       "1        0                0             1       0  \n",
       "2        0                0             1       0  \n",
       "3        0                0             0       1  \n",
       "4        0                0             1       0  "
      ]
     },
     "execution_count": 7,
     "metadata": {},
     "output_type": "execute_result"
    }
   ],
   "source": [
    "# Now we need to replace the 'work_type' column with its dummy counterparts\n",
    "df.drop(['work_type', 'smoking_status'], axis=1, inplace=True)\n",
    "df = pd.concat([df,dummies, dummies2], axis=1)\n",
    "df.head()"
   ]
  },
  {
   "cell_type": "code",
   "execution_count": 8,
   "id": "faadf327",
   "metadata": {},
   "outputs": [
    {
     "data": {
      "text/plain": [
       "id                      int64\n",
       "gender                 object\n",
       "age                   float64\n",
       "hypertension            int64\n",
       "heart_disease           int64\n",
       "ever_married           object\n",
       "Residence_type         object\n",
       "avg_glucose_level     float64\n",
       "bmi                   float64\n",
       "stroke                  int64\n",
       "work_Govt_job           uint8\n",
       "work_Never_worked       uint8\n",
       "work_Private            uint8\n",
       "work_Self-employed      uint8\n",
       "work_children           uint8\n",
       "Unknown                 uint8\n",
       "formerly smoked         uint8\n",
       "never smoked            uint8\n",
       "smokes                  uint8\n",
       "dtype: object"
      ]
     },
     "execution_count": 8,
     "metadata": {},
     "output_type": "execute_result"
    }
   ],
   "source": [
    "# Let's double check the data types\n",
    "df.dtypes"
   ]
  },
  {
   "cell_type": "code",
   "execution_count": 9,
   "id": "c13ebbb9",
   "metadata": {},
   "outputs": [
    {
     "data": {
      "text/plain": [
       "id                      int64\n",
       "gender                  int32\n",
       "age                   float64\n",
       "hypertension            int64\n",
       "heart_disease           int64\n",
       "ever_married            int32\n",
       "Residence_type          int32\n",
       "avg_glucose_level     float64\n",
       "bmi                   float64\n",
       "stroke                  int64\n",
       "work_Govt_job           uint8\n",
       "work_Never_worked       uint8\n",
       "work_Private            uint8\n",
       "work_Self-employed      uint8\n",
       "work_children           uint8\n",
       "Unknown                 uint8\n",
       "formerly smoked         uint8\n",
       "never smoked            uint8\n",
       "smokes                  uint8\n",
       "dtype: object"
      ]
     },
     "execution_count": 9,
     "metadata": {},
     "output_type": "execute_result"
    }
   ],
   "source": [
    "#Many Columns are still objects. Let's change that\n",
    "df[['gender','ever_married','Residence_type']]= df[['gender','ever_married', 'Residence_type']].astype('int')\n",
    "df.dtypes"
   ]
  },
  {
   "cell_type": "markdown",
   "id": "5331818a",
   "metadata": {},
   "source": [
    "### Recap\n",
    "\n",
    "Now we have cleaned our model and are ready to break it into the two model sets. \n",
    "\n",
    "One will remove rows with na values and use all available factors as independent variables.(df1)\n",
    "\n",
    "The other will drop bmi as a factor and keep all existing rows (df2)"
   ]
  },
  {
   "cell_type": "code",
   "execution_count": 10,
   "id": "bcefef6f",
   "metadata": {},
   "outputs": [],
   "source": [
    "df2 = df.copy()\n",
    "df.dropna(inplace=True)\n",
    "df2.drop('bmi', axis=1, inplace=True)"
   ]
  },
  {
   "cell_type": "markdown",
   "id": "f1a6bcbe",
   "metadata": {},
   "source": [
    "### Now that we have to separate models, let's explore the difference.\n",
    "\n",
    "### We will perform groupby calculations by stroke values for each dataset."
   ]
  },
  {
   "cell_type": "markdown",
   "id": "202e2a4d",
   "metadata": {},
   "source": [
    "## Visualization of Data"
   ]
  },
  {
   "cell_type": "code",
   "execution_count": 14,
   "id": "29a9c0f7",
   "metadata": {},
   "outputs": [],
   "source": [
    "# Though we don't have many graphable fields, we can gain some more insight.\n",
    "\n",
    "# To highlight stroke victims, we will create separate stroke victime scatter data to overlay the original \n",
    "\n",
    "sv_1 = df.copy()\n",
    "sv_2 = df.copy()\n",
    "sv_1 = sv_1.loc[sv_1['stroke']==1]\n",
    "sv_2 = sv_2.loc[sv_2['stroke']==1]\n",
    "\n",
    "# Then we will create variables for bmi from sv_1 and avg_glucose_level from sv_2\n",
    "stroke_bmi = sv_1['bmi']\n",
    "stroke_agl = sv_2['avg_glucose_level']\n",
    "\n"
   ]
  },
  {
   "cell_type": "code",
   "execution_count": 18,
   "id": "4d458b91",
   "metadata": {},
   "outputs": [
    {
     "data": {
      "image/png": "[encoded data removed]",
      "text/plain": [
       "<Figure size 720x2160 with 4 Axes>"
      ]
     },
     "metadata": {
      "needs_background": "light"
     },
     "output_type": "display_data"
    }
   ],
   "source": [
    "\n",
    "# We'll set up a figure\n",
    "fig, ax =plt.subplots(nrows=4,ncols=1,figsize=(10,30))\n",
    "ax[0].scatter(x=df['age'], y=df['bmi'], color='indigo', label='0')\n",
    "ax[0].scatter(x=sv_1['age'], y=stroke_bmi, color='red', label='1')\n",
    "ax[0].set(title='Comparing BMI with Age and Stroke Incidence', ylabel='BMI value', xlabel='Age')\n",
    "ax[0].axhline(df['bmi'].mean(), linestyle='-',color='yellow', label='Mean BMI')\n",
    "ax[0].legend(title='Stroke')\n",
    "ax[1].scatter(x=df2['age'], y=df2['avg_glucose_level'], color='turquoise', label='0')\n",
    "ax[1].scatter(x=sv_2['age'], y=stroke_agl, color='pink', label='1')\n",
    "ax[1].axhline(df2['avg_glucose_level'].mean(), linestyle='-', color='red', label='Mean Glucose Level')\n",
    "ax[1].legend(title='Stroke')\n",
    "ax[1].set(title='Glucose Level Compared by Age and Stroke Incidence', ylabel='Average Glucose Level', xlabel='Age')\n",
    "ax[2].hist(original['smoking_status'])\n",
    "ax[2].set(title='Histogram by Smoking Status', ylabel='Quantity', xlabel='Smoking Status')\n",
    "ax[3].hist(original['work_type'])\n",
    "ax[3].set(title='Histogram by Work Type', ylabel='Quantity', xlabel = 'Work Type')\n",
    "plt.savefig('stroke-analysis-figure.png');"
   ]
  },
  {
   "cell_type": "markdown",
   "id": "4b90979b",
   "metadata": {},
   "source": [
    "### Visualization Conclusions\n",
    "\n",
    "This dataset has very little correllation between variables and stroke incidence.\n",
    "\n",
    "The histograms also show some problematic variables:\n",
    "   \n",
    "There is a high prevalence of individuals whose smoking status is unknown. That dummy column could muddy the larger picture\n",
    "    \n",
    "There are multiple work type values who have so few data points it could cause some anomalous fitting in the models to come. \n"
   ]
  },
  {
   "cell_type": "markdown",
   "id": "8e9f7448",
   "metadata": {},
   "source": [
    "## Predictive Modelling"
   ]
  },
  {
   "cell_type": "code",
   "execution_count": 13,
   "id": "e2a6bd8b",
   "metadata": {},
   "outputs": [],
   "source": [
    "# First we will need to split our datasets by dependent and independent variables\n",
    "X = df.drop('stroke',axis=1)\n",
    "y = df['stroke']\n",
    "\n",
    "# This second set of variables will be for the model without bmi values.\n",
    "X2 = df2.drop('stroke',axis=1)\n",
    "y2 = df2['stroke']\n"
   ]
  },
  {
   "cell_type": "code",
   "execution_count": 14,
   "id": "11196b9c",
   "metadata": {},
   "outputs": [
    {
     "name": "stdout",
     "output_type": "stream",
     "text": [
      "With BMI Column\n",
      "                  id    gender        age  hypertension  heart_disease  \\\n",
      "stroke                                                                   \n",
      "0       37042.892128  0.590851  41.760451      0.083191       0.043191   \n",
      "1       37546.038278  0.574163  67.712919      0.287081       0.191388   \n",
      "\n",
      "        ever_married  Residence_type  avg_glucose_level        bmi  \\\n",
      "stroke                                                               \n",
      "0           0.642128        0.493404         104.003736  28.823064   \n",
      "1           0.889952        0.478469         134.571388  30.471292   \n",
      "\n",
      "        work_Govt_job  work_Never_worked  work_Private  work_Self-employed  \\\n",
      "stroke                                                                       \n",
      "0            0.128085           0.004681      0.571064            0.153617   \n",
      "1            0.133971           0.000000      0.607656            0.253589   \n",
      "\n",
      "        work_children   Unknown  formerly smoked  never smoked    smokes  \n",
      "stroke                                                                    \n",
      "0            0.142553  0.309362         0.165957      0.376170  0.148511  \n",
      "1            0.004785  0.138756         0.272727      0.401914  0.186603  \n",
      "Without BMI Column\n",
      "                  id    gender        age  hypertension  heart_disease  \\\n",
      "stroke                                                                   \n",
      "0       36487.236371  0.586916  41.971545      0.088871       0.047110   \n",
      "1       37115.068273  0.566265  67.728193      0.265060       0.188755   \n",
      "\n",
      "        ever_married  Residence_type  avg_glucose_level  work_Govt_job  \\\n",
      "stroke                                                                   \n",
      "0           0.644518        0.493726         104.795513       0.128369   \n",
      "1           0.883534        0.457831         132.544739       0.132530   \n",
      "\n",
      "        work_Never_worked  work_Private  work_Self-employed  work_children  \\\n",
      "stroke                                                                       \n",
      "0                0.004526      0.571076            0.155112       0.140918   \n",
      "1                0.000000      0.598394            0.261044       0.008032   \n",
      "\n",
      "         Unknown  formerly smoked  never smoked    smokes  \n",
      "stroke                                                     \n",
      "0       0.307961         0.167661      0.370706  0.153672  \n",
      "1       0.188755         0.281124      0.361446  0.168675  \n"
     ]
    }
   ],
   "source": [
    "print('With BMI Column')\n",
    "print(df.groupby(['stroke']).mean())\n",
    "print('Without BMI Column')\n",
    "print(df2.groupby(['stroke']).mean())\n"
   ]
  },
  {
   "cell_type": "markdown",
   "id": "8d91e6d3",
   "metadata": {},
   "source": [
    "### It appears that the data set that has removed rows from the dataframe (With BMI) has a larger variance between stroke victims and the greater population. It may be better for modelling, but there is also a chance that it is less representative."
   ]
  },
  {
   "cell_type": "code",
   "execution_count": 19,
   "id": "3b4b52ba",
   "metadata": {},
   "outputs": [
    {
     "data": {
      "text/plain": [
       "0.9501018329938901"
      ]
     },
     "execution_count": 19,
     "metadata": {},
     "output_type": "execute_result"
    }
   ],
   "source": [
    "# Let's set up the models and put them to the test\n",
    "\n",
    "x_train, x_test, y_train, y_test = train_test_split(X,y, test_size=0.2)\n",
    "\n",
    "x_train2,x_test2, y_train2, y_test2 = train_test_split(X2,y2, test_size=0.2)\n",
    "\n",
    "knn = KNeighborsClassifier()\n",
    "\n",
    "# test no 1\n",
    "\n",
    "knn.fit(x_train, y_train)\n",
    "knn.score(x_test, y_test)"
   ]
  },
  {
   "cell_type": "code",
   "execution_count": 20,
   "id": "c2d8479e",
   "metadata": {},
   "outputs": [
    {
     "data": {
      "text/plain": [
       "0.9501018329938902"
      ]
     },
     "execution_count": 20,
     "metadata": {},
     "output_type": "execute_result"
    }
   ],
   "source": [
    "# Let's see if that value is consistent:\n",
    "scores=[]\n",
    "for i in range(25):\n",
    "    y_preds = knn.predict(x_test)\n",
    "    scores.append(metrics.accuracy_score(y_preds, y_test))\n",
    "np.average(scores)"
   ]
  },
  {
   "cell_type": "code",
   "execution_count": null,
   "id": "5f5b4a6c",
   "metadata": {},
   "outputs": [],
   "source": [
    "# While not as high as the accuracies for other models, it seems solid and consistent"
   ]
  },
  {
   "cell_type": "code",
   "execution_count": 21,
   "id": "db8bddfc",
   "metadata": {},
   "outputs": [
    {
     "data": {
      "text/plain": [
       "0.949119373776908"
      ]
     },
     "execution_count": 21,
     "metadata": {},
     "output_type": "execute_result"
    }
   ],
   "source": [
    "# Let's explore the other model\n",
    "knn.fit(x_train2,y_train2)\n",
    "knn.score(x_test2,y_test2)"
   ]
  },
  {
   "cell_type": "code",
   "execution_count": 22,
   "id": "fe367ed0",
   "metadata": {},
   "outputs": [
    {
     "data": {
      "text/plain": [
       "0.949119373776908"
      ]
     },
     "execution_count": 22,
     "metadata": {},
     "output_type": "execute_result"
    }
   ],
   "source": [
    "# One test has the second set with more rows test higher than the other model. Let's see how consistent that is.\n",
    "scores = []\n",
    "for i in range(25):\n",
    "    y_preds = knn.predict(x_test2)\n",
    "    scores.append(metrics.accuracy_score(y_preds, y_test2))\n",
    "np.average(scores)"
   ]
  },
  {
   "cell_type": "markdown",
   "id": "27ea5091",
   "metadata": {},
   "source": [
    "### It certainly appears that the accuracy is higher than the other model by a fraction. Perhaps the increase in representation for the marginally prevalent stroke victims was more important than one added variable."
   ]
  },
  {
   "cell_type": "markdown",
   "id": "20af9293",
   "metadata": {},
   "source": [
    "### Can we continue to refine and improve the model? Let us continue refining the second model."
   ]
  },
  {
   "cell_type": "code",
   "execution_count": 23,
   "id": "effb9d14",
   "metadata": {},
   "outputs": [
    {
     "name": "stdout",
     "output_type": "stream",
     "text": [
      "Ball Tree scored 0.9520547945205479\n",
      "Ball Tree scored 0.9520547945205479\n",
      "Ball Tree scored 0.9520547945205479\n",
      "Ball Tree scored 0.9520547945205479\n",
      "Ball Tree scored 0.9520547945205479\n",
      "Ball Tree scored 0.9520547945205479\n",
      "Ball Tree scored 0.9520547945205479\n",
      "Ball Tree scored 0.9520547945205479\n",
      "259 ms ± 17 ms per loop (mean ± std. dev. of 7 runs, 1 loop each)\n",
      "KD Tree scored 0.9520547945205479\n",
      "KD Tree scored 0.9520547945205479\n",
      "KD Tree scored 0.9520547945205479\n",
      "KD Tree scored 0.9520547945205479\n",
      "KD Tree scored 0.9520547945205479\n",
      "KD Tree scored 0.9520547945205479\n",
      "KD Tree scored 0.9520547945205479\n",
      "KD Tree scored 0.9520547945205479\n",
      "303 ms ± 5.08 ms per loop (mean ± std. dev. of 7 runs, 1 loop each)\n",
      "Brute Force scored 0.9520547945205479\n",
      "Brute Force scored 0.9520547945205479\n",
      "Brute Force scored 0.9520547945205479\n",
      "Brute Force scored 0.9520547945205479\n",
      "Brute Force scored 0.9520547945205479\n",
      "Brute Force scored 0.9520547945205479\n",
      "Brute Force scored 0.9520547945205479\n",
      "Brute Force scored 0.9520547945205479\n",
      "744 ms ± 20.9 ms per loop (mean ± std. dev. of 7 runs, 1 loop each)\n"
     ]
    }
   ],
   "source": [
    "# The following tests the relative efficiency of the algorithms available in the kneighbour class.\n",
    "#Which is optimal? Ball tree, kd tree, or brute force?\n",
    "x_train, x_test, y_train, y_test = train_test_split(X2, y2, test_size=.20)\n",
    "\n",
    "def ball_tree():\n",
    "    accuracy_set = []\n",
    "    kn = KNeighborsClassifier(n_neighbors=4, algorithm='ball_tree')\n",
    "    for x in range(5):\n",
    "            kn.fit(x_train, y_train)\n",
    "            predictions = kn.predict(x_test)\n",
    "            accuracy_set.append(metrics.accuracy_score(predictions, y_test))\n",
    "    return print(f'Ball Tree scored {np.average(accuracy_set)}')\n",
    "\n",
    "def kd_tree():\n",
    "    accuracy_set = []\n",
    "    kn = KNeighborsClassifier(n_neighbors=4, algorithm='kd_tree')\n",
    "    for x in range(5):\n",
    "            kn.fit(x_train, y_train)\n",
    "            predictions = kn.predict(x_test)\n",
    "            accuracy_set.append(metrics.accuracy_score(predictions, y_test))\n",
    "    return print(f'KD Tree scored {np.average(accuracy_set)}')\n",
    "\n",
    "def brute():\n",
    "    accuracy_set = []\n",
    "    kn = KNeighborsClassifier(n_neighbors=4, algorithm='brute')\n",
    "    for x in range(5):\n",
    "            kn.fit(x_train, y_train)\n",
    "            predictions = kn.predict(x_test)\n",
    "            accuracy_set.append(metrics.accuracy_score(predictions, y_test))\n",
    "    return print(f'Brute Force scored {np.average(accuracy_set)}')\n",
    "\n",
    "%timeit ball_tree()\n",
    "\n",
    "%timeit kd_tree()\n",
    "\n",
    "%timeit brute()"
   ]
  },
  {
   "cell_type": "markdown",
   "id": "1feea3bf",
   "metadata": {},
   "source": [
    "## Update:\n",
    "\n",
    "Model persistence gradually pushed the accuracy of ANY model towards 95+ percent. In the Trials prior, it did appear\n",
    "that the ball tree algorithm was marginally more accurate for this model, as it outperformed kd tree and brute force algorithms despite modelling before them and their persistent accuracy gain."
   ]
  },
  {
   "cell_type": "code",
   "execution_count": 24,
   "id": "72108e38",
   "metadata": {},
   "outputs": [
    {
     "data": {
      "text/plain": [
       "['stroke_model.joblib']"
      ]
     },
     "execution_count": 24,
     "metadata": {},
     "output_type": "execute_result"
    }
   ],
   "source": [
    "# For the sake of future trials, I am dumping a joblib file with this model's experience.\n",
    "from joblib import dump\n",
    "dump(knn, 'stroke_model.joblib')"
   ]
  }
 ],
 "metadata": {
  "kernelspec": {
   "display_name": "Python 3",
   "language": "python",
   "name": "python3"
  },
  "language_info": {
   "codemirror_mode": {
    "name": "ipython",
    "version": 3
   },
   "file_extension": ".py",
   "mimetype": "text/x-python",
   "name": "python",
   "nbconvert_exporter": "python",
   "pygments_lexer": "ipython3",
   "version": "3.8.8"
  }
 },
 "nbformat": 4,
 "nbformat_minor": 5
}
